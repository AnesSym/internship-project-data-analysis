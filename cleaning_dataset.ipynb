{
 "cells": [
  {
   "cell_type": "code",
   "execution_count": 376,
   "metadata": {},
   "outputs": [],
   "source": [
    "import pandas as pd\n",
    "import numpy as np\n",
    "import string\n",
    "import re\n",
    "import nltk"
   ]
  },
  {
   "cell_type": "code",
   "execution_count": 377,
   "metadata": {},
   "outputs": [],
   "source": [
    "df = pd.read_csv('DataScientist.csv')\n",
    "df = df.drop(\"Job Description\", axis=1)\n",
    "df = df.drop(\"Unnamed: 0\", axis=1)\n"
   ]
  },
  {
   "cell_type": "code",
   "execution_count": 378,
   "metadata": {},
   "outputs": [],
   "source": [
    "for i in df.index:\n",
    "    if df.loc[i,\"Easy Apply\"] == \"-1\":\n",
    "        df.loc[i,\"Easy Apply\"] = False\n",
    "df[\"Easy Apply\"]=df[\"Easy Apply\"].astype(bool)"
   ]
  },
  {
   "cell_type": "code",
   "execution_count": 379,
   "metadata": {},
   "outputs": [
    {
     "name": "stdout",
     "output_type": "stream",
     "text": [
      "<class 'pandas.core.frame.DataFrame'>\n",
      "RangeIndex: 3909 entries, 0 to 3908\n",
      "Data columns (total 15 columns):\n",
      " #   Column             Non-Null Count  Dtype  \n",
      "---  ------             --------------  -----  \n",
      " 0   index              3909 non-null   int64  \n",
      " 1   Job Title          3909 non-null   object \n",
      " 2   Salary Estimate    3909 non-null   object \n",
      " 3   Rating             3909 non-null   float64\n",
      " 4   Company Name       3909 non-null   object \n",
      " 5   Location           3909 non-null   object \n",
      " 6   Headquarters       3909 non-null   object \n",
      " 7   Size               3909 non-null   object \n",
      " 8   Founded            3909 non-null   int64  \n",
      " 9   Type of ownership  3909 non-null   object \n",
      " 10  Industry           3909 non-null   object \n",
      " 11  Sector             3909 non-null   object \n",
      " 12  Revenue            3909 non-null   object \n",
      " 13  Competitors        3909 non-null   object \n",
      " 14  Easy Apply         3909 non-null   bool   \n",
      "dtypes: bool(1), float64(1), int64(2), object(11)\n",
      "memory usage: 431.5+ KB\n"
     ]
    }
   ],
   "source": [
    "df.info()"
   ]
  },
  {
   "cell_type": "code",
   "execution_count": 380,
   "metadata": {},
   "outputs": [],
   "source": [
    "#data cleaning\n",
    "df.replace(['-1'], [np.nan], inplace=True)\n",
    "df.replace(['-1.0'], [np.nan], inplace=True)\n",
    "df.replace([-1], [np.nan], inplace=True)"
   ]
  },
  {
   "cell_type": "code",
   "execution_count": 381,
   "metadata": {},
   "outputs": [
    {
     "data": {
      "text/plain": [
       "index                   0\n",
       "Job Title               0\n",
       "Salary Estimate         0\n",
       "Rating                409\n",
       "Company Name            0\n",
       "Location                0\n",
       "Headquarters          240\n",
       "Size                  229\n",
       "Founded               977\n",
       "Type of ownership     229\n",
       "Industry              546\n",
       "Sector                546\n",
       "Revenue               229\n",
       "Competitors          2760\n",
       "Easy Apply              0\n",
       "dtype: int64"
      ]
     },
     "execution_count": 381,
     "metadata": {},
     "output_type": "execute_result"
    }
   ],
   "source": [
    "df.isnull().sum()\n",
    "\n",
    "#df.info()"
   ]
  },
  {
   "cell_type": "code",
   "execution_count": 382,
   "metadata": {},
   "outputs": [
    {
     "data": {
      "text/plain": [
       "144    120\n",
       "175     93\n",
       "151     92\n",
       "140     90\n",
       "122     90\n",
       "      ... \n",
       "53       7\n",
       "185      7\n",
       "173      6\n",
       "26       3\n",
       "74       1\n",
       "Name: 1, Length: 97, dtype: int64"
      ]
     },
     "execution_count": 382,
     "metadata": {},
     "output_type": "execute_result"
    }
   ],
   "source": [
    "#seperating salary estimate into min and max salary \n",
    "df_salary = df[\"Salary Estimate\"].str.split(\"-\",expand=True)\n",
    "minimum_salary = df_salary[0]\n",
    "minimum_salary = minimum_salary.str.replace(\"K\",\" \")\n",
    "maximum_salary = df_salary[1].str.replace('(Glassdoor est.)', ' ',regex=True)\n",
    "maximum_salary = maximum_salary.str.replace('(', ' ',regex=True)\n",
    "maximum_salary = maximum_salary.str.replace(')', ' ',regex=True)\n",
    "maximum_salary = maximum_salary.str.replace('K', ' ',regex=True)\n",
    "maximum_salary = maximum_salary.str.replace('Employer est.', ' ',regex=True)\n",
    "maximum_salary = maximum_salary.str.replace('Per Hour', ' ',regex=True)\n",
    "\n",
    "maximum_salary = maximum_salary.str.replace('$', ' ',regex=True).fillna(0).astype(int)\n",
    "minimum_salary = minimum_salary.str.replace('$', ' ',regex=True).fillna(0).astype(int)\n",
    "maximum_salary.value_counts()\n",
    "\n",
    "\n"
   ]
  },
  {
   "cell_type": "code",
   "execution_count": 383,
   "metadata": {},
   "outputs": [],
   "source": [
    "df['Minimum Salary'] = minimum_salary\n",
    "df['Maximum Salary'] = maximum_salary\n",
    "\n",
    "df.drop('Salary Estimate',axis = 1,inplace = True)\n",
    "df['Company Name'] = df['Company Name'].str.replace('\\n.*', ' ',regex=True)\n",
    "df['Est_Salary']= (df['Minimum Salary']+df['Maximum Salary'])/2\n"
   ]
  },
  {
   "cell_type": "code",
   "execution_count": 384,
   "metadata": {},
   "outputs": [],
   "source": [
    "#seperating location and HQ\n",
    "\n",
    "Location = df[\"Location\"].str.split(\",\",expand=True)\n",
    "Location_city = Location[0]\n",
    "Location_state = Location[1]\n",
    "df[\"Location City\"] = Location_city\n",
    "df[\"Location State\"] = Location_state\n",
    "df.drop(\"Location\",axis = 1, inplace=True)\n",
    "\n",
    "HQ = df[\"Headquarters\"].str.split(\",\",expand=True)\n",
    "HQ_city = HQ[0]\n",
    "HQ_state = HQ[1]\n",
    "df[\"HQ City\"] = HQ_city\n",
    "df[\"HQ State\"] = HQ_state\n",
    "df.drop(\"Headquarters\",axis = 1, inplace=True)\n",
    "\n"
   ]
  },
  {
   "cell_type": "code",
   "execution_count": 385,
   "metadata": {},
   "outputs": [],
   "source": [
    "#seperating job tilte from department\n",
    "\n",
    "department = df[\"Job Title\"].str.split(\",\", expand=True)\n",
    "df[\"Job Title\"], df[\"Department\"] = department[0], department[1]\n",
    "df.drop(\"Department\",axis=1,inplace=True)"
   ]
  },
  {
   "cell_type": "code",
   "execution_count": 386,
   "metadata": {},
   "outputs": [
    {
     "data": {
      "text/plain": [
       "Data Scientist                                       335\n",
       "Data Engineer                                        268\n",
       "Data Analyst                                         264\n",
       "Senior Data Scientist                                104\n",
       "Senior Data Analyst                                   52\n",
       "                                                    ... \n",
       "Principal Device Modeling Engineer                     1\n",
       "SQL/SAS Data Analyst                                   1\n",
       "Marketing Data Analyst Coordinator                     1\n",
       "Greenplum /Big Data Engineer/Architect                 1\n",
       "Patient Safety Physician or Safety Scientist - UK      1\n",
       "Name: Job Title, Length: 1797, dtype: int64"
      ]
     },
     "execution_count": 386,
     "metadata": {},
     "output_type": "execute_result"
    }
   ],
   "source": [
    "df[\"Job Title\"].value_counts()"
   ]
  },
  {
   "cell_type": "code",
   "execution_count": 387,
   "metadata": {},
   "outputs": [],
   "source": [
    "df[\"Job Title\"] = df[\"Job Title\"].str.replace(\" â\",\"\")\n"
   ]
  },
  {
   "cell_type": "code",
   "execution_count": 388,
   "metadata": {},
   "outputs": [
    {
     "data": {
      "text/plain": [
       "Unknown / Non-Applicable            1163\n",
       "$10+ billion (USD)                   599\n",
       "$100 to $500 million (USD)           338\n",
       "$50 to $100 million (USD)            214\n",
       "$2 to $5 billion (USD)               211\n",
       "$10 to $25 million (USD)             191\n",
       "$1 to $2 billion (USD)               180\n",
       "$1 to $5 million (USD)               170\n",
       "$25 to $50 million (USD)             143\n",
       "$5 to $10 billion (USD)              133\n",
       "Less than $1 million (USD)           124\n",
       "$500 million to $1 billion (USD)     114\n",
       "$5 to $10 million (USD)              100\n",
       "Name: Revenue, dtype: int64"
      ]
     },
     "execution_count": 388,
     "metadata": {},
     "output_type": "execute_result"
    }
   ],
   "source": [
    "df[\"Revenue\"].value_counts()"
   ]
  },
  {
   "cell_type": "code",
   "execution_count": 389,
   "metadata": {},
   "outputs": [],
   "source": [
    "df[\"Revenue\"] = df[\"Revenue\"].replace(\"Unknown / Non-Applicable\",np.nan)\n"
   ]
  },
  {
   "cell_type": "code",
   "execution_count": 390,
   "metadata": {},
   "outputs": [],
   "source": [
    "df['Revenue'] = df['Revenue'].str.replace('$', ' ',regex=True)\n",
    "df['Revenue'] = df['Revenue'].str.replace('(USD)', ' ',regex=True)\n",
    "df['Revenue'] = df['Revenue'].str.replace('(', ' ',regex=True)\n",
    "df['Revenue'] = df['Revenue'].str.replace(')', ' ',regex=True)\n",
    "df['Revenue'] = df['Revenue'].str.replace(' ', '',regex=True)\n",
    "df['Revenue'] = df['Revenue'].str.replace('+', '',regex=True)"
   ]
  },
  {
   "cell_type": "code",
   "execution_count": 391,
   "metadata": {},
   "outputs": [
    {
     "data": {
      "text/plain": [
       "10billion               599\n",
       "100to500million         338\n",
       "50to100million          214\n",
       "2to5billion             211\n",
       "10to25million           191\n",
       "1to2billion             180\n",
       "1to5million             170\n",
       "25to50million           143\n",
       "5to10billion            133\n",
       "Lessthan1million        124\n",
       "500millionto1billion    114\n",
       "5to10million            100\n",
       "Name: Revenue, dtype: int64"
      ]
     },
     "execution_count": 391,
     "metadata": {},
     "output_type": "execute_result"
    }
   ],
   "source": [
    "df[\"Revenue\"].value_counts()"
   ]
  },
  {
   "cell_type": "code",
   "execution_count": 392,
   "metadata": {},
   "outputs": [],
   "source": [
    "df['Revenue'] = df['Revenue'].str.replace('2to5billion', '2billionto5billion')\n",
    "df['Revenue'] = df['Revenue'].str.replace('5to10billion ', '5billionto10billion')"
   ]
  },
  {
   "cell_type": "code",
   "execution_count": 393,
   "metadata": {},
   "outputs": [],
   "source": [
    "df['Revenue'] = df['Revenue'].replace('million', ' ')\n",
    "df['Revenue'] = df['Revenue'].replace('10billion', '10billionto11billion')\n",
    "df['Revenue'] = df['Revenue'].str.replace('Lessthan1million', '0millionto1million')\n",
    "df['Revenue'] = df['Revenue'].str.replace('million', ' ')\n",
    "df['Revenue'] = df['Revenue'].str.replace('billion', '000 ')\n"
   ]
  },
  {
   "cell_type": "code",
   "execution_count": 394,
   "metadata": {},
   "outputs": [
    {
     "data": {
      "text/plain": [
       "10000 to11000     599\n",
       "100to500          338\n",
       "50to100           214\n",
       "2000 to5000       211\n",
       "10to25            191\n",
       "1to2000           180\n",
       "1to5              170\n",
       "25to50            143\n",
       "5to10000          133\n",
       "0 to1             124\n",
       "500 to1000        114\n",
       "5to10             100\n",
       "Name: Revenue, dtype: int64"
      ]
     },
     "execution_count": 394,
     "metadata": {},
     "output_type": "execute_result"
    }
   ],
   "source": [
    "df[\"Revenue\"].value_counts()"
   ]
  },
  {
   "cell_type": "code",
   "execution_count": 395,
   "metadata": {},
   "outputs": [],
   "source": [
    "df[\"Revenue\"] = df[\"Revenue\"].str.replace(\" to\",\"to\")\n"
   ]
  },
  {
   "cell_type": "code",
   "execution_count": 396,
   "metadata": {},
   "outputs": [
    {
     "data": {
      "text/plain": [
       "10000to11000     599\n",
       "100to500         338\n",
       "50to100          214\n",
       "2000to5000       211\n",
       "10to25           191\n",
       "1to2000          180\n",
       "1to5             170\n",
       "25to50           143\n",
       "5to10000         133\n",
       "0to1             124\n",
       "500to1000        114\n",
       "5to10            100\n",
       "Name: Revenue, dtype: int64"
      ]
     },
     "execution_count": 396,
     "metadata": {},
     "output_type": "execute_result"
    }
   ],
   "source": [
    "df[\"Revenue\"].value_counts()"
   ]
  },
  {
   "cell_type": "code",
   "execution_count": 397,
   "metadata": {},
   "outputs": [],
   "source": [
    "revenue = df[\"Revenue\"].str.split(\"to\",expand=True)"
   ]
  },
  {
   "cell_type": "code",
   "execution_count": 398,
   "metadata": {},
   "outputs": [],
   "source": [
    "df[\"max revenue (milions)\"] = revenue[1]\n",
    "df[\"min revenue (milions)\"] = revenue[0]"
   ]
  },
  {
   "cell_type": "code",
   "execution_count": 399,
   "metadata": {},
   "outputs": [],
   "source": [
    "df.drop(\"Revenue\",axis=1,inplace=True)"
   ]
  },
  {
   "cell_type": "code",
   "execution_count": 400,
   "metadata": {},
   "outputs": [],
   "source": [
    "df[\"HQ State\"] = df[\"HQ State\"].str.replace(\"Sweden\",\"SWE\")\n",
    "df[\"HQ State\"] = df[\"HQ State\"].str.replace(\"Belgium\",\"BE\")\n",
    "df[\"HQ State\"] = df[\"HQ State\"].str.replace(\"Iran\",\"IR\")\n",
    "df[\"HQ State\"] = df[\"HQ State\"].str.replace(\"United Kingdom\",\"UK\")"
   ]
  },
  {
   "cell_type": "code",
   "execution_count": 401,
   "metadata": {},
   "outputs": [],
   "source": [
    "df[\"Founded\"] = df[\"Founded\"].astype(\"Int32\")\n"
   ]
  },
  {
   "cell_type": "code",
   "execution_count": 402,
   "metadata": {},
   "outputs": [],
   "source": [
    "df[\"Job Title\"] = df[\"Job Title\"].str.replace(\"/\",\"|\")"
   ]
  },
  {
   "cell_type": "code",
   "execution_count": 403,
   "metadata": {},
   "outputs": [],
   "source": [
    "df[\"Company Name\"] = df[\"Company Name\"].astype(str)\n"
   ]
  },
  {
   "cell_type": "code",
   "execution_count": 404,
   "metadata": {},
   "outputs": [],
   "source": [
    "for i in df.index:\n",
    "    df.loc[i,\"index\"] = i\n",
    "        "
   ]
  },
  {
   "cell_type": "code",
   "execution_count": 405,
   "metadata": {},
   "outputs": [],
   "source": [
    "df[\"Type of ownership\"] = df[\"Type of ownership\"].str.replace(\"/\",\"|\")"
   ]
  },
  {
   "cell_type": "code",
   "execution_count": 406,
   "metadata": {},
   "outputs": [],
   "source": [
    "df[\"Size\"] = df[\"Size\"].str.replace(\"employees\",\"\",regex=True)\n",
    "df[\"Size\"] = df[\"Size\"].str.replace(\"+\",\"\",regex=True)\n",
    "df[\"Size\"] = df[\"Size\"].str.replace(\" \",\"\",regex=True)\n"
   ]
  },
  {
   "cell_type": "code",
   "execution_count": 407,
   "metadata": {},
   "outputs": [
    {
     "data": {
      "text/plain": [
       "10000          993\n",
       "51to200        563\n",
       "1001to5000     553\n",
       "1to50          550\n",
       "201to500       418\n",
       "501to1000      307\n",
       "5001to10000    219\n",
       "Unknown         77\n",
       "Name: Size, dtype: int64"
      ]
     },
     "execution_count": 407,
     "metadata": {},
     "output_type": "execute_result"
    }
   ],
   "source": [
    "df[\"Size\"].value_counts()"
   ]
  },
  {
   "cell_type": "code",
   "execution_count": 408,
   "metadata": {},
   "outputs": [],
   "source": [
    "size = df[\"Size\"].str.split(\"to\",expand=True)\n",
    "df[\"min_size_employees\"], df[\"max_size_employees\"] = size[0], size[1]\n"
   ]
  },
  {
   "cell_type": "code",
   "execution_count": 409,
   "metadata": {},
   "outputs": [],
   "source": [
    "df.drop(\"Size\",axis=1,inplace=True)"
   ]
  },
  {
   "cell_type": "code",
   "execution_count": null,
   "metadata": {},
   "outputs": [],
   "source": []
  },
  {
   "cell_type": "code",
   "execution_count": null,
   "metadata": {},
   "outputs": [],
   "source": []
  }
 ],
 "metadata": {
  "kernelspec": {
   "display_name": "venv",
   "language": "python",
   "name": "python3"
  },
  "language_info": {
   "codemirror_mode": {
    "name": "ipython",
    "version": 3
   },
   "file_extension": ".py",
   "mimetype": "text/x-python",
   "name": "python",
   "nbconvert_exporter": "python",
   "pygments_lexer": "ipython3",
   "version": "3.11.2"
  },
  "orig_nbformat": 4
 },
 "nbformat": 4,
 "nbformat_minor": 2
}
