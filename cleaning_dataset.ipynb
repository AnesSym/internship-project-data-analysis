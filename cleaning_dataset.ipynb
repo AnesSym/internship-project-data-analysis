{
 "cells": [
  {
   "cell_type": "code",
<<<<<<< HEAD
   "execution_count": 954,
=======
   "execution_count": 848,
>>>>>>> 256a7dbd8ef0e07116f3cb9c19903e6a2492b116
   "metadata": {},
   "outputs": [],
   "source": [
    "import pandas as pd\n",
    "import numpy as np\n",
    "from collections import defaultdict\n",
    "import string\n",
    "import re\n",
    "import nltk"
   ]
  },
  {
   "cell_type": "code",
<<<<<<< HEAD
   "execution_count": 955,
=======
   "execution_count": 849,
>>>>>>> 256a7dbd8ef0e07116f3cb9c19903e6a2492b116
   "metadata": {},
   "outputs": [
    {
     "data": {
      "text/html": [
       "<div>\n",
       "<style scoped>\n",
       "    .dataframe tbody tr th:only-of-type {\n",
       "        vertical-align: middle;\n",
       "    }\n",
       "\n",
       "    .dataframe tbody tr th {\n",
       "        vertical-align: top;\n",
       "    }\n",
       "\n",
       "    .dataframe thead th {\n",
       "        text-align: right;\n",
       "    }\n",
       "</style>\n",
       "<table border=\"1\" class=\"dataframe\">\n",
       "  <thead>\n",
       "    <tr style=\"text-align: right;\">\n",
       "      <th></th>\n",
       "      <th>index</th>\n",
       "      <th>Job Title</th>\n",
       "      <th>Salary Estimate</th>\n",
       "      <th>Job Description</th>\n",
       "      <th>Rating</th>\n",
       "      <th>Company Name</th>\n",
       "      <th>Location</th>\n",
       "      <th>Headquarters</th>\n",
       "      <th>Size</th>\n",
       "      <th>Founded</th>\n",
       "      <th>Type of ownership</th>\n",
       "      <th>Industry</th>\n",
       "      <th>Sector</th>\n",
       "      <th>Revenue</th>\n",
       "      <th>Competitors</th>\n",
       "      <th>Easy Apply</th>\n",
       "    </tr>\n",
       "  </thead>\n",
       "  <tbody>\n",
       "    <tr>\n",
       "      <th>0</th>\n",
       "      <td>0</td>\n",
       "      <td>Senior Data Scientist</td>\n",
       "      <td>$111K-$181K (Glassdoor est.)</td>\n",
       "      <td>ABOUT HOPPER\\n\\nAt Hopper, we’re on a mission ...</td>\n",
       "      <td>3.5</td>\n",
       "      <td>Hopper\\n3.5</td>\n",
       "      <td>New York, NY</td>\n",
       "      <td>Montreal, Canada</td>\n",
       "      <td>501 to 1000 employees</td>\n",
       "      <td>2007</td>\n",
       "      <td>Company - Private</td>\n",
       "      <td>Travel Agencies</td>\n",
       "      <td>Travel &amp; Tourism</td>\n",
       "      <td>Unknown / Non-Applicable</td>\n",
       "      <td>-1</td>\n",
       "      <td>-1</td>\n",
       "    </tr>\n",
       "    <tr>\n",
       "      <th>1</th>\n",
       "      <td>1</td>\n",
       "      <td>Data Scientist, Product Analytics</td>\n",
       "      <td>$111K-$181K (Glassdoor est.)</td>\n",
       "      <td>At Noom, we use scientifically proven methods ...</td>\n",
       "      <td>4.5</td>\n",
       "      <td>Noom US\\n4.5</td>\n",
       "      <td>New York, NY</td>\n",
       "      <td>New York, NY</td>\n",
       "      <td>1001 to 5000 employees</td>\n",
       "      <td>2008</td>\n",
       "      <td>Company - Private</td>\n",
       "      <td>Health, Beauty, &amp; Fitness</td>\n",
       "      <td>Consumer Services</td>\n",
       "      <td>Unknown / Non-Applicable</td>\n",
       "      <td>-1</td>\n",
       "      <td>-1</td>\n",
       "    </tr>\n",
       "    <tr>\n",
       "      <th>2</th>\n",
       "      <td>2</td>\n",
       "      <td>Data Science Manager</td>\n",
       "      <td>$111K-$181K (Glassdoor est.)</td>\n",
       "      <td>Decode_M\\n\\nhttps://www.decode-m.com/\\n\\nData ...</td>\n",
       "      <td>-1.0</td>\n",
       "      <td>Decode_M</td>\n",
       "      <td>New York, NY</td>\n",
       "      <td>New York, NY</td>\n",
       "      <td>1 to 50 employees</td>\n",
       "      <td>-1</td>\n",
       "      <td>Unknown</td>\n",
       "      <td>-1</td>\n",
       "      <td>-1</td>\n",
       "      <td>Unknown / Non-Applicable</td>\n",
       "      <td>-1</td>\n",
       "      <td>True</td>\n",
       "    </tr>\n",
       "    <tr>\n",
       "      <th>3</th>\n",
       "      <td>3</td>\n",
       "      <td>Data Analyst</td>\n",
       "      <td>$111K-$181K (Glassdoor est.)</td>\n",
       "      <td>Sapphire Digital seeks a dynamic and driven mi...</td>\n",
       "      <td>3.4</td>\n",
       "      <td>Sapphire Digital\\n3.4</td>\n",
       "      <td>Lyndhurst, NJ</td>\n",
       "      <td>Lyndhurst, NJ</td>\n",
       "      <td>201 to 500 employees</td>\n",
       "      <td>2019</td>\n",
       "      <td>Company - Private</td>\n",
       "      <td>Internet</td>\n",
       "      <td>Information Technology</td>\n",
       "      <td>Unknown / Non-Applicable</td>\n",
       "      <td>Zocdoc, Healthgrades</td>\n",
       "      <td>-1</td>\n",
       "    </tr>\n",
       "    <tr>\n",
       "      <th>4</th>\n",
       "      <td>4</td>\n",
       "      <td>Director, Data Science</td>\n",
       "      <td>$111K-$181K (Glassdoor est.)</td>\n",
       "      <td>Director, Data Science - (200537)\\nDescription...</td>\n",
       "      <td>3.4</td>\n",
       "      <td>United Entertainment Group\\n3.4</td>\n",
       "      <td>New York, NY</td>\n",
       "      <td>New York, NY</td>\n",
       "      <td>51 to 200 employees</td>\n",
       "      <td>2007</td>\n",
       "      <td>Company - Private</td>\n",
       "      <td>Advertising &amp; Marketing</td>\n",
       "      <td>Business Services</td>\n",
       "      <td>Unknown / Non-Applicable</td>\n",
       "      <td>BBDO, Grey Group, Droga5</td>\n",
       "      <td>-1</td>\n",
       "    </tr>\n",
       "    <tr>\n",
       "      <th>5</th>\n",
       "      <td>5</td>\n",
       "      <td>Data Scientist</td>\n",
       "      <td>$111K-$181K (Glassdoor est.)</td>\n",
       "      <td>Job Brief\\n\\nThe ideal candidate will have pre...</td>\n",
       "      <td>2.9</td>\n",
       "      <td>IFG Companies\\n2.9</td>\n",
       "      <td>New York, NY</td>\n",
       "      <td>Hartford, CT</td>\n",
       "      <td>201 to 500 employees</td>\n",
       "      <td>1985</td>\n",
       "      <td>Company - Private</td>\n",
       "      <td>Insurance Carriers</td>\n",
       "      <td>Insurance</td>\n",
       "      <td>Unknown / Non-Applicable</td>\n",
       "      <td>Colony Specialty, Markel, RLI</td>\n",
       "      <td>-1</td>\n",
       "    </tr>\n",
       "    <tr>\n",
       "      <th>6</th>\n",
       "      <td>6</td>\n",
       "      <td>Quantitative Researcher</td>\n",
       "      <td>$111K-$181K (Glassdoor est.)</td>\n",
       "      <td>Experience: Entry-level (PhD Program) or Exper...</td>\n",
       "      <td>4.4</td>\n",
       "      <td>PDT Partners\\n4.4</td>\n",
       "      <td>New York, NY</td>\n",
       "      <td>New York, NY</td>\n",
       "      <td>51 to 200 employees</td>\n",
       "      <td>1993</td>\n",
       "      <td>Company - Private</td>\n",
       "      <td>Investment Banking &amp; Asset Management</td>\n",
       "      <td>Finance</td>\n",
       "      <td>Unknown / Non-Applicable</td>\n",
       "      <td>-1</td>\n",
       "      <td>-1</td>\n",
       "    </tr>\n",
       "    <tr>\n",
       "      <th>7</th>\n",
       "      <td>7</td>\n",
       "      <td>Quantitative Research Associate</td>\n",
       "      <td>$111K-$181K (Glassdoor est.)</td>\n",
       "      <td>Seeking a quant to work with senior researcher...</td>\n",
       "      <td>-1.0</td>\n",
       "      <td>Enlightenment Research</td>\n",
       "      <td>New York, NY</td>\n",
       "      <td>New York, NY</td>\n",
       "      <td>1 to 50 employees</td>\n",
       "      <td>-1</td>\n",
       "      <td>Unknown</td>\n",
       "      <td>-1</td>\n",
       "      <td>-1</td>\n",
       "      <td>Unknown / Non-Applicable</td>\n",
       "      <td>-1</td>\n",
       "      <td>True</td>\n",
       "    </tr>\n",
       "    <tr>\n",
       "      <th>8</th>\n",
       "      <td>8</td>\n",
       "      <td>AI Scientist</td>\n",
       "      <td>$111K-$181K (Glassdoor est.)</td>\n",
       "      <td>Paige is a software company helping pathologis...</td>\n",
       "      <td>5.0</td>\n",
       "      <td>Paige\\n5.0</td>\n",
       "      <td>New York, NY</td>\n",
       "      <td>New York, NY</td>\n",
       "      <td>1 to 50 employees</td>\n",
       "      <td>2018</td>\n",
       "      <td>Company - Private</td>\n",
       "      <td>Enterprise Software &amp; Network Solutions</td>\n",
       "      <td>Information Technology</td>\n",
       "      <td>Unknown / Non-Applicable</td>\n",
       "      <td>-1</td>\n",
       "      <td>True</td>\n",
       "    </tr>\n",
       "    <tr>\n",
       "      <th>9</th>\n",
       "      <td>9</td>\n",
       "      <td>Quantitative Researcher</td>\n",
       "      <td>$111K-$181K (Glassdoor est.)</td>\n",
       "      <td>About the Position\\n\\n\\nAt Jane Street, we con...</td>\n",
       "      <td>4.8</td>\n",
       "      <td>Jane Street\\n4.8</td>\n",
       "      <td>New York, NY</td>\n",
       "      <td>New York, NY</td>\n",
       "      <td>501 to 1000 employees</td>\n",
       "      <td>2000</td>\n",
       "      <td>Company - Private</td>\n",
       "      <td>Investment Banking &amp; Asset Management</td>\n",
       "      <td>Finance</td>\n",
       "      <td>Unknown / Non-Applicable</td>\n",
       "      <td>-1</td>\n",
       "      <td>-1</td>\n",
       "    </tr>\n",
       "  </tbody>\n",
       "</table>\n",
       "</div>"
      ],
      "text/plain": [
       "   index                          Job Title               Salary Estimate  \\\n",
       "0      0              Senior Data Scientist  $111K-$181K (Glassdoor est.)   \n",
       "1      1  Data Scientist, Product Analytics  $111K-$181K (Glassdoor est.)   \n",
       "2      2               Data Science Manager  $111K-$181K (Glassdoor est.)   \n",
       "3      3                       Data Analyst  $111K-$181K (Glassdoor est.)   \n",
       "4      4             Director, Data Science  $111K-$181K (Glassdoor est.)   \n",
       "5      5                     Data Scientist  $111K-$181K (Glassdoor est.)   \n",
       "6      6            Quantitative Researcher  $111K-$181K (Glassdoor est.)   \n",
       "7      7    Quantitative Research Associate  $111K-$181K (Glassdoor est.)   \n",
       "8      8                       AI Scientist  $111K-$181K (Glassdoor est.)   \n",
       "9      9            Quantitative Researcher  $111K-$181K (Glassdoor est.)   \n",
       "\n",
       "                                     Job Description  Rating  \\\n",
       "0  ABOUT HOPPER\\n\\nAt Hopper, we’re on a mission ...     3.5   \n",
       "1  At Noom, we use scientifically proven methods ...     4.5   \n",
       "2  Decode_M\\n\\nhttps://www.decode-m.com/\\n\\nData ...    -1.0   \n",
       "3  Sapphire Digital seeks a dynamic and driven mi...     3.4   \n",
       "4  Director, Data Science - (200537)\\nDescription...     3.4   \n",
       "5  Job Brief\\n\\nThe ideal candidate will have pre...     2.9   \n",
       "6  Experience: Entry-level (PhD Program) or Exper...     4.4   \n",
       "7  Seeking a quant to work with senior researcher...    -1.0   \n",
       "8  Paige is a software company helping pathologis...     5.0   \n",
       "9  About the Position\\n\\n\\nAt Jane Street, we con...     4.8   \n",
       "\n",
       "                      Company Name       Location      Headquarters  \\\n",
       "0                      Hopper\\n3.5   New York, NY  Montreal, Canada   \n",
       "1                     Noom US\\n4.5   New York, NY      New York, NY   \n",
       "2                         Decode_M   New York, NY      New York, NY   \n",
       "3            Sapphire Digital\\n3.4  Lyndhurst, NJ     Lyndhurst, NJ   \n",
       "4  United Entertainment Group\\n3.4   New York, NY      New York, NY   \n",
       "5               IFG Companies\\n2.9   New York, NY      Hartford, CT   \n",
       "6                PDT Partners\\n4.4   New York, NY      New York, NY   \n",
       "7           Enlightenment Research   New York, NY      New York, NY   \n",
       "8                       Paige\\n5.0   New York, NY      New York, NY   \n",
       "9                 Jane Street\\n4.8   New York, NY      New York, NY   \n",
       "\n",
       "                     Size  Founded  Type of ownership  \\\n",
       "0   501 to 1000 employees     2007  Company - Private   \n",
       "1  1001 to 5000 employees     2008  Company - Private   \n",
       "2       1 to 50 employees       -1            Unknown   \n",
       "3    201 to 500 employees     2019  Company - Private   \n",
       "4     51 to 200 employees     2007  Company - Private   \n",
       "5    201 to 500 employees     1985  Company - Private   \n",
       "6     51 to 200 employees     1993  Company - Private   \n",
       "7       1 to 50 employees       -1            Unknown   \n",
       "8       1 to 50 employees     2018  Company - Private   \n",
       "9   501 to 1000 employees     2000  Company - Private   \n",
       "\n",
       "                                  Industry                  Sector  \\\n",
       "0                          Travel Agencies        Travel & Tourism   \n",
       "1                Health, Beauty, & Fitness       Consumer Services   \n",
       "2                                       -1                      -1   \n",
       "3                                 Internet  Information Technology   \n",
       "4                  Advertising & Marketing       Business Services   \n",
       "5                       Insurance Carriers               Insurance   \n",
       "6    Investment Banking & Asset Management                 Finance   \n",
       "7                                       -1                      -1   \n",
       "8  Enterprise Software & Network Solutions  Information Technology   \n",
       "9    Investment Banking & Asset Management                 Finance   \n",
       "\n",
       "                    Revenue                    Competitors Easy Apply  \n",
       "0  Unknown / Non-Applicable                             -1         -1  \n",
       "1  Unknown / Non-Applicable                             -1         -1  \n",
       "2  Unknown / Non-Applicable                             -1       True  \n",
       "3  Unknown / Non-Applicable           Zocdoc, Healthgrades         -1  \n",
       "4  Unknown / Non-Applicable       BBDO, Grey Group, Droga5         -1  \n",
       "5  Unknown / Non-Applicable  Colony Specialty, Markel, RLI         -1  \n",
       "6  Unknown / Non-Applicable                             -1         -1  \n",
       "7  Unknown / Non-Applicable                             -1       True  \n",
       "8  Unknown / Non-Applicable                             -1       True  \n",
       "9  Unknown / Non-Applicable                             -1         -1  "
      ]
     },
<<<<<<< HEAD
     "execution_count": 955,
=======
     "execution_count": 849,
>>>>>>> 256a7dbd8ef0e07116f3cb9c19903e6a2492b116
     "metadata": {},
     "output_type": "execute_result"
    }
   ],
   "source": [
    "df = pd.read_csv('DataScientist.csv',index_col=0) #index_col specifies the index column so the unnamed column doesnt appear\n",
    "#df = df.drop(\"Job Description\", axis=1)\n",
    "df.head(10)\n",
    "\n",
    "\n",
    "\n"
   ]
  },
  {
   "cell_type": "code",
<<<<<<< HEAD
   "execution_count": 956,
=======
   "execution_count": 850,
>>>>>>> 256a7dbd8ef0e07116f3cb9c19903e6a2492b116
   "metadata": {},
   "outputs": [
    {
     "name": "stdout",
     "output_type": "stream",
     "text": [
      "<class 'pandas.core.frame.DataFrame'>\n",
      "Int64Index: 3909 entries, 0 to 3908\n",
      "Data columns (total 16 columns):\n",
      " #   Column             Non-Null Count  Dtype  \n",
      "---  ------             --------------  -----  \n",
      " 0   index              3909 non-null   int64  \n",
      " 1   Job Title          3909 non-null   object \n",
      " 2   Salary Estimate    3909 non-null   object \n",
      " 3   Job Description    3909 non-null   object \n",
      " 4   Rating             3909 non-null   float64\n",
      " 5   Company Name       3909 non-null   object \n",
      " 6   Location           3909 non-null   object \n",
      " 7   Headquarters       3909 non-null   object \n",
      " 8   Size               3909 non-null   object \n",
      " 9   Founded            3909 non-null   int64  \n",
      " 10  Type of ownership  3909 non-null   object \n",
      " 11  Industry           3909 non-null   object \n",
      " 12  Sector             3909 non-null   object \n",
      " 13  Revenue            3909 non-null   object \n",
      " 14  Competitors        3909 non-null   object \n",
      " 15  Easy Apply         3909 non-null   object \n",
      "dtypes: float64(1), int64(2), object(13)\n",
      "memory usage: 519.2+ KB\n"
     ]
    }
   ],
   "source": [
    "df.info()"
   ]
  },
  {
   "cell_type": "code",
<<<<<<< HEAD
   "execution_count": 957,
=======
   "execution_count": 851,
>>>>>>> 256a7dbd8ef0e07116f3cb9c19903e6a2492b116
   "metadata": {},
   "outputs": [
    {
     "data": {
      "text/plain": [
       "False    3745\n",
       "True      164\n",
       "Name: Easy Apply, dtype: int64"
      ]
     },
<<<<<<< HEAD
     "execution_count": 957,
=======
     "execution_count": 851,
>>>>>>> 256a7dbd8ef0e07116f3cb9c19903e6a2492b116
     "metadata": {},
     "output_type": "execute_result"
    }
   ],
   "source": [
    "def convert_String_to_Bool(entry):\n",
    "    \"\"\"Converting column to bool values in column \"Easy Apply\"\n",
    "\n",
    "    Args:\n",
    "        entry (str): column consisted of strings \n",
    "\n",
    "    Returns:\n",
    "        bool : bool type column\n",
    "    \"\"\"\n",
    "    \n",
    "    if entry == \"-1\":\n",
    "        return False\n",
    "    return True\n",
    "\n",
    "df[\"Easy Apply\"] = df[\"Easy Apply\"].apply(lambda x : convert_String_to_Bool(x))\n",
    "df[\"Easy Apply\"].value_counts()"
   ]
  },
  {
   "cell_type": "code",
<<<<<<< HEAD
   "execution_count": 958,
=======
   "execution_count": 852,
>>>>>>> 256a7dbd8ef0e07116f3cb9c19903e6a2492b116
   "metadata": {},
   "outputs": [
    {
     "name": "stdout",
     "output_type": "stream",
     "text": [
      "<class 'pandas.core.frame.DataFrame'>\n",
      "Int64Index: 3909 entries, 0 to 3908\n",
      "Data columns (total 16 columns):\n",
      " #   Column             Non-Null Count  Dtype  \n",
      "---  ------             --------------  -----  \n",
      " 0   index              3909 non-null   int64  \n",
      " 1   Job Title          3909 non-null   object \n",
      " 2   Salary Estimate    3909 non-null   object \n",
      " 3   Job Description    3909 non-null   object \n",
      " 4   Rating             3909 non-null   float64\n",
      " 5   Company Name       3909 non-null   object \n",
      " 6   Location           3909 non-null   object \n",
      " 7   Headquarters       3909 non-null   object \n",
      " 8   Size               3909 non-null   object \n",
      " 9   Founded            3909 non-null   int64  \n",
      " 10  Type of ownership  3909 non-null   object \n",
      " 11  Industry           3909 non-null   object \n",
      " 12  Sector             3909 non-null   object \n",
      " 13  Revenue            3909 non-null   object \n",
      " 14  Competitors        3909 non-null   object \n",
      " 15  Easy Apply         3909 non-null   bool   \n",
      "dtypes: bool(1), float64(1), int64(2), object(12)\n",
      "memory usage: 492.4+ KB\n"
     ]
    }
   ],
   "source": [
    "df.info()"
   ]
  },
  {
   "cell_type": "code",
<<<<<<< HEAD
   "execution_count": 959,
=======
   "execution_count": 853,
>>>>>>> 256a7dbd8ef0e07116f3cb9c19903e6a2492b116
   "metadata": {},
   "outputs": [],
   "source": [
    "\n",
    "df.replace((['-1',\"-1.0\",-1]), [np.nan,np.nan,np.nan], inplace=True) # by looking at the data set we can tell that -1 is a replacment for a None value so were changing all -1 to NaN"
   ]
  },
  {
   "cell_type": "code",
<<<<<<< HEAD
   "execution_count": 960,
=======
   "execution_count": 854,
>>>>>>> 256a7dbd8ef0e07116f3cb9c19903e6a2492b116
   "metadata": {},
   "outputs": [
    {
     "data": {
      "text/html": [
       "<div>\n",
       "<style scoped>\n",
       "    .dataframe tbody tr th:only-of-type {\n",
       "        vertical-align: middle;\n",
       "    }\n",
       "\n",
       "    .dataframe tbody tr th {\n",
       "        vertical-align: top;\n",
       "    }\n",
       "\n",
       "    .dataframe thead th {\n",
       "        text-align: right;\n",
       "    }\n",
       "</style>\n",
       "<table border=\"1\" class=\"dataframe\">\n",
       "  <thead>\n",
       "    <tr style=\"text-align: right;\">\n",
       "      <th></th>\n",
       "      <th>index</th>\n",
       "      <th>Job Title</th>\n",
       "      <th>Salary Estimate</th>\n",
       "      <th>Job Description</th>\n",
       "      <th>Rating</th>\n",
       "      <th>Company Name</th>\n",
       "      <th>Location</th>\n",
       "      <th>Headquarters</th>\n",
       "      <th>Size</th>\n",
       "      <th>Founded</th>\n",
       "      <th>Type of ownership</th>\n",
       "      <th>Industry</th>\n",
       "      <th>Sector</th>\n",
       "      <th>Revenue</th>\n",
       "      <th>Competitors</th>\n",
       "      <th>Easy Apply</th>\n",
       "    </tr>\n",
       "  </thead>\n",
       "  <tbody>\n",
       "    <tr>\n",
       "      <th>0</th>\n",
       "      <td>0</td>\n",
       "      <td>Senior Data Scientist</td>\n",
       "      <td>$111K-$181K (Glassdoor est.)</td>\n",
       "      <td>ABOUT HOPPER\\n\\nAt Hopper, we’re on a mission ...</td>\n",
       "      <td>3.5</td>\n",
       "      <td>Hopper\\n3.5</td>\n",
       "      <td>New York, NY</td>\n",
       "      <td>Montreal, Canada</td>\n",
       "      <td>501 to 1000 employees</td>\n",
       "      <td>2007.0</td>\n",
       "      <td>Company - Private</td>\n",
       "      <td>Travel Agencies</td>\n",
       "      <td>Travel &amp; Tourism</td>\n",
       "      <td>Unknown / Non-Applicable</td>\n",
       "      <td>NaN</td>\n",
       "      <td>False</td>\n",
       "    </tr>\n",
       "    <tr>\n",
       "      <th>1</th>\n",
       "      <td>1</td>\n",
       "      <td>Data Scientist, Product Analytics</td>\n",
       "      <td>$111K-$181K (Glassdoor est.)</td>\n",
       "      <td>At Noom, we use scientifically proven methods ...</td>\n",
       "      <td>4.5</td>\n",
       "      <td>Noom US\\n4.5</td>\n",
       "      <td>New York, NY</td>\n",
       "      <td>New York, NY</td>\n",
       "      <td>1001 to 5000 employees</td>\n",
       "      <td>2008.0</td>\n",
       "      <td>Company - Private</td>\n",
       "      <td>Health, Beauty, &amp; Fitness</td>\n",
       "      <td>Consumer Services</td>\n",
       "      <td>Unknown / Non-Applicable</td>\n",
       "      <td>NaN</td>\n",
       "      <td>False</td>\n",
       "    </tr>\n",
       "    <tr>\n",
       "      <th>2</th>\n",
       "      <td>2</td>\n",
       "      <td>Data Science Manager</td>\n",
       "      <td>$111K-$181K (Glassdoor est.)</td>\n",
       "      <td>Decode_M\\n\\nhttps://www.decode-m.com/\\n\\nData ...</td>\n",
       "      <td>NaN</td>\n",
       "      <td>Decode_M</td>\n",
       "      <td>New York, NY</td>\n",
       "      <td>New York, NY</td>\n",
       "      <td>1 to 50 employees</td>\n",
       "      <td>NaN</td>\n",
       "      <td>Unknown</td>\n",
       "      <td>NaN</td>\n",
       "      <td>NaN</td>\n",
       "      <td>Unknown / Non-Applicable</td>\n",
       "      <td>NaN</td>\n",
       "      <td>True</td>\n",
       "    </tr>\n",
       "    <tr>\n",
       "      <th>3</th>\n",
       "      <td>3</td>\n",
       "      <td>Data Analyst</td>\n",
       "      <td>$111K-$181K (Glassdoor est.)</td>\n",
       "      <td>Sapphire Digital seeks a dynamic and driven mi...</td>\n",
       "      <td>3.4</td>\n",
       "      <td>Sapphire Digital\\n3.4</td>\n",
       "      <td>Lyndhurst, NJ</td>\n",
       "      <td>Lyndhurst, NJ</td>\n",
       "      <td>201 to 500 employees</td>\n",
       "      <td>2019.0</td>\n",
       "      <td>Company - Private</td>\n",
       "      <td>Internet</td>\n",
       "      <td>Information Technology</td>\n",
       "      <td>Unknown / Non-Applicable</td>\n",
       "      <td>Zocdoc, Healthgrades</td>\n",
       "      <td>False</td>\n",
       "    </tr>\n",
       "    <tr>\n",
       "      <th>4</th>\n",
       "      <td>4</td>\n",
       "      <td>Director, Data Science</td>\n",
       "      <td>$111K-$181K (Glassdoor est.)</td>\n",
       "      <td>Director, Data Science - (200537)\\nDescription...</td>\n",
       "      <td>3.4</td>\n",
       "      <td>United Entertainment Group\\n3.4</td>\n",
       "      <td>New York, NY</td>\n",
       "      <td>New York, NY</td>\n",
       "      <td>51 to 200 employees</td>\n",
       "      <td>2007.0</td>\n",
       "      <td>Company - Private</td>\n",
       "      <td>Advertising &amp; Marketing</td>\n",
       "      <td>Business Services</td>\n",
       "      <td>Unknown / Non-Applicable</td>\n",
       "      <td>BBDO, Grey Group, Droga5</td>\n",
       "      <td>False</td>\n",
       "    </tr>\n",
       "  </tbody>\n",
       "</table>\n",
       "</div>"
      ],
      "text/plain": [
       "   index                          Job Title               Salary Estimate  \\\n",
       "0      0              Senior Data Scientist  $111K-$181K (Glassdoor est.)   \n",
       "1      1  Data Scientist, Product Analytics  $111K-$181K (Glassdoor est.)   \n",
       "2      2               Data Science Manager  $111K-$181K (Glassdoor est.)   \n",
       "3      3                       Data Analyst  $111K-$181K (Glassdoor est.)   \n",
       "4      4             Director, Data Science  $111K-$181K (Glassdoor est.)   \n",
       "\n",
       "                                     Job Description  Rating  \\\n",
       "0  ABOUT HOPPER\\n\\nAt Hopper, we’re on a mission ...     3.5   \n",
       "1  At Noom, we use scientifically proven methods ...     4.5   \n",
       "2  Decode_M\\n\\nhttps://www.decode-m.com/\\n\\nData ...     NaN   \n",
       "3  Sapphire Digital seeks a dynamic and driven mi...     3.4   \n",
       "4  Director, Data Science - (200537)\\nDescription...     3.4   \n",
       "\n",
       "                      Company Name       Location      Headquarters  \\\n",
       "0                      Hopper\\n3.5   New York, NY  Montreal, Canada   \n",
       "1                     Noom US\\n4.5   New York, NY      New York, NY   \n",
       "2                         Decode_M   New York, NY      New York, NY   \n",
       "3            Sapphire Digital\\n3.4  Lyndhurst, NJ     Lyndhurst, NJ   \n",
       "4  United Entertainment Group\\n3.4   New York, NY      New York, NY   \n",
       "\n",
       "                     Size  Founded  Type of ownership  \\\n",
       "0   501 to 1000 employees   2007.0  Company - Private   \n",
       "1  1001 to 5000 employees   2008.0  Company - Private   \n",
       "2       1 to 50 employees      NaN            Unknown   \n",
       "3    201 to 500 employees   2019.0  Company - Private   \n",
       "4     51 to 200 employees   2007.0  Company - Private   \n",
       "\n",
       "                    Industry                  Sector  \\\n",
       "0            Travel Agencies        Travel & Tourism   \n",
       "1  Health, Beauty, & Fitness       Consumer Services   \n",
       "2                        NaN                     NaN   \n",
       "3                   Internet  Information Technology   \n",
       "4    Advertising & Marketing       Business Services   \n",
       "\n",
       "                    Revenue               Competitors  Easy Apply  \n",
       "0  Unknown / Non-Applicable                       NaN       False  \n",
       "1  Unknown / Non-Applicable                       NaN       False  \n",
       "2  Unknown / Non-Applicable                       NaN        True  \n",
       "3  Unknown / Non-Applicable      Zocdoc, Healthgrades       False  \n",
       "4  Unknown / Non-Applicable  BBDO, Grey Group, Droga5       False  "
      ]
     },
<<<<<<< HEAD
     "execution_count": 960,
=======
     "execution_count": 854,
>>>>>>> 256a7dbd8ef0e07116f3cb9c19903e6a2492b116
     "metadata": {},
     "output_type": "execute_result"
    }
   ],
   "source": [
    "df.head()"
   ]
  },
  {
   "cell_type": "code",
<<<<<<< HEAD
   "execution_count": 961,
=======
   "execution_count": 855,
>>>>>>> 256a7dbd8ef0e07116f3cb9c19903e6a2492b116
   "metadata": {},
   "outputs": [
    {
     "data": {
      "text/plain": [
       "index                   0\n",
       "Job Title               0\n",
       "Salary Estimate         0\n",
       "Job Description         0\n",
       "Rating                409\n",
       "Company Name            0\n",
       "Location                0\n",
       "Headquarters          240\n",
       "Size                  229\n",
       "Founded               977\n",
       "Type of ownership     229\n",
       "Industry              546\n",
       "Sector                546\n",
       "Revenue               229\n",
       "Competitors          2760\n",
       "Easy Apply              0\n",
       "dtype: int64"
      ]
     },
<<<<<<< HEAD
     "execution_count": 961,
=======
     "execution_count": 855,
>>>>>>> 256a7dbd8ef0e07116f3cb9c19903e6a2492b116
     "metadata": {},
     "output_type": "execute_result"
    }
   ],
   "source": [
    "df.isnull().sum()\n",
    "\n",
    "#df.info()"
   ]
  },
  {
   "cell_type": "code",
<<<<<<< HEAD
   "execution_count": 962,
=======
   "execution_count": 856,
>>>>>>> 256a7dbd8ef0e07116f3cb9c19903e6a2492b116
   "metadata": {},
   "outputs": [
    {
     "data": {
      "text/plain": [
       "46     149\n",
       "39     127\n",
       "55     124\n",
       "74     120\n",
       "93     101\n",
       "      ... \n",
       "59      12\n",
       "17      11\n",
       "66       9\n",
       "10       3\n",
       "146      3\n",
       "Name: Minimum Salary, Length: 82, dtype: int64"
      ]
     },
<<<<<<< HEAD
     "execution_count": 962,
=======
     "execution_count": 856,
>>>>>>> 256a7dbd8ef0e07116f3cb9c19903e6a2492b116
     "metadata": {},
     "output_type": "execute_result"
    }
   ],
   "source": [
    "def salary_parser_min(salary_string: str):\n",
    "  \"\"\"Creating a new column for minimum salary\n",
    "\n",
    "  Args:\n",
    "      salary_string (str): Salary Estitmate column which we are splitting into 2 new columns being minimum and maximum\n",
    "\n",
    "  Returns:\n",
    "      str : returns the first column after splitting the args column\n",
    "  \"\"\"\n",
    "  salary_split = salary_string.split()\n",
    "  salary = salary_split[0]\n",
    "  del salary_split\n",
    "  salary = salary.replace(\"K\", \"\")\n",
    "  salary = salary.replace(\"$\", \"\")\n",
    "  salary_range = salary.split(\"-\")\n",
    "  return salary_range[0]\n",
    "\n",
    "df[\"Minimum Salary\"] = df[\"Salary Estimate\"].apply(lambda x : salary_parser_min(x))\n",
    "#df[\"Minimum Salary\"] = df[\"Minimum Salary\"].astype(int)\n",
    "\n",
    "df[\"Minimum Salary\"].value_counts()\n",
    "\n",
    "\n"
   ]
  },
  {
   "cell_type": "code",
<<<<<<< HEAD
   "execution_count": 963,
=======
   "execution_count": 857,
>>>>>>> 256a7dbd8ef0e07116f3cb9c19903e6a2492b116
   "metadata": {},
   "outputs": [
    {
     "name": "stdout",
     "output_type": "stream",
     "text": [
      "<class 'pandas.core.frame.DataFrame'>\n",
      "Int64Index: 3909 entries, 0 to 3908\n",
      "Data columns (total 17 columns):\n",
      " #   Column             Non-Null Count  Dtype  \n",
      "---  ------             --------------  -----  \n",
      " 0   index              3909 non-null   int64  \n",
      " 1   Job Title          3909 non-null   object \n",
      " 2   Salary Estimate    3909 non-null   object \n",
      " 3   Job Description    3909 non-null   object \n",
      " 4   Rating             3500 non-null   float64\n",
      " 5   Company Name       3909 non-null   object \n",
      " 6   Location           3909 non-null   object \n",
      " 7   Headquarters       3669 non-null   object \n",
      " 8   Size               3680 non-null   object \n",
      " 9   Founded            2932 non-null   float64\n",
      " 10  Type of ownership  3680 non-null   object \n",
      " 11  Industry           3363 non-null   object \n",
      " 12  Sector             3363 non-null   object \n",
      " 13  Revenue            3680 non-null   object \n",
      " 14  Competitors        1149 non-null   object \n",
      " 15  Easy Apply         3909 non-null   bool   \n",
      " 16  Minimum Salary     3909 non-null   object \n",
      "dtypes: bool(1), float64(2), int64(1), object(13)\n",
      "memory usage: 523.0+ KB\n"
     ]
    }
   ],
   "source": [
    "df.info()"
   ]
  },
  {
   "cell_type": "code",
<<<<<<< HEAD
   "execution_count": 964,
=======
   "execution_count": 858,
>>>>>>> 256a7dbd8ef0e07116f3cb9c19903e6a2492b116
   "metadata": {},
   "outputs": [
    {
     "data": {
      "text/plain": [
       "46     149\n",
       "39     127\n",
       "55     124\n",
       "74     120\n",
       "93     101\n",
       "      ... \n",
       "59      12\n",
       "17      11\n",
       "66       9\n",
       "10       3\n",
       "146      3\n",
       "Name: Minimum Salary, Length: 82, dtype: int64"
      ]
     },
<<<<<<< HEAD
     "execution_count": 964,
=======
     "execution_count": 858,
>>>>>>> 256a7dbd8ef0e07116f3cb9c19903e6a2492b116
     "metadata": {},
     "output_type": "execute_result"
    }
   ],
   "source": [
    "def salary_parser_max(salary_string: str):\n",
    "  \"\"\"Creating a new column for maximum salary\n",
    "\n",
    "  Args:\n",
    "      salary_string (str): Salary Estitmate column which we are splitting into 2 new columns being minimum and maximum\n",
    "\n",
    "  Returns:\n",
    "      str : returns the second column after splitting the args column\n",
    "  \"\"\"\n",
    "  salary_split = salary_string.split()\n",
    "  salary = salary_split[0]\n",
    "  del salary_split\n",
    "  salary = salary.replace(\"K\", \"\")\n",
    "  salary = salary.replace(\"$\", \"\")\n",
    "  salary = salary.replace(\"(Employer\",\"\")\n",
    "  salary_range = salary.split(\"-\")\n",
    "  return salary_range[-1]\n",
    "\n",
    "df[\"Maximum Salary\"] = df[\"Salary Estimate\"].apply(lambda x : salary_parser_max(x))\n",
    "df[\"Maximum Salary\"] = df[\"Maximum Salary\"].astype(float)\n",
    "\n",
    "df[\"Minimum Salary\"].value_counts()\n",
    "\n"
   ]
  },
  {
   "cell_type": "code",
   "execution_count": null,
   "metadata": {},
   "outputs": [],
   "source": []
  },
  {
   "cell_type": "code",
<<<<<<< HEAD
   "execution_count": 965,
=======
   "execution_count": 859,
>>>>>>> 256a7dbd8ef0e07116f3cb9c19903e6a2492b116
   "metadata": {},
   "outputs": [],
   "source": [
    "df.drop('Salary Estimate',axis = 1,inplace = True)\n",
    "df['Company Name'] = df['Company Name'].str.replace('\\n.*', ' ',regex=True) #removing \\n. from the column \"company name\"\n",
    "#df['Est_Salary']= (df['Minimum Salary']+df['Maximum Salary'])/2"
   ]
  },
  {
   "cell_type": "code",
<<<<<<< HEAD
   "execution_count": 966,
=======
   "execution_count": 860,
>>>>>>> 256a7dbd8ef0e07116f3cb9c19903e6a2492b116
   "metadata": {},
   "outputs": [
    {
     "data": {
      "text/plain": [
       "0     New York, NY\n",
       "1     New York, NY\n",
       "2     New York, NY\n",
       "3    Lyndhurst, NJ\n",
       "4     New York, NY\n",
       "5     New York, NY\n",
       "6     New York, NY\n",
       "7     New York, NY\n",
       "8     New York, NY\n",
       "9     New York, NY\n",
       "Name: Location, dtype: object"
      ]
     },
<<<<<<< HEAD
     "execution_count": 966,
=======
     "execution_count": 860,
>>>>>>> 256a7dbd8ef0e07116f3cb9c19903e6a2492b116
     "metadata": {},
     "output_type": "execute_result"
    }
   ],
   "source": [
    "df[\"Location\"].head(10)"
   ]
  },
  {
   "cell_type": "code",
<<<<<<< HEAD
   "execution_count": 967,
=======
   "execution_count": 861,
>>>>>>> 256a7dbd8ef0e07116f3cb9c19903e6a2492b116
   "metadata": {},
   "outputs": [
    {
     "data": {
      "text/html": [
       "<div>\n",
       "<style scoped>\n",
       "    .dataframe tbody tr th:only-of-type {\n",
       "        vertical-align: middle;\n",
       "    }\n",
       "\n",
       "    .dataframe tbody tr th {\n",
       "        vertical-align: top;\n",
       "    }\n",
       "\n",
       "    .dataframe thead th {\n",
       "        text-align: right;\n",
       "    }\n",
       "</style>\n",
       "<table border=\"1\" class=\"dataframe\">\n",
       "  <thead>\n",
       "    <tr style=\"text-align: right;\">\n",
       "      <th></th>\n",
       "      <th>index</th>\n",
       "      <th>Job Title</th>\n",
       "      <th>Job Description</th>\n",
       "      <th>Rating</th>\n",
       "      <th>Company Name</th>\n",
       "      <th>Location</th>\n",
       "      <th>Headquarters</th>\n",
       "      <th>Size</th>\n",
       "      <th>Founded</th>\n",
       "      <th>Type of ownership</th>\n",
       "      <th>...</th>\n",
       "      <th>Sector</th>\n",
       "      <th>Revenue</th>\n",
       "      <th>Competitors</th>\n",
       "      <th>Easy Apply</th>\n",
       "      <th>Minimum Salary</th>\n",
       "      <th>Maximum Salary</th>\n",
       "      <th>Location_City</th>\n",
       "      <th>Location_State</th>\n",
       "      <th>HQ_City</th>\n",
       "      <th>HQ_State</th>\n",
       "    </tr>\n",
       "  </thead>\n",
       "  <tbody>\n",
       "    <tr>\n",
       "      <th>0</th>\n",
       "      <td>0</td>\n",
       "      <td>Senior Data Scientist</td>\n",
       "      <td>ABOUT HOPPER\\n\\nAt Hopper, we’re on a mission ...</td>\n",
       "      <td>3.5</td>\n",
       "      <td>Hopper</td>\n",
       "      <td>New York, NY</td>\n",
       "      <td>Montreal, Canada</td>\n",
       "      <td>501 to 1000 employees</td>\n",
       "      <td>2007.0</td>\n",
       "      <td>Company - Private</td>\n",
       "      <td>...</td>\n",
       "      <td>Travel &amp; Tourism</td>\n",
       "      <td>Unknown / Non-Applicable</td>\n",
       "      <td>NaN</td>\n",
       "      <td>False</td>\n",
       "      <td>111</td>\n",
       "      <td>181.0</td>\n",
       "      <td>NewYork</td>\n",
       "      <td>NY</td>\n",
       "      <td>Montreal</td>\n",
       "      <td>Canada</td>\n",
       "    </tr>\n",
       "    <tr>\n",
       "      <th>1</th>\n",
       "      <td>1</td>\n",
       "      <td>Data Scientist, Product Analytics</td>\n",
       "      <td>At Noom, we use scientifically proven methods ...</td>\n",
       "      <td>4.5</td>\n",
       "      <td>Noom US</td>\n",
       "      <td>New York, NY</td>\n",
       "      <td>New York, NY</td>\n",
       "      <td>1001 to 5000 employees</td>\n",
       "      <td>2008.0</td>\n",
       "      <td>Company - Private</td>\n",
       "      <td>...</td>\n",
       "      <td>Consumer Services</td>\n",
       "      <td>Unknown / Non-Applicable</td>\n",
       "      <td>NaN</td>\n",
       "      <td>False</td>\n",
       "      <td>111</td>\n",
       "      <td>181.0</td>\n",
       "      <td>NewYork</td>\n",
       "      <td>NY</td>\n",
       "      <td>NewYork</td>\n",
       "      <td>NY</td>\n",
       "    </tr>\n",
       "    <tr>\n",
       "      <th>2</th>\n",
       "      <td>2</td>\n",
       "      <td>Data Science Manager</td>\n",
       "      <td>Decode_M\\n\\nhttps://www.decode-m.com/\\n\\nData ...</td>\n",
       "      <td>NaN</td>\n",
       "      <td>Decode_M</td>\n",
       "      <td>New York, NY</td>\n",
       "      <td>New York, NY</td>\n",
       "      <td>1 to 50 employees</td>\n",
       "      <td>NaN</td>\n",
       "      <td>Unknown</td>\n",
       "      <td>...</td>\n",
       "      <td>NaN</td>\n",
       "      <td>Unknown / Non-Applicable</td>\n",
       "      <td>NaN</td>\n",
       "      <td>True</td>\n",
       "      <td>111</td>\n",
       "      <td>181.0</td>\n",
       "      <td>NewYork</td>\n",
       "      <td>NY</td>\n",
       "      <td>NewYork</td>\n",
       "      <td>NY</td>\n",
       "    </tr>\n",
       "    <tr>\n",
       "      <th>3</th>\n",
       "      <td>3</td>\n",
       "      <td>Data Analyst</td>\n",
       "      <td>Sapphire Digital seeks a dynamic and driven mi...</td>\n",
       "      <td>3.4</td>\n",
       "      <td>Sapphire Digital</td>\n",
       "      <td>Lyndhurst, NJ</td>\n",
       "      <td>Lyndhurst, NJ</td>\n",
       "      <td>201 to 500 employees</td>\n",
       "      <td>2019.0</td>\n",
       "      <td>Company - Private</td>\n",
       "      <td>...</td>\n",
       "      <td>Information Technology</td>\n",
       "      <td>Unknown / Non-Applicable</td>\n",
       "      <td>Zocdoc, Healthgrades</td>\n",
       "      <td>False</td>\n",
       "      <td>111</td>\n",
       "      <td>181.0</td>\n",
       "      <td>Lyndhurst</td>\n",
       "      <td>NJ</td>\n",
       "      <td>Lyndhurst</td>\n",
       "      <td>NJ</td>\n",
       "    </tr>\n",
       "    <tr>\n",
       "      <th>4</th>\n",
       "      <td>4</td>\n",
       "      <td>Director, Data Science</td>\n",
       "      <td>Director, Data Science - (200537)\\nDescription...</td>\n",
       "      <td>3.4</td>\n",
       "      <td>United Entertainment Group</td>\n",
       "      <td>New York, NY</td>\n",
       "      <td>New York, NY</td>\n",
       "      <td>51 to 200 employees</td>\n",
       "      <td>2007.0</td>\n",
       "      <td>Company - Private</td>\n",
       "      <td>...</td>\n",
       "      <td>Business Services</td>\n",
       "      <td>Unknown / Non-Applicable</td>\n",
       "      <td>BBDO, Grey Group, Droga5</td>\n",
       "      <td>False</td>\n",
       "      <td>111</td>\n",
       "      <td>181.0</td>\n",
       "      <td>NewYork</td>\n",
       "      <td>NY</td>\n",
       "      <td>NewYork</td>\n",
       "      <td>NY</td>\n",
       "    </tr>\n",
       "  </tbody>\n",
       "</table>\n",
       "<p>5 rows × 21 columns</p>\n",
       "</div>"
      ],
      "text/plain": [
       "   index                          Job Title  \\\n",
       "0      0              Senior Data Scientist   \n",
       "1      1  Data Scientist, Product Analytics   \n",
       "2      2               Data Science Manager   \n",
       "3      3                       Data Analyst   \n",
       "4      4             Director, Data Science   \n",
       "\n",
       "                                     Job Description  Rating  \\\n",
       "0  ABOUT HOPPER\\n\\nAt Hopper, we’re on a mission ...     3.5   \n",
       "1  At Noom, we use scientifically proven methods ...     4.5   \n",
       "2  Decode_M\\n\\nhttps://www.decode-m.com/\\n\\nData ...     NaN   \n",
       "3  Sapphire Digital seeks a dynamic and driven mi...     3.4   \n",
       "4  Director, Data Science - (200537)\\nDescription...     3.4   \n",
       "\n",
       "                  Company Name       Location      Headquarters  \\\n",
       "0                      Hopper    New York, NY  Montreal, Canada   \n",
       "1                     Noom US    New York, NY      New York, NY   \n",
       "2                     Decode_M   New York, NY      New York, NY   \n",
       "3            Sapphire Digital   Lyndhurst, NJ     Lyndhurst, NJ   \n",
       "4  United Entertainment Group    New York, NY      New York, NY   \n",
       "\n",
       "                     Size  Founded  Type of ownership  ...  \\\n",
       "0   501 to 1000 employees   2007.0  Company - Private  ...   \n",
       "1  1001 to 5000 employees   2008.0  Company - Private  ...   \n",
       "2       1 to 50 employees      NaN            Unknown  ...   \n",
       "3    201 to 500 employees   2019.0  Company - Private  ...   \n",
       "4     51 to 200 employees   2007.0  Company - Private  ...   \n",
       "\n",
       "                   Sector                   Revenue               Competitors  \\\n",
       "0        Travel & Tourism  Unknown / Non-Applicable                       NaN   \n",
       "1       Consumer Services  Unknown / Non-Applicable                       NaN   \n",
       "2                     NaN  Unknown / Non-Applicable                       NaN   \n",
       "3  Information Technology  Unknown / Non-Applicable      Zocdoc, Healthgrades   \n",
       "4       Business Services  Unknown / Non-Applicable  BBDO, Grey Group, Droga5   \n",
       "\n",
       "  Easy Apply  Minimum Salary Maximum Salary  Location_City Location_State  \\\n",
       "0      False             111          181.0        NewYork             NY   \n",
       "1      False             111          181.0        NewYork             NY   \n",
       "2       True             111          181.0        NewYork             NY   \n",
       "3      False             111          181.0      Lyndhurst             NJ   \n",
       "4      False             111          181.0        NewYork             NY   \n",
       "\n",
       "     HQ_City HQ_State  \n",
       "0   Montreal   Canada  \n",
       "1    NewYork       NY  \n",
       "2    NewYork       NY  \n",
       "3  Lyndhurst       NJ  \n",
       "4    NewYork       NY  \n",
       "\n",
       "[5 rows x 21 columns]"
      ]
     },
<<<<<<< HEAD
     "execution_count": 967,
=======
     "execution_count": 861,
>>>>>>> 256a7dbd8ef0e07116f3cb9c19903e6a2492b116
     "metadata": {},
     "output_type": "execute_result"
    }
   ],
   "source": [
    "\n",
    "def spliting_location_and_HQ (entry : object, geo_type : str) -> str:\n",
    "    \"\"\"Splits the location and HQ column to a city column and a state column.\n",
    "\n",
    "    Args:\n",
    "        entry (object,str): Location column we want to split. 2nd argument is either \"city\" or \"state\"\n",
    "\n",
    "    Returns:\n",
    "        str: returns either a locaton_city, locaton_state, HQ_city or HQ_state column\n",
    "    \"\"\"\n",
    "    entry = str(entry)\n",
    "    \n",
    "    if entry == \"nan\":\n",
    "        return None\n",
    "    entry = entry.replace(\" \", \"\")\n",
    "    location_HQ_split = entry.split(\",\")\n",
    "    location_HQ_city_state = location_HQ_split\n",
    "    if geo_type == \"city\":\n",
    "        return location_HQ_city_state[0]\n",
    "    else:\n",
    "        return location_HQ_city_state[1]\n",
    "\n",
    "\n",
    "df[\"Location_City\"]=df[\"Location\"].apply(lambda x: spliting_location_and_HQ(x,\"city\"))\n",
    "df[\"Location_State\"]=df[\"Location\"].apply(lambda x: spliting_location_and_HQ(x,\"state\"))\n",
    "df[\"HQ_City\"]=df[\"Headquarters\"].apply(lambda x: spliting_location_and_HQ(x,\"city\"))\n",
    "df[\"HQ_State\"]=df[\"Headquarters\"].apply(lambda x: spliting_location_and_HQ(x,\"state\"))\n",
    "\n",
    "df.head()\n",
    "\n",
    "    "
   ]
  },
  {
   "cell_type": "code",
<<<<<<< HEAD
   "execution_count": 968,
=======
   "execution_count": 862,
>>>>>>> 256a7dbd8ef0e07116f3cb9c19903e6a2492b116
   "metadata": {},
   "outputs": [],
   "source": [
    "def splitting_department_from_job_title (entry : str, key_word : str) -> str:\n",
    "    \"\"\"Splitting Department from Job title in the column \"Job Title\"\n",
    "    \n",
    "    Args:\n",
    "        entry (str, str): parse the column as an str, 2nd argument is either job_title or department.\n",
    "    Returns:\n",
    "        str: returns a new column at the end of the dataset\n",
    "    \"\"\"\n",
    "    \n",
    "    department_job_title = entry.split(\",\")\n",
    "    job_title = department_job_title[0]\n",
    "    department = department_job_title[-1]\n",
    "    if key_word == \"Job Title\":\n",
    "        return job_title\n",
    "    else:\n",
    "        \n",
    "        return department\n",
    "\n",
    "df[\"Department\"] = df[\"Job Title\"].apply(lambda x: splitting_department_from_job_title(x,\"department\"))    \n",
    "df[\"Job Title\"] = df[\"Job Title\"].apply(lambda x: splitting_department_from_job_title(x,\"Job Title\"))\n",
    "df[\"Job_title\"] = df[\"Job Title\"]\n",
    "df.drop(\"Job Title\",axis=1, inplace=True)\n",
    "\n",
    "\n",
    "    \n",
    "    "
   ]
  },
  {
   "cell_type": "code",
<<<<<<< HEAD
   "execution_count": 969,
=======
   "execution_count": 863,
>>>>>>> 256a7dbd8ef0e07116f3cb9c19903e6a2492b116
   "metadata": {},
   "outputs": [
    {
     "data": {
      "text/html": [
       "<div>\n",
       "<style scoped>\n",
       "    .dataframe tbody tr th:only-of-type {\n",
       "        vertical-align: middle;\n",
       "    }\n",
       "\n",
       "    .dataframe tbody tr th {\n",
       "        vertical-align: top;\n",
       "    }\n",
       "\n",
       "    .dataframe thead th {\n",
       "        text-align: right;\n",
       "    }\n",
       "</style>\n",
       "<table border=\"1\" class=\"dataframe\">\n",
       "  <thead>\n",
       "    <tr style=\"text-align: right;\">\n",
       "      <th></th>\n",
       "      <th>index</th>\n",
       "      <th>Job Description</th>\n",
       "      <th>Rating</th>\n",
       "      <th>Company Name</th>\n",
       "      <th>Location</th>\n",
       "      <th>Headquarters</th>\n",
       "      <th>Size</th>\n",
       "      <th>Founded</th>\n",
       "      <th>Type of ownership</th>\n",
       "      <th>Industry</th>\n",
       "      <th>...</th>\n",
       "      <th>Competitors</th>\n",
       "      <th>Easy Apply</th>\n",
       "      <th>Minimum Salary</th>\n",
       "      <th>Maximum Salary</th>\n",
       "      <th>Location_City</th>\n",
       "      <th>Location_State</th>\n",
       "      <th>HQ_City</th>\n",
       "      <th>HQ_State</th>\n",
       "      <th>Department</th>\n",
       "      <th>Job_title</th>\n",
       "    </tr>\n",
       "  </thead>\n",
       "  <tbody>\n",
       "    <tr>\n",
       "      <th>0</th>\n",
       "      <td>0</td>\n",
       "      <td>ABOUT HOPPER\\n\\nAt Hopper, we’re on a mission ...</td>\n",
       "      <td>3.5</td>\n",
       "      <td>Hopper</td>\n",
       "      <td>New York, NY</td>\n",
       "      <td>Montreal, Canada</td>\n",
       "      <td>501 to 1000 employees</td>\n",
       "      <td>2007.0</td>\n",
       "      <td>Company - Private</td>\n",
       "      <td>Travel Agencies</td>\n",
       "      <td>...</td>\n",
       "      <td>NaN</td>\n",
       "      <td>False</td>\n",
       "      <td>111</td>\n",
       "      <td>181.0</td>\n",
       "      <td>NewYork</td>\n",
       "      <td>NY</td>\n",
       "      <td>Montreal</td>\n",
       "      <td>Canada</td>\n",
       "      <td>Senior Data Scientist</td>\n",
       "      <td>Senior Data Scientist</td>\n",
       "    </tr>\n",
       "    <tr>\n",
       "      <th>1</th>\n",
       "      <td>1</td>\n",
       "      <td>At Noom, we use scientifically proven methods ...</td>\n",
       "      <td>4.5</td>\n",
       "      <td>Noom US</td>\n",
       "      <td>New York, NY</td>\n",
       "      <td>New York, NY</td>\n",
       "      <td>1001 to 5000 employees</td>\n",
       "      <td>2008.0</td>\n",
       "      <td>Company - Private</td>\n",
       "      <td>Health, Beauty, &amp; Fitness</td>\n",
       "      <td>...</td>\n",
       "      <td>NaN</td>\n",
       "      <td>False</td>\n",
       "      <td>111</td>\n",
       "      <td>181.0</td>\n",
       "      <td>NewYork</td>\n",
       "      <td>NY</td>\n",
       "      <td>NewYork</td>\n",
       "      <td>NY</td>\n",
       "      <td>Product Analytics</td>\n",
       "      <td>Data Scientist</td>\n",
       "    </tr>\n",
       "    <tr>\n",
       "      <th>2</th>\n",
       "      <td>2</td>\n",
       "      <td>Decode_M\\n\\nhttps://www.decode-m.com/\\n\\nData ...</td>\n",
       "      <td>NaN</td>\n",
       "      <td>Decode_M</td>\n",
       "      <td>New York, NY</td>\n",
       "      <td>New York, NY</td>\n",
       "      <td>1 to 50 employees</td>\n",
       "      <td>NaN</td>\n",
       "      <td>Unknown</td>\n",
       "      <td>NaN</td>\n",
       "      <td>...</td>\n",
       "      <td>NaN</td>\n",
       "      <td>True</td>\n",
       "      <td>111</td>\n",
       "      <td>181.0</td>\n",
       "      <td>NewYork</td>\n",
       "      <td>NY</td>\n",
       "      <td>NewYork</td>\n",
       "      <td>NY</td>\n",
       "      <td>Data Science Manager</td>\n",
       "      <td>Data Science Manager</td>\n",
       "    </tr>\n",
       "    <tr>\n",
       "      <th>3</th>\n",
       "      <td>3</td>\n",
       "      <td>Sapphire Digital seeks a dynamic and driven mi...</td>\n",
       "      <td>3.4</td>\n",
       "      <td>Sapphire Digital</td>\n",
       "      <td>Lyndhurst, NJ</td>\n",
       "      <td>Lyndhurst, NJ</td>\n",
       "      <td>201 to 500 employees</td>\n",
       "      <td>2019.0</td>\n",
       "      <td>Company - Private</td>\n",
       "      <td>Internet</td>\n",
       "      <td>...</td>\n",
       "      <td>Zocdoc, Healthgrades</td>\n",
       "      <td>False</td>\n",
       "      <td>111</td>\n",
       "      <td>181.0</td>\n",
       "      <td>Lyndhurst</td>\n",
       "      <td>NJ</td>\n",
       "      <td>Lyndhurst</td>\n",
       "      <td>NJ</td>\n",
       "      <td>Data Analyst</td>\n",
       "      <td>Data Analyst</td>\n",
       "    </tr>\n",
       "    <tr>\n",
       "      <th>4</th>\n",
       "      <td>4</td>\n",
       "      <td>Director, Data Science - (200537)\\nDescription...</td>\n",
       "      <td>3.4</td>\n",
       "      <td>United Entertainment Group</td>\n",
       "      <td>New York, NY</td>\n",
       "      <td>New York, NY</td>\n",
       "      <td>51 to 200 employees</td>\n",
       "      <td>2007.0</td>\n",
       "      <td>Company - Private</td>\n",
       "      <td>Advertising &amp; Marketing</td>\n",
       "      <td>...</td>\n",
       "      <td>BBDO, Grey Group, Droga5</td>\n",
       "      <td>False</td>\n",
       "      <td>111</td>\n",
       "      <td>181.0</td>\n",
       "      <td>NewYork</td>\n",
       "      <td>NY</td>\n",
       "      <td>NewYork</td>\n",
       "      <td>NY</td>\n",
       "      <td>Data Science</td>\n",
       "      <td>Director</td>\n",
       "    </tr>\n",
       "  </tbody>\n",
       "</table>\n",
       "<p>5 rows × 22 columns</p>\n",
       "</div>"
      ],
      "text/plain": [
       "   index                                    Job Description  Rating  \\\n",
       "0      0  ABOUT HOPPER\\n\\nAt Hopper, we’re on a mission ...     3.5   \n",
       "1      1  At Noom, we use scientifically proven methods ...     4.5   \n",
       "2      2  Decode_M\\n\\nhttps://www.decode-m.com/\\n\\nData ...     NaN   \n",
       "3      3  Sapphire Digital seeks a dynamic and driven mi...     3.4   \n",
       "4      4  Director, Data Science - (200537)\\nDescription...     3.4   \n",
       "\n",
       "                  Company Name       Location      Headquarters  \\\n",
       "0                      Hopper    New York, NY  Montreal, Canada   \n",
       "1                     Noom US    New York, NY      New York, NY   \n",
       "2                     Decode_M   New York, NY      New York, NY   \n",
       "3            Sapphire Digital   Lyndhurst, NJ     Lyndhurst, NJ   \n",
       "4  United Entertainment Group    New York, NY      New York, NY   \n",
       "\n",
       "                     Size  Founded  Type of ownership  \\\n",
       "0   501 to 1000 employees   2007.0  Company - Private   \n",
       "1  1001 to 5000 employees   2008.0  Company - Private   \n",
       "2       1 to 50 employees      NaN            Unknown   \n",
       "3    201 to 500 employees   2019.0  Company - Private   \n",
       "4     51 to 200 employees   2007.0  Company - Private   \n",
       "\n",
       "                    Industry  ...               Competitors Easy Apply  \\\n",
       "0            Travel Agencies  ...                       NaN      False   \n",
       "1  Health, Beauty, & Fitness  ...                       NaN      False   \n",
       "2                        NaN  ...                       NaN       True   \n",
       "3                   Internet  ...      Zocdoc, Healthgrades      False   \n",
       "4    Advertising & Marketing  ...  BBDO, Grey Group, Droga5      False   \n",
       "\n",
       "  Minimum Salary  Maximum Salary Location_City  Location_State    HQ_City  \\\n",
       "0            111           181.0       NewYork              NY   Montreal   \n",
       "1            111           181.0       NewYork              NY    NewYork   \n",
       "2            111           181.0       NewYork              NY    NewYork   \n",
       "3            111           181.0     Lyndhurst              NJ  Lyndhurst   \n",
       "4            111           181.0       NewYork              NY    NewYork   \n",
       "\n",
       "  HQ_State             Department              Job_title  \n",
       "0   Canada  Senior Data Scientist  Senior Data Scientist  \n",
       "1       NY      Product Analytics         Data Scientist  \n",
       "2       NY   Data Science Manager   Data Science Manager  \n",
       "3       NJ           Data Analyst           Data Analyst  \n",
       "4       NY           Data Science               Director  \n",
       "\n",
       "[5 rows x 22 columns]"
      ]
     },
<<<<<<< HEAD
     "execution_count": 969,
=======
     "execution_count": 863,
>>>>>>> 256a7dbd8ef0e07116f3cb9c19903e6a2492b116
     "metadata": {},
     "output_type": "execute_result"
    }
   ],
   "source": [
    "df.head()"
   ]
  },
  {
   "cell_type": "code",
<<<<<<< HEAD
   "execution_count": 970,
=======
   "execution_count": 864,
>>>>>>> 256a7dbd8ef0e07116f3cb9c19903e6a2492b116
   "metadata": {},
   "outputs": [
    {
     "data": {
      "text/plain": [
       "Data Scientist                                       335\n",
       "Data Engineer                                        268\n",
       "Data Analyst                                         264\n",
       "Senior Data Scientist                                104\n",
       "Senior Data Analyst                                   52\n",
       "                                                    ... \n",
       "Principal Device Modeling Engineer                     1\n",
       "SQL/SAS Data Analyst                                   1\n",
       "Marketing Data Analyst Coordinator                     1\n",
       "Greenplum /Big Data Engineer/Architect                 1\n",
       "Patient Safety Physician or Safety Scientist - UK      1\n",
       "Name: Job_title, Length: 1797, dtype: int64"
      ]
     },
<<<<<<< HEAD
     "execution_count": 970,
=======
     "execution_count": 864,
>>>>>>> 256a7dbd8ef0e07116f3cb9c19903e6a2492b116
     "metadata": {},
     "output_type": "execute_result"
    }
   ],
   "source": [
    "df[\"Job_title\"].value_counts()"
   ]
  },
  {
   "cell_type": "code",
<<<<<<< HEAD
   "execution_count": 971,
=======
   "execution_count": 865,
>>>>>>> 256a7dbd8ef0e07116f3cb9c19903e6a2492b116
   "metadata": {},
   "outputs": [],
   "source": [
    "df[\"Job_title\"] = df[\"Job_title\"].str.replace(\" â\",\"\")\n",
    "df[\"Job_title\"] = df[\"Job_title\"].str.replace(\"/\",\"|\")\n",
    "#a\n"
   ]
  },
  {
   "cell_type": "code",
<<<<<<< HEAD
   "execution_count": 972,
=======
   "execution_count": 866,
>>>>>>> 256a7dbd8ef0e07116f3cb9c19903e6a2492b116
   "metadata": {},
   "outputs": [
    {
     "data": {
      "text/plain": [
       "Unknown / Non-Applicable            1163\n",
       "$10+ billion (USD)                   599\n",
       "$100 to $500 million (USD)           338\n",
       "$50 to $100 million (USD)            214\n",
       "$2 to $5 billion (USD)               211\n",
       "$10 to $25 million (USD)             191\n",
       "$1 to $2 billion (USD)               180\n",
       "$1 to $5 million (USD)               170\n",
       "$25 to $50 million (USD)             143\n",
       "$5 to $10 billion (USD)              133\n",
       "Less than $1 million (USD)           124\n",
       "$500 million to $1 billion (USD)     114\n",
       "$5 to $10 million (USD)              100\n",
       "Name: Revenue, dtype: int64"
      ]
     },
<<<<<<< HEAD
     "execution_count": 972,
=======
     "execution_count": 866,
>>>>>>> 256a7dbd8ef0e07116f3cb9c19903e6a2492b116
     "metadata": {},
     "output_type": "execute_result"
    }
   ],
   "source": [
    "df[\"Revenue\"].value_counts()"
   ]
  },
  {
   "cell_type": "code",
<<<<<<< HEAD
   "execution_count": 973,
=======
   "execution_count": 867,
>>>>>>> 256a7dbd8ef0e07116f3cb9c19903e6a2492b116
   "metadata": {},
   "outputs": [],
   "source": [
    "\n",
    "df[\"Revenue\"] = df[\"Revenue\"].replace(\"Unknown / Non-Applicable\",np.nan)\n",
    "df['Revenue'] = df['Revenue'].str.replace('$', ' ',regex=True)\n",
    "df['Revenue'] = df['Revenue'].str.replace('(USD)', ' ',regex=True)\n",
    "df['Revenue'] = df['Revenue'].str.replace('(', ' ',regex=True)\n",
    "df['Revenue'] = df['Revenue'].str.replace(')', ' ',regex=True)\n",
    "df['Revenue'] = df['Revenue'].str.replace(' ', '',regex=True)\n",
    "df['Revenue'] = df['Revenue'].str.replace('+', '',regex=True)\n",
    "df['Revenue'] = df['Revenue'].str.replace('2to5billion', '2billionto5billion')\n",
    "df['Revenue'] = df['Revenue'].str.replace('5to10billion ', '5billionto10billion')\n",
    "df['Revenue'] = df['Revenue'].replace('million', ' ')\n",
    "df['Revenue'] = df['Revenue'].replace('10billion', '10billionto11billion')\n",
    "df['Revenue'] = df['Revenue'].str.replace('Lessthan1million', '0millionto1million')\n",
    "df['Revenue'] = df['Revenue'].str.replace('million', ' ')\n",
    "df['Revenue'] = df['Revenue'].str.replace('billion', '000 ')\n",
    "df[\"Revenue\"] = df[\"Revenue\"].str.replace(\" to\",\"to\")"
   ]
  },
  {
   "cell_type": "code",
<<<<<<< HEAD
   "execution_count": 974,
=======
   "execution_count": 868,
>>>>>>> 256a7dbd8ef0e07116f3cb9c19903e6a2492b116
   "metadata": {},
   "outputs": [
    {
     "data": {
      "text/plain": [
       "10000to11000     599\n",
       "100to500         338\n",
       "50to100          214\n",
       "2000to5000       211\n",
       "10to25           191\n",
       "1to2000          180\n",
       "1to5             170\n",
       "25to50           143\n",
       "5to10000         133\n",
       "0to1             124\n",
       "500to1000        114\n",
       "5to10            100\n",
       "Name: Revenue, dtype: int64"
      ]
     },
<<<<<<< HEAD
     "execution_count": 974,
=======
     "execution_count": 868,
>>>>>>> 256a7dbd8ef0e07116f3cb9c19903e6a2492b116
     "metadata": {},
     "output_type": "execute_result"
    }
   ],
   "source": [
    "df[\"Revenue\"].value_counts()"
   ]
  },
  {
   "cell_type": "code",
<<<<<<< HEAD
   "execution_count": 975,
=======
   "execution_count": 869,
>>>>>>> 256a7dbd8ef0e07116f3cb9c19903e6a2492b116
   "metadata": {},
   "outputs": [],
   "source": [
    "def splitting_revenue(entry: object, key_word: str) -> str:\n",
    "    \"\"\"splits the revenue to a max and a min revenue column\n",
    "\n",
    "    Args:\n",
    "        entry (object), key_word (str): Revenue column \n",
    "\n",
    "    Returns:\n",
    "        str: returns either a minimum or maximum column dependent on key_word\n",
    "    \"\"\"\n",
    "    entry = str(entry)\n",
    "    \n",
    "    if entry == \"nan\":\n",
    "        return None\n",
    "    min_max = entry.split(\"to\")\n",
    "    if key_word == \"min\":\n",
    "        return min_max[0]\n",
    "    else:\n",
    "        return min_max[-1]\n",
    "    \n",
    "df[\"min_revenue_in_milions\"]=df[\"Revenue\"].apply(lambda x: splitting_revenue(x,\"min\"))\n",
    "df[\"max_revenue_in_milions\"]=df[\"Revenue\"].apply(lambda x: splitting_revenue(x,\"max\"))\n",
    "df.drop(\"Revenue\",axis=1,inplace=True)\n",
    "    "
   ]
  },
  {
   "cell_type": "code",
<<<<<<< HEAD
   "execution_count": 976,
=======
   "execution_count": 870,
>>>>>>> 256a7dbd8ef0e07116f3cb9c19903e6a2492b116
   "metadata": {},
   "outputs": [
    {
     "data": {
      "text/plain": [
       "10000    599\n",
       "1        350\n",
       "100      338\n",
       "5        233\n",
       "50       214\n",
       "2000     211\n",
       "10       191\n",
       "25       143\n",
       "0        124\n",
       "500      114\n",
       "Name: min_revenue_in_milions, dtype: int64"
      ]
     },
<<<<<<< HEAD
     "execution_count": 976,
=======
     "execution_count": 870,
>>>>>>> 256a7dbd8ef0e07116f3cb9c19903e6a2492b116
     "metadata": {},
     "output_type": "execute_result"
    }
   ],
   "source": [
    "df[\"min_revenue_in_milions\"].value_counts()"
   ]
  },
  {
   "cell_type": "code",
<<<<<<< HEAD
   "execution_count": 977,
=======
   "execution_count": 871,
>>>>>>> 256a7dbd8ef0e07116f3cb9c19903e6a2492b116
   "metadata": {},
   "outputs": [
    {
     "data": {
      "text/html": [
       "<div>\n",
       "<style scoped>\n",
       "    .dataframe tbody tr th:only-of-type {\n",
       "        vertical-align: middle;\n",
       "    }\n",
       "\n",
       "    .dataframe tbody tr th {\n",
       "        vertical-align: top;\n",
       "    }\n",
       "\n",
       "    .dataframe thead th {\n",
       "        text-align: right;\n",
       "    }\n",
       "</style>\n",
       "<table border=\"1\" class=\"dataframe\">\n",
       "  <thead>\n",
       "    <tr style=\"text-align: right;\">\n",
       "      <th></th>\n",
       "      <th>index</th>\n",
       "      <th>Job Description</th>\n",
       "      <th>Rating</th>\n",
       "      <th>Company Name</th>\n",
       "      <th>Location</th>\n",
       "      <th>Headquarters</th>\n",
       "      <th>Size</th>\n",
       "      <th>Founded</th>\n",
       "      <th>Type of ownership</th>\n",
       "      <th>Industry</th>\n",
       "      <th>...</th>\n",
       "      <th>Minimum Salary</th>\n",
       "      <th>Maximum Salary</th>\n",
       "      <th>Location_City</th>\n",
       "      <th>Location_State</th>\n",
       "      <th>HQ_City</th>\n",
       "      <th>HQ_State</th>\n",
       "      <th>Department</th>\n",
       "      <th>Job_title</th>\n",
       "      <th>min_revenue_in_milions</th>\n",
       "      <th>max_revenue_in_milions</th>\n",
       "    </tr>\n",
       "  </thead>\n",
       "  <tbody>\n",
       "    <tr>\n",
       "      <th>0</th>\n",
       "      <td>0</td>\n",
       "      <td>ABOUT HOPPER\\n\\nAt Hopper, we’re on a mission ...</td>\n",
       "      <td>3.5</td>\n",
       "      <td>Hopper</td>\n",
       "      <td>New York, NY</td>\n",
       "      <td>Montreal, Canada</td>\n",
       "      <td>501 to 1000 employees</td>\n",
       "      <td>2007.0</td>\n",
       "      <td>Company - Private</td>\n",
       "      <td>Travel Agencies</td>\n",
       "      <td>...</td>\n",
       "      <td>111</td>\n",
       "      <td>181.0</td>\n",
       "      <td>NewYork</td>\n",
       "      <td>NY</td>\n",
       "      <td>Montreal</td>\n",
       "      <td>Canada</td>\n",
       "      <td>Senior Data Scientist</td>\n",
       "      <td>Senior Data Scientist</td>\n",
       "      <td>None</td>\n",
       "      <td>None</td>\n",
       "    </tr>\n",
       "    <tr>\n",
       "      <th>1</th>\n",
       "      <td>1</td>\n",
       "      <td>At Noom, we use scientifically proven methods ...</td>\n",
       "      <td>4.5</td>\n",
       "      <td>Noom US</td>\n",
       "      <td>New York, NY</td>\n",
       "      <td>New York, NY</td>\n",
       "      <td>1001 to 5000 employees</td>\n",
       "      <td>2008.0</td>\n",
       "      <td>Company - Private</td>\n",
       "      <td>Health, Beauty, &amp; Fitness</td>\n",
       "      <td>...</td>\n",
       "      <td>111</td>\n",
       "      <td>181.0</td>\n",
       "      <td>NewYork</td>\n",
       "      <td>NY</td>\n",
       "      <td>NewYork</td>\n",
       "      <td>NY</td>\n",
       "      <td>Product Analytics</td>\n",
       "      <td>Data Scientist</td>\n",
       "      <td>None</td>\n",
       "      <td>None</td>\n",
       "    </tr>\n",
       "    <tr>\n",
       "      <th>2</th>\n",
       "      <td>2</td>\n",
       "      <td>Decode_M\\n\\nhttps://www.decode-m.com/\\n\\nData ...</td>\n",
       "      <td>NaN</td>\n",
       "      <td>Decode_M</td>\n",
       "      <td>New York, NY</td>\n",
       "      <td>New York, NY</td>\n",
       "      <td>1 to 50 employees</td>\n",
       "      <td>NaN</td>\n",
       "      <td>Unknown</td>\n",
       "      <td>NaN</td>\n",
       "      <td>...</td>\n",
       "      <td>111</td>\n",
       "      <td>181.0</td>\n",
       "      <td>NewYork</td>\n",
       "      <td>NY</td>\n",
       "      <td>NewYork</td>\n",
       "      <td>NY</td>\n",
       "      <td>Data Science Manager</td>\n",
       "      <td>Data Science Manager</td>\n",
       "      <td>None</td>\n",
       "      <td>None</td>\n",
       "    </tr>\n",
       "    <tr>\n",
       "      <th>3</th>\n",
       "      <td>3</td>\n",
       "      <td>Sapphire Digital seeks a dynamic and driven mi...</td>\n",
       "      <td>3.4</td>\n",
       "      <td>Sapphire Digital</td>\n",
       "      <td>Lyndhurst, NJ</td>\n",
       "      <td>Lyndhurst, NJ</td>\n",
       "      <td>201 to 500 employees</td>\n",
       "      <td>2019.0</td>\n",
       "      <td>Company - Private</td>\n",
       "      <td>Internet</td>\n",
       "      <td>...</td>\n",
       "      <td>111</td>\n",
       "      <td>181.0</td>\n",
       "      <td>Lyndhurst</td>\n",
       "      <td>NJ</td>\n",
       "      <td>Lyndhurst</td>\n",
       "      <td>NJ</td>\n",
       "      <td>Data Analyst</td>\n",
       "      <td>Data Analyst</td>\n",
       "      <td>None</td>\n",
       "      <td>None</td>\n",
       "    </tr>\n",
       "    <tr>\n",
       "      <th>4</th>\n",
       "      <td>4</td>\n",
       "      <td>Director, Data Science - (200537)\\nDescription...</td>\n",
       "      <td>3.4</td>\n",
       "      <td>United Entertainment Group</td>\n",
       "      <td>New York, NY</td>\n",
       "      <td>New York, NY</td>\n",
       "      <td>51 to 200 employees</td>\n",
       "      <td>2007.0</td>\n",
       "      <td>Company - Private</td>\n",
       "      <td>Advertising &amp; Marketing</td>\n",
       "      <td>...</td>\n",
       "      <td>111</td>\n",
       "      <td>181.0</td>\n",
       "      <td>NewYork</td>\n",
       "      <td>NY</td>\n",
       "      <td>NewYork</td>\n",
       "      <td>NY</td>\n",
       "      <td>Data Science</td>\n",
       "      <td>Director</td>\n",
       "      <td>None</td>\n",
       "      <td>None</td>\n",
       "    </tr>\n",
       "    <tr>\n",
       "      <th>5</th>\n",
       "      <td>5</td>\n",
       "      <td>Job Brief\\n\\nThe ideal candidate will have pre...</td>\n",
       "      <td>2.9</td>\n",
       "      <td>IFG Companies</td>\n",
       "      <td>New York, NY</td>\n",
       "      <td>Hartford, CT</td>\n",
       "      <td>201 to 500 employees</td>\n",
       "      <td>1985.0</td>\n",
       "      <td>Company - Private</td>\n",
       "      <td>Insurance Carriers</td>\n",
       "      <td>...</td>\n",
       "      <td>111</td>\n",
       "      <td>181.0</td>\n",
       "      <td>NewYork</td>\n",
       "      <td>NY</td>\n",
       "      <td>Hartford</td>\n",
       "      <td>CT</td>\n",
       "      <td>Data Scientist</td>\n",
       "      <td>Data Scientist</td>\n",
       "      <td>None</td>\n",
       "      <td>None</td>\n",
       "    </tr>\n",
       "    <tr>\n",
       "      <th>6</th>\n",
       "      <td>6</td>\n",
       "      <td>Experience: Entry-level (PhD Program) or Exper...</td>\n",
       "      <td>4.4</td>\n",
       "      <td>PDT Partners</td>\n",
       "      <td>New York, NY</td>\n",
       "      <td>New York, NY</td>\n",
       "      <td>51 to 200 employees</td>\n",
       "      <td>1993.0</td>\n",
       "      <td>Company - Private</td>\n",
       "      <td>Investment Banking &amp; Asset Management</td>\n",
       "      <td>...</td>\n",
       "      <td>111</td>\n",
       "      <td>181.0</td>\n",
       "      <td>NewYork</td>\n",
       "      <td>NY</td>\n",
       "      <td>NewYork</td>\n",
       "      <td>NY</td>\n",
       "      <td>Quantitative Researcher</td>\n",
       "      <td>Quantitative Researcher</td>\n",
       "      <td>None</td>\n",
       "      <td>None</td>\n",
       "    </tr>\n",
       "    <tr>\n",
       "      <th>7</th>\n",
       "      <td>7</td>\n",
       "      <td>Seeking a quant to work with senior researcher...</td>\n",
       "      <td>NaN</td>\n",
       "      <td>Enlightenment Research</td>\n",
       "      <td>New York, NY</td>\n",
       "      <td>New York, NY</td>\n",
       "      <td>1 to 50 employees</td>\n",
       "      <td>NaN</td>\n",
       "      <td>Unknown</td>\n",
       "      <td>NaN</td>\n",
       "      <td>...</td>\n",
       "      <td>111</td>\n",
       "      <td>181.0</td>\n",
       "      <td>NewYork</td>\n",
       "      <td>NY</td>\n",
       "      <td>NewYork</td>\n",
       "      <td>NY</td>\n",
       "      <td>Quantitative Research Associate</td>\n",
       "      <td>Quantitative Research Associate</td>\n",
       "      <td>None</td>\n",
       "      <td>None</td>\n",
       "    </tr>\n",
       "    <tr>\n",
       "      <th>8</th>\n",
       "      <td>8</td>\n",
       "      <td>Paige is a software company helping pathologis...</td>\n",
       "      <td>5.0</td>\n",
       "      <td>Paige</td>\n",
       "      <td>New York, NY</td>\n",
       "      <td>New York, NY</td>\n",
       "      <td>1 to 50 employees</td>\n",
       "      <td>2018.0</td>\n",
       "      <td>Company - Private</td>\n",
       "      <td>Enterprise Software &amp; Network Solutions</td>\n",
       "      <td>...</td>\n",
       "      <td>111</td>\n",
       "      <td>181.0</td>\n",
       "      <td>NewYork</td>\n",
       "      <td>NY</td>\n",
       "      <td>NewYork</td>\n",
       "      <td>NY</td>\n",
       "      <td>AI Scientist</td>\n",
       "      <td>AI Scientist</td>\n",
       "      <td>None</td>\n",
       "      <td>None</td>\n",
       "    </tr>\n",
       "    <tr>\n",
       "      <th>9</th>\n",
       "      <td>9</td>\n",
       "      <td>About the Position\\n\\n\\nAt Jane Street, we con...</td>\n",
       "      <td>4.8</td>\n",
       "      <td>Jane Street</td>\n",
       "      <td>New York, NY</td>\n",
       "      <td>New York, NY</td>\n",
       "      <td>501 to 1000 employees</td>\n",
       "      <td>2000.0</td>\n",
       "      <td>Company - Private</td>\n",
       "      <td>Investment Banking &amp; Asset Management</td>\n",
       "      <td>...</td>\n",
       "      <td>111</td>\n",
       "      <td>181.0</td>\n",
       "      <td>NewYork</td>\n",
       "      <td>NY</td>\n",
       "      <td>NewYork</td>\n",
       "      <td>NY</td>\n",
       "      <td>Quantitative Researcher</td>\n",
       "      <td>Quantitative Researcher</td>\n",
       "      <td>None</td>\n",
       "      <td>None</td>\n",
       "    </tr>\n",
       "  </tbody>\n",
       "</table>\n",
       "<p>10 rows × 23 columns</p>\n",
       "</div>"
      ],
      "text/plain": [
       "   index                                    Job Description  Rating  \\\n",
       "0      0  ABOUT HOPPER\\n\\nAt Hopper, we’re on a mission ...     3.5   \n",
       "1      1  At Noom, we use scientifically proven methods ...     4.5   \n",
       "2      2  Decode_M\\n\\nhttps://www.decode-m.com/\\n\\nData ...     NaN   \n",
       "3      3  Sapphire Digital seeks a dynamic and driven mi...     3.4   \n",
       "4      4  Director, Data Science - (200537)\\nDescription...     3.4   \n",
       "5      5  Job Brief\\n\\nThe ideal candidate will have pre...     2.9   \n",
       "6      6  Experience: Entry-level (PhD Program) or Exper...     4.4   \n",
       "7      7  Seeking a quant to work with senior researcher...     NaN   \n",
       "8      8  Paige is a software company helping pathologis...     5.0   \n",
       "9      9  About the Position\\n\\n\\nAt Jane Street, we con...     4.8   \n",
<<<<<<< HEAD
       "\n",
       "                  Company Name       Location      Headquarters  \\\n",
       "0                      Hopper    New York, NY  Montreal, Canada   \n",
       "1                     Noom US    New York, NY      New York, NY   \n",
       "2                     Decode_M   New York, NY      New York, NY   \n",
       "3            Sapphire Digital   Lyndhurst, NJ     Lyndhurst, NJ   \n",
       "4  United Entertainment Group    New York, NY      New York, NY   \n",
       "5               IFG Companies    New York, NY      Hartford, CT   \n",
       "6                PDT Partners    New York, NY      New York, NY   \n",
       "7       Enlightenment Research   New York, NY      New York, NY   \n",
       "8                       Paige    New York, NY      New York, NY   \n",
       "9                 Jane Street    New York, NY      New York, NY   \n",
       "\n",
       "                     Size  Founded  Type of ownership  \\\n",
       "0   501 to 1000 employees   2007.0  Company - Private   \n",
       "1  1001 to 5000 employees   2008.0  Company - Private   \n",
       "2       1 to 50 employees      NaN            Unknown   \n",
       "3    201 to 500 employees   2019.0  Company - Private   \n",
       "4     51 to 200 employees   2007.0  Company - Private   \n",
       "5    201 to 500 employees   1985.0  Company - Private   \n",
       "6     51 to 200 employees   1993.0  Company - Private   \n",
       "7       1 to 50 employees      NaN            Unknown   \n",
       "8       1 to 50 employees   2018.0  Company - Private   \n",
       "9   501 to 1000 employees   2000.0  Company - Private   \n",
       "\n",
       "                                  Industry  ... Minimum Salary Maximum Salary  \\\n",
       "0                          Travel Agencies  ...            111          181.0   \n",
       "1                Health, Beauty, & Fitness  ...            111          181.0   \n",
       "2                                      NaN  ...            111          181.0   \n",
       "3                                 Internet  ...            111          181.0   \n",
       "4                  Advertising & Marketing  ...            111          181.0   \n",
       "5                       Insurance Carriers  ...            111          181.0   \n",
       "6    Investment Banking & Asset Management  ...            111          181.0   \n",
       "7                                      NaN  ...            111          181.0   \n",
       "8  Enterprise Software & Network Solutions  ...            111          181.0   \n",
       "9    Investment Banking & Asset Management  ...            111          181.0   \n",
       "\n",
       "   Location_City Location_State    HQ_City HQ_State  \\\n",
       "0        NewYork             NY   Montreal   Canada   \n",
       "1        NewYork             NY    NewYork       NY   \n",
       "2        NewYork             NY    NewYork       NY   \n",
       "3      Lyndhurst             NJ  Lyndhurst       NJ   \n",
       "4        NewYork             NY    NewYork       NY   \n",
       "5        NewYork             NY   Hartford       CT   \n",
       "6        NewYork             NY    NewYork       NY   \n",
       "7        NewYork             NY    NewYork       NY   \n",
       "8        NewYork             NY    NewYork       NY   \n",
       "9        NewYork             NY    NewYork       NY   \n",
       "\n",
=======
       "\n",
       "                  Company Name       Location      Headquarters  \\\n",
       "0                      Hopper    New York, NY  Montreal, Canada   \n",
       "1                     Noom US    New York, NY      New York, NY   \n",
       "2                     Decode_M   New York, NY      New York, NY   \n",
       "3            Sapphire Digital   Lyndhurst, NJ     Lyndhurst, NJ   \n",
       "4  United Entertainment Group    New York, NY      New York, NY   \n",
       "5               IFG Companies    New York, NY      Hartford, CT   \n",
       "6                PDT Partners    New York, NY      New York, NY   \n",
       "7       Enlightenment Research   New York, NY      New York, NY   \n",
       "8                       Paige    New York, NY      New York, NY   \n",
       "9                 Jane Street    New York, NY      New York, NY   \n",
       "\n",
       "                     Size  Founded  Type of ownership  \\\n",
       "0   501 to 1000 employees   2007.0  Company - Private   \n",
       "1  1001 to 5000 employees   2008.0  Company - Private   \n",
       "2       1 to 50 employees      NaN            Unknown   \n",
       "3    201 to 500 employees   2019.0  Company - Private   \n",
       "4     51 to 200 employees   2007.0  Company - Private   \n",
       "5    201 to 500 employees   1985.0  Company - Private   \n",
       "6     51 to 200 employees   1993.0  Company - Private   \n",
       "7       1 to 50 employees      NaN            Unknown   \n",
       "8       1 to 50 employees   2018.0  Company - Private   \n",
       "9   501 to 1000 employees   2000.0  Company - Private   \n",
       "\n",
       "                                  Industry  ... Minimum Salary Maximum Salary  \\\n",
       "0                          Travel Agencies  ...            111          181.0   \n",
       "1                Health, Beauty, & Fitness  ...            111          181.0   \n",
       "2                                      NaN  ...            111          181.0   \n",
       "3                                 Internet  ...            111          181.0   \n",
       "4                  Advertising & Marketing  ...            111          181.0   \n",
       "5                       Insurance Carriers  ...            111          181.0   \n",
       "6    Investment Banking & Asset Management  ...            111          181.0   \n",
       "7                                      NaN  ...            111          181.0   \n",
       "8  Enterprise Software & Network Solutions  ...            111          181.0   \n",
       "9    Investment Banking & Asset Management  ...            111          181.0   \n",
       "\n",
       "   Location_City Location_State    HQ_City HQ_State  \\\n",
       "0        NewYork             NY   Montreal   Canada   \n",
       "1        NewYork             NY    NewYork       NY   \n",
       "2        NewYork             NY    NewYork       NY   \n",
       "3      Lyndhurst             NJ  Lyndhurst       NJ   \n",
       "4        NewYork             NY    NewYork       NY   \n",
       "5        NewYork             NY   Hartford       CT   \n",
       "6        NewYork             NY    NewYork       NY   \n",
       "7        NewYork             NY    NewYork       NY   \n",
       "8        NewYork             NY    NewYork       NY   \n",
       "9        NewYork             NY    NewYork       NY   \n",
       "\n",
>>>>>>> 256a7dbd8ef0e07116f3cb9c19903e6a2492b116
       "                        Department                        Job_title  \\\n",
       "0            Senior Data Scientist            Senior Data Scientist   \n",
       "1                Product Analytics                   Data Scientist   \n",
       "2             Data Science Manager             Data Science Manager   \n",
       "3                     Data Analyst                     Data Analyst   \n",
       "4                     Data Science                         Director   \n",
       "5                   Data Scientist                   Data Scientist   \n",
       "6          Quantitative Researcher          Quantitative Researcher   \n",
       "7  Quantitative Research Associate  Quantitative Research Associate   \n",
       "8                     AI Scientist                     AI Scientist   \n",
       "9          Quantitative Researcher          Quantitative Researcher   \n",
       "\n",
       "  min_revenue_in_milions max_revenue_in_milions  \n",
       "0                   None                   None  \n",
       "1                   None                   None  \n",
       "2                   None                   None  \n",
       "3                   None                   None  \n",
       "4                   None                   None  \n",
       "5                   None                   None  \n",
       "6                   None                   None  \n",
       "7                   None                   None  \n",
       "8                   None                   None  \n",
       "9                   None                   None  \n",
       "\n",
       "[10 rows x 23 columns]"
      ]
     },
<<<<<<< HEAD
     "execution_count": 977,
=======
     "execution_count": 871,
>>>>>>> 256a7dbd8ef0e07116f3cb9c19903e6a2492b116
     "metadata": {},
     "output_type": "execute_result"
    }
   ],
   "source": [
    "\n",
    "df.head(10)"
   ]
  },
  {
   "cell_type": "code",
<<<<<<< HEAD
   "execution_count": 978,
=======
   "execution_count": 872,
>>>>>>> 256a7dbd8ef0e07116f3cb9c19903e6a2492b116
   "metadata": {},
   "outputs": [
    {
     "data": {
      "text/plain": [
       "10000    599\n",
       "1        350\n",
       "100      338\n",
       "5        233\n",
       "50       214\n",
       "2000     211\n",
       "10       191\n",
       "25       143\n",
       "0        124\n",
       "500      114\n",
       "Name: min_revenue_in_milions, dtype: int64"
      ]
     },
<<<<<<< HEAD
     "execution_count": 978,
=======
     "execution_count": 872,
>>>>>>> 256a7dbd8ef0e07116f3cb9c19903e6a2492b116
     "metadata": {},
     "output_type": "execute_result"
    }
   ],
   "source": [
    "df[\"min_revenue_in_milions\"].value_counts()"
   ]
  },
  {
   "cell_type": "code",
<<<<<<< HEAD
   "execution_count": 979,
=======
   "execution_count": 873,
>>>>>>> 256a7dbd8ef0e07116f3cb9c19903e6a2492b116
   "metadata": {},
   "outputs": [],
   "source": [
    "df[\"HQ_State\"] = df[\"HQ_State\"].str.replace(\"Sweden\",\"SWE\")\n",
    "df[\"HQ_State\"] = df[\"HQ_State\"].str.replace(\"Belgium\",\"BE\")\n",
    "df[\"HQ_State\"] = df[\"HQ_State\"].str.replace(\"Iran\",\"IR\")\n",
    "df[\"HQ_State\"] = df[\"HQ_State\"].str.replace(\"United Kingdom\",\"UK\")"
   ]
  },
  {
   "cell_type": "code",
<<<<<<< HEAD
   "execution_count": 980,
=======
   "execution_count": 874,
>>>>>>> 256a7dbd8ef0e07116f3cb9c19903e6a2492b116
   "metadata": {},
   "outputs": [],
   "source": [
    "df[\"Founded\"] = df[\"Founded\"].astype(\"Int32\") #rounding to a 32 bit so the year in the column looks nicer\n"
   ]
  },
  {
   "cell_type": "code",
<<<<<<< HEAD
   "execution_count": 981,
=======
   "execution_count": 875,
>>>>>>> 256a7dbd8ef0e07116f3cb9c19903e6a2492b116
   "metadata": {},
   "outputs": [],
   "source": [
    "df[\"Company Name\"] = df[\"Company Name\"].astype(str)\n"
   ]
  },
  {
   "cell_type": "code",
<<<<<<< HEAD
   "execution_count": 982,
=======
   "execution_count": 876,
>>>>>>> 256a7dbd8ef0e07116f3cb9c19903e6a2492b116
   "metadata": {},
   "outputs": [],
   "source": [
    "for i in df.index: #fixing the index column to align the  default index\n",
    "    df.loc[i,\"index\"] = i\n",
    "        "
   ]
  },
  {
   "cell_type": "code",
<<<<<<< HEAD
   "execution_count": 983,
=======
   "execution_count": 877,
>>>>>>> 256a7dbd8ef0e07116f3cb9c19903e6a2492b116
   "metadata": {},
   "outputs": [],
   "source": [
    "df[\"Type of ownership\"] = df[\"Type of ownership\"].str.replace(\"/\",\"|\")"
   ]
  },
  {
   "cell_type": "code",
<<<<<<< HEAD
   "execution_count": 984,
=======
   "execution_count": 878,
>>>>>>> 256a7dbd8ef0e07116f3cb9c19903e6a2492b116
   "metadata": {},
   "outputs": [
    {
     "data": {
      "text/plain": [
       "10000+ employees           993\n",
       "51 to 200 employees        563\n",
       "1001 to 5000 employees     553\n",
       "1 to 50 employees          550\n",
       "201 to 500 employees       418\n",
       "501 to 1000 employees      307\n",
       "5001 to 10000 employees    219\n",
       "Unknown                     77\n",
       "Name: Size, dtype: int64"
      ]
     },
<<<<<<< HEAD
     "execution_count": 984,
=======
     "execution_count": 878,
>>>>>>> 256a7dbd8ef0e07116f3cb9c19903e6a2492b116
     "metadata": {},
     "output_type": "execute_result"
    }
   ],
   "source": [
    "df[\"Size\"].value_counts()"
   ]
  },
  {
   "cell_type": "code",
<<<<<<< HEAD
   "execution_count": 985,
=======
   "execution_count": 879,
>>>>>>> 256a7dbd8ef0e07116f3cb9c19903e6a2492b116
   "metadata": {},
   "outputs": [],
   "source": [
    "df[\"Size\"] = df[\"Size\"].str.replace(\"employees\",\"\",regex=True)\n",
    "df[\"Size\"] = df[\"Size\"].str.replace(\"+\",\"to10001\",regex=True)\n",
    "df[\"Size\"] = df[\"Size\"].str.replace(\" \",\"\",regex=True)\n",
    "df[\"Size\"] = df[\"Size\"].replace(\"Unknown\",np.nan)\n"
   ]
  },
  {
   "cell_type": "code",
<<<<<<< HEAD
   "execution_count": 986,
=======
   "execution_count": 880,
>>>>>>> 256a7dbd8ef0e07116f3cb9c19903e6a2492b116
   "metadata": {},
   "outputs": [],
   "source": [
    "df[\"min_size_emp\"]=df[\"Size\"].apply(lambda x: splitting_revenue(x,\"min\")) #using splitting_revenue method to split size aswell since they have the same deno.\n",
    "df[\"max_size_emp\"]=df[\"Size\"].apply(lambda x: splitting_revenue(x,\"max\")) \n",
    "df.drop(\"Size\",axis=1,inplace=True)\n",
    "\n"
   ]
  },
  {
   "cell_type": "code",
<<<<<<< HEAD
   "execution_count": 987,
=======
   "execution_count": 881,
>>>>>>> 256a7dbd8ef0e07116f3cb9c19903e6a2492b116
   "metadata": {},
   "outputs": [
    {
     "data": {
      "text/plain": [
       "10001    993\n",
       "200      563\n",
       "5000     553\n",
       "50       550\n",
       "500      418\n",
       "1000     307\n",
       "10000    219\n",
       "Name: max_size_emp, dtype: int64"
      ]
     },
<<<<<<< HEAD
     "execution_count": 987,
=======
     "execution_count": 881,
>>>>>>> 256a7dbd8ef0e07116f3cb9c19903e6a2492b116
     "metadata": {},
     "output_type": "execute_result"
    }
   ],
   "source": [
    "df[\"max_size_emp\"].value_counts()"
   ]
  },
  {
   "cell_type": "code",
<<<<<<< HEAD
   "execution_count": 988,
=======
   "execution_count": 882,
>>>>>>> 256a7dbd8ef0e07116f3cb9c19903e6a2492b116
   "metadata": {},
   "outputs": [
    {
     "data": {
      "text/html": [
       "<div>\n",
       "<style scoped>\n",
       "    .dataframe tbody tr th:only-of-type {\n",
       "        vertical-align: middle;\n",
       "    }\n",
       "\n",
       "    .dataframe tbody tr th {\n",
       "        vertical-align: top;\n",
       "    }\n",
       "\n",
       "    .dataframe thead th {\n",
       "        text-align: right;\n",
       "    }\n",
       "</style>\n",
       "<table border=\"1\" class=\"dataframe\">\n",
       "  <thead>\n",
       "    <tr style=\"text-align: right;\">\n",
       "      <th></th>\n",
       "      <th>index</th>\n",
       "      <th>Job Description</th>\n",
       "      <th>Rating</th>\n",
       "      <th>Company Name</th>\n",
       "      <th>Location</th>\n",
       "      <th>Headquarters</th>\n",
       "      <th>Founded</th>\n",
       "      <th>Type of ownership</th>\n",
       "      <th>Industry</th>\n",
       "      <th>Sector</th>\n",
       "      <th>...</th>\n",
       "      <th>Location_City</th>\n",
       "      <th>Location_State</th>\n",
       "      <th>HQ_City</th>\n",
       "      <th>HQ_State</th>\n",
       "      <th>Department</th>\n",
       "      <th>Job_title</th>\n",
       "      <th>min_revenue_in_milions</th>\n",
       "      <th>max_revenue_in_milions</th>\n",
       "      <th>min_size_emp</th>\n",
       "      <th>max_size_emp</th>\n",
       "    </tr>\n",
       "  </thead>\n",
       "  <tbody>\n",
       "    <tr>\n",
       "      <th>0</th>\n",
       "      <td>0</td>\n",
       "      <td>ABOUT HOPPER\\n\\nAt Hopper, we’re on a mission ...</td>\n",
       "      <td>3.5</td>\n",
       "      <td>Hopper</td>\n",
       "      <td>New York, NY</td>\n",
       "      <td>Montreal, Canada</td>\n",
       "      <td>2007</td>\n",
       "      <td>Company - Private</td>\n",
       "      <td>Travel Agencies</td>\n",
       "      <td>Travel &amp; Tourism</td>\n",
       "      <td>...</td>\n",
       "      <td>NewYork</td>\n",
       "      <td>NY</td>\n",
       "      <td>Montreal</td>\n",
       "      <td>Canada</td>\n",
       "      <td>Senior Data Scientist</td>\n",
       "      <td>Senior Data Scientist</td>\n",
       "      <td>None</td>\n",
       "      <td>None</td>\n",
       "      <td>501</td>\n",
       "      <td>1000</td>\n",
       "    </tr>\n",
       "    <tr>\n",
       "      <th>1</th>\n",
       "      <td>1</td>\n",
       "      <td>At Noom, we use scientifically proven methods ...</td>\n",
       "      <td>4.5</td>\n",
       "      <td>Noom US</td>\n",
       "      <td>New York, NY</td>\n",
       "      <td>New York, NY</td>\n",
       "      <td>2008</td>\n",
       "      <td>Company - Private</td>\n",
       "      <td>Health, Beauty, &amp; Fitness</td>\n",
       "      <td>Consumer Services</td>\n",
       "      <td>...</td>\n",
       "      <td>NewYork</td>\n",
       "      <td>NY</td>\n",
       "      <td>NewYork</td>\n",
       "      <td>NY</td>\n",
       "      <td>Product Analytics</td>\n",
       "      <td>Data Scientist</td>\n",
       "      <td>None</td>\n",
       "      <td>None</td>\n",
       "      <td>1001</td>\n",
       "      <td>5000</td>\n",
       "    </tr>\n",
       "    <tr>\n",
       "      <th>2</th>\n",
       "      <td>2</td>\n",
       "      <td>Decode_M\\n\\nhttps://www.decode-m.com/\\n\\nData ...</td>\n",
       "      <td>NaN</td>\n",
       "      <td>Decode_M</td>\n",
       "      <td>New York, NY</td>\n",
       "      <td>New York, NY</td>\n",
       "      <td>&lt;NA&gt;</td>\n",
       "      <td>Unknown</td>\n",
       "      <td>NaN</td>\n",
       "      <td>NaN</td>\n",
       "      <td>...</td>\n",
       "      <td>NewYork</td>\n",
       "      <td>NY</td>\n",
       "      <td>NewYork</td>\n",
       "      <td>NY</td>\n",
       "      <td>Data Science Manager</td>\n",
       "      <td>Data Science Manager</td>\n",
       "      <td>None</td>\n",
       "      <td>None</td>\n",
       "      <td>1</td>\n",
       "      <td>50</td>\n",
       "    </tr>\n",
       "    <tr>\n",
       "      <th>3</th>\n",
       "      <td>3</td>\n",
       "      <td>Sapphire Digital seeks a dynamic and driven mi...</td>\n",
       "      <td>3.4</td>\n",
       "      <td>Sapphire Digital</td>\n",
       "      <td>Lyndhurst, NJ</td>\n",
       "      <td>Lyndhurst, NJ</td>\n",
       "      <td>2019</td>\n",
       "      <td>Company - Private</td>\n",
       "      <td>Internet</td>\n",
       "      <td>Information Technology</td>\n",
       "      <td>...</td>\n",
       "      <td>Lyndhurst</td>\n",
       "      <td>NJ</td>\n",
       "      <td>Lyndhurst</td>\n",
       "      <td>NJ</td>\n",
       "      <td>Data Analyst</td>\n",
       "      <td>Data Analyst</td>\n",
       "      <td>None</td>\n",
       "      <td>None</td>\n",
       "      <td>201</td>\n",
       "      <td>500</td>\n",
       "    </tr>\n",
       "    <tr>\n",
       "      <th>4</th>\n",
       "      <td>4</td>\n",
       "      <td>Director, Data Science - (200537)\\nDescription...</td>\n",
       "      <td>3.4</td>\n",
       "      <td>United Entertainment Group</td>\n",
       "      <td>New York, NY</td>\n",
       "      <td>New York, NY</td>\n",
       "      <td>2007</td>\n",
       "      <td>Company - Private</td>\n",
       "      <td>Advertising &amp; Marketing</td>\n",
       "      <td>Business Services</td>\n",
       "      <td>...</td>\n",
       "      <td>NewYork</td>\n",
       "      <td>NY</td>\n",
       "      <td>NewYork</td>\n",
       "      <td>NY</td>\n",
       "      <td>Data Science</td>\n",
       "      <td>Director</td>\n",
       "      <td>None</td>\n",
       "      <td>None</td>\n",
       "      <td>51</td>\n",
       "      <td>200</td>\n",
       "    </tr>\n",
       "  </tbody>\n",
       "</table>\n",
       "<p>5 rows × 24 columns</p>\n",
       "</div>"
      ],
      "text/plain": [
       "   index                                    Job Description  Rating  \\\n",
       "0      0  ABOUT HOPPER\\n\\nAt Hopper, we’re on a mission ...     3.5   \n",
       "1      1  At Noom, we use scientifically proven methods ...     4.5   \n",
       "2      2  Decode_M\\n\\nhttps://www.decode-m.com/\\n\\nData ...     NaN   \n",
       "3      3  Sapphire Digital seeks a dynamic and driven mi...     3.4   \n",
       "4      4  Director, Data Science - (200537)\\nDescription...     3.4   \n",
       "\n",
       "                  Company Name       Location      Headquarters  Founded  \\\n",
       "0                      Hopper    New York, NY  Montreal, Canada     2007   \n",
       "1                     Noom US    New York, NY      New York, NY     2008   \n",
       "2                     Decode_M   New York, NY      New York, NY     <NA>   \n",
       "3            Sapphire Digital   Lyndhurst, NJ     Lyndhurst, NJ     2019   \n",
       "4  United Entertainment Group    New York, NY      New York, NY     2007   \n",
       "\n",
       "   Type of ownership                   Industry                  Sector  ...  \\\n",
       "0  Company - Private            Travel Agencies        Travel & Tourism  ...   \n",
       "1  Company - Private  Health, Beauty, & Fitness       Consumer Services  ...   \n",
       "2            Unknown                        NaN                     NaN  ...   \n",
       "3  Company - Private                   Internet  Information Technology  ...   \n",
       "4  Company - Private    Advertising & Marketing       Business Services  ...   \n",
       "\n",
       "  Location_City  Location_State    HQ_City  HQ_State             Department  \\\n",
       "0       NewYork              NY   Montreal    Canada  Senior Data Scientist   \n",
       "1       NewYork              NY    NewYork        NY      Product Analytics   \n",
       "2       NewYork              NY    NewYork        NY   Data Science Manager   \n",
       "3     Lyndhurst              NJ  Lyndhurst        NJ           Data Analyst   \n",
       "4       NewYork              NY    NewYork        NY           Data Science   \n",
       "\n",
       "               Job_title min_revenue_in_milions max_revenue_in_milions  \\\n",
       "0  Senior Data Scientist                   None                   None   \n",
       "1         Data Scientist                   None                   None   \n",
       "2   Data Science Manager                   None                   None   \n",
       "3           Data Analyst                   None                   None   \n",
       "4               Director                   None                   None   \n",
       "\n",
       "  min_size_emp max_size_emp  \n",
       "0          501         1000  \n",
       "1         1001         5000  \n",
       "2            1           50  \n",
       "3          201          500  \n",
       "4           51          200  \n",
       "\n",
       "[5 rows x 24 columns]"
      ]
     },
<<<<<<< HEAD
     "execution_count": 988,
=======
     "execution_count": 882,
>>>>>>> 256a7dbd8ef0e07116f3cb9c19903e6a2492b116
     "metadata": {},
     "output_type": "execute_result"
    }
   ],
   "source": [
    "df.head()"
   ]
  },
  {
   "cell_type": "code",
<<<<<<< HEAD
   "execution_count": 989,
=======
   "execution_count": 883,
>>>>>>> 256a7dbd8ef0e07116f3cb9c19903e6a2492b116
   "metadata": {},
   "outputs": [
    {
     "data": {
      "text/plain": [
       "0    ABOUT HOPPER\\n\\nAt Hopper, we’re on a mission ...\n",
       "1    At Noom, we use scientifically proven methods ...\n",
       "2    Decode_M\\n\\nhttps://www.decode-m.com/\\n\\nData ...\n",
       "3    Sapphire Digital seeks a dynamic and driven mi...\n",
       "4    Director, Data Science - (200537)\\nDescription...\n",
       "5    Job Brief\\n\\nThe ideal candidate will have pre...\n",
       "6    Experience: Entry-level (PhD Program) or Exper...\n",
       "7    Seeking a quant to work with senior researcher...\n",
       "8    Paige is a software company helping pathologis...\n",
       "9    About the Position\\n\\n\\nAt Jane Street, we con...\n",
       "Name: Job Description, dtype: object"
      ]
     },
<<<<<<< HEAD
     "execution_count": 989,
=======
     "execution_count": 883,
>>>>>>> 256a7dbd8ef0e07116f3cb9c19903e6a2492b116
     "metadata": {},
     "output_type": "execute_result"
    }
   ],
   "source": [
    "df[\"Job Description\"].head(10)"
   ]
  },
  {
   "cell_type": "code",
<<<<<<< HEAD
   "execution_count": 990,
=======
   "execution_count": 884,
>>>>>>> 256a7dbd8ef0e07116f3cb9c19903e6a2492b116
   "metadata": {},
   "outputs": [],
   "source": [
    "def cleaning_column (entry:str) -> str:\n",
    "    \"\"\"Cleans the text \n",
    "\n",
    "    Args:\n",
    "        entry (str): takes in a column of text\n",
    "\n",
    "    Returns:\n",
    "        str: returns an all lowered text that is cleaned from special chars and common stopowords.\n",
    "    \"\"\"\n",
    "    entry = entry.lower()\n",
    "    entry = entry.replace(\",\",\"\")\n",
    "    entry = entry.replace(\"\\n\",\" \")\n",
    "    entry = entry.replace(\".\",\"\")\n",
    "    entry = entry.replace(\"/ \",\"\")\n",
    "    entry = entry.replace(\"/\",\"|\")\n",
    "    entry = entry.replace(\"(\",\"\")\n",
    "    entry = entry.replace(\")\",\"\")\n",
    "    entry = entry.replace(\"  \",\" \")\n",
    "    entry = entry.replace(\" and \",\" \")\n",
    "    entry = entry.replace(\" a \",\" \")\n",
    "    entry = entry.replace(\" the \",\" \")\n",
    "    entry = entry.replace(\" our \",\" \")\n",
    "    entry = entry.replace(\" we \",\" \")\n",
    "    entry = entry.replace(\" to \",\" \")\n",
    "    entry = entry.replace(\" of \",\" \")\n",
    "    entry = entry.replace(\" is \",\" \")\n",
    "    entry = entry.replace(\" in \",\" \")\n",
    "    entry = entry.replace(\" with \",\" \")\n",
    "    entry = entry.replace(\" as \",\" \")\n",
    "    entry = entry.replace(\" has \",\" \")\n",
    "    entry = entry.replace(\" you \",\" \")\n",
    "    entry = entry.replace(\" that \",\" \")\n",
    "    entry = entry.replace(\" are \",\" \")\n",
    "    entry = entry.replace(\" at \",\" \")\n",
    "    entry = entry.replace(\" like \",\" \")\n",
    "    entry = entry.replace(\" on \",\" \")\n",
    "    entry = entry.replace(\" about \",\" \")\n",
    "    entry = entry.replace(\" have \",\" \")\n",
    "    entry = entry.replace(\" us \",\" \")\n",
    "    entry = entry.replace(\" help \",\" \")\n",
    "    entry = entry.replace(\" for \",\" \")\n",
    "    entry = entry.replace(\" what \",\" \")\n",
    "    entry = entry.replace(\" real \",\" \")\n",
    "    entry = entry.replace(\" their \",\" \")\n",
    "    entry = entry.replace(\" new \",\" \")\n",
    "    entry = entry.replace(\" an \",\" \")\n",
    "    entry = entry.replace(\" or \",\" \")\n",
    "    entry = entry.replace(\" this \",\" \")\n",
    "    entry = entry.replace(\" in \",\" \")\n",
    "    entry = entry.replace(\" into \",\" \")\n",
    "    entry = entry.replace(\"•\",\" \")\n",
    "    entry = entry.replace(\" will \",\" \")\n",
    "    entry = entry.replace(\" from \",\" \")\n",
    "    entry = entry.replace(\" be \",\" \")\n",
    "    entry = entry.replace(\" by \",\" \")\n",
    "    \n",
    "    \n",
    "    #ne moze ovako, treba generalizirati, mozda rijeci vece od 3 uzeti u obzir\n",
    "    \n",
    "    \n",
    "    \n",
    "    \n",
    "    return entry\n"
   ]
  },
  {
   "cell_type": "code",
<<<<<<< HEAD
   "execution_count": 991,
=======
   "execution_count": 885,
>>>>>>> 256a7dbd8ef0e07116f3cb9c19903e6a2492b116
   "metadata": {},
   "outputs": [],
   "source": [
    "def word_frequency(text: str)-> dict:\n",
    "    \"\"\"takes in a column of text, and returns a dictionary of words sorted by frequency\n",
    "\n",
    "    Args:\n",
    "        text (str): sentences \n",
    "\n",
    "    Returns:\n",
    "        dict: column of sorted dictionaries\n",
    "    \"\"\"\n",
    "    \n",
    "    words = text.split()\n",
    "    frequency = {}\n",
    "    for word in words:\n",
    "        if word in frequency:\n",
    "            frequency[word] += 1\n",
    "        else:\n",
    "            frequency[word] = 1\n",
    "    sorted_frequency = {k: v for k, v in sorted(frequency.items(), key=lambda item: item[1], reverse=True)} #sort by descending order\n",
    "    return sorted_frequency\n"
   ]
  },
  {
   "cell_type": "code",
<<<<<<< HEAD
   "execution_count": 992,
=======
   "execution_count": 886,
>>>>>>> 256a7dbd8ef0e07116f3cb9c19903e6a2492b116
   "metadata": {},
   "outputs": [],
   "source": [
    "from itertools import islice\n",
    "\n",
    "def merge_dict_from_word_frequency (entry: dict) -> dict:\n",
    "    \"\"\"merges all rows from a column of dictionaries into a single dictionary\n",
    "\n",
    "    Args:\n",
    "        entry (dict): dictionary we want to merge\n",
    "\n",
    "    Returns:\n",
    "        dict: a single dictionary with combined values \n",
    "    \"\"\"\n",
    "    merged_dict = defaultdict(int)\n",
    "    for d in entry:\n",
    "        for key, value in d.items():\n",
    "            merged_dict[key] += value\n",
    "\n",
    "    new_frequency_sorted = {k: v for k, v in sorted(merged_dict.items(), key=lambda item: item[1], reverse=True)} #sorts the dict by descending order\n",
    "    return new_frequency_sorted\n",
    "    \n",
    "def take(n :int, iterable: dict)->list:\n",
    "    \"\"\"Return the first n items of the iterable as a list.\n",
    "\n",
    "    Args:\n",
    "        n (int): number of words \n",
    "        iterable (dict): dictionary we want to return as a list\n",
    "\n",
    "    Returns:\n",
    "        list: first n items from the dict \n",
    "    \"\"\"\n",
    "    \n",
    "    return list(islice(iterable, n))\n",
    "\n",
    "def n_most_searched_words(entry):\n",
    "    \"\"\"this method only loops thru the list and prints the top n words searched\n",
    "\n",
    "    Args:\n",
    "        entry (list): list of items \n",
    "    \"\"\"\n",
    "    for item in entry:\n",
    "         print(item[0])\n",
    "            \n",
    "\n",
    "#ideje\n",
    "#spojiti sve ove metode da samo treba jednu funkciju pokrenuti (od kolone job title -> top 10 words)\n",
    "#popraviti filtriranje da sam izabere koje ce char ukloniti mozda sve rijeci krace od 4 iskljuciti automatski, sve special chars\n"
   ]
  },
  {
   "cell_type": "code",
<<<<<<< HEAD
   "execution_count": 993,
=======
   "execution_count": 887,
>>>>>>> 256a7dbd8ef0e07116f3cb9c19903e6a2492b116
   "metadata": {},
   "outputs": [
    {
     "name": "stdout",
     "output_type": "stream",
     "text": [
      "data\n",
      "experience\n",
      "work\n",
      "business\n",
      "team\n",
      "skills\n",
      "development\n",
      "years\n",
      "science\n",
      "other\n"
     ]
    }
   ],
   "source": [
    "df[\"Job Description\"]=df[\"Job Description\"].apply(lambda x: cleaning_column(x))\n",
    "df['frequency'] = df[\"Job Description\"].apply(word_frequency)\n",
    "merged_sorted_freq = merge_dict_from_word_frequency(df[\"frequency\"])\n",
    "items = take(10, merged_sorted_freq.items())\n",
    "n_most_searched_words(items)"
   ]
  },
  {
   "cell_type": "code",
<<<<<<< HEAD
   "execution_count": 994,
=======
   "execution_count": 892,
>>>>>>> 256a7dbd8ef0e07116f3cb9c19903e6a2492b116
   "metadata": {},
   "outputs": [],
   "source": [
    "df[\"Minimum Salary\"] = df[\"Minimum Salary\"].astype(float)\n",
    "df[\"Maximum Salary\"] = df[\"Maximum Salary\"].astype(float)\n",
    "df[\"max_size_emp\"] = df[\"max_size_emp\"].astype(float)\n",
    "df[\"min_size_emp\"] = df[\"min_size_emp\"].astype(float)\n",
    "\n",
    "\n",
    "\n"
   ]
  },
  {
   "cell_type": "code",
<<<<<<< HEAD
   "execution_count": 995,
=======
   "execution_count": 889,
>>>>>>> 256a7dbd8ef0e07116f3cb9c19903e6a2492b116
   "metadata": {},
   "outputs": [
    {
     "data": {
      "text/plain": [
<<<<<<< HEAD
       "<matplotlib.legend.Legend at 0x18d84ad90>"
      ]
     },
     "execution_count": 995,
=======
       "<matplotlib.legend.Legend at 0x184316c50>"
      ]
     },
     "execution_count": 889,
>>>>>>> 256a7dbd8ef0e07116f3cb9c19903e6a2492b116
     "metadata": {},
     "output_type": "execute_result"
    },
    {
     "data": {
      "image/png": "iVBORw0KGgoAAAANSUhEUgAAAncAAAHWCAYAAAAVYq+0AAAAOXRFWHRTb2Z0d2FyZQBNYXRwbG90bGliIHZlcnNpb24zLjcuMSwgaHR0cHM6Ly9tYXRwbG90bGliLm9yZy/bCgiHAAAACXBIWXMAAA9hAAAPYQGoP6dpAABRnUlEQVR4nO3deVhV5d7/8c8GBRQEwgEcQEgtMxAcCfOkKYVpJmpmHlNxrAzTyAZ8FK1OkZaklid/Vg49aZod8piVRThUSk7gSRvMPCqZgtNRFFMQ1u8PH/dxyyDzhuX7dV37ir3Wve71XXvB7uO9JothGIYAAABgCg72LgAAAAAVh3AHAABgIoQ7AAAAEyHcAQAAmAjhDgAAwEQIdwAAACZCuAMAADARwh0AAICJEO4AAABMhHAHoFrq3r27unfvbu8yyuXgwYOyWCxasmRJpa9ryZIlslgsOnjwoHWav7+/7r///kpftyRt3LhRFotFGzdurJL1ASga4Q5Ahdi9e7cefPBBNW/eXC4uLmratKnuuecevfnmm/YurcJYLBbrq1atWvLy8lKHDh00ceJE/fTTTxW2nr///e9VEgjLojrXBuAyC8+WBVBeW7Zs0d133y0/Pz+NGDFCPj4++v333/X9999r//79+u2330rd55VRu+o0EmSxWHTPPfdo+PDhMgxDZ86c0b/+9S+tWrVK2dnZmjlzpmJiYqztDcPQxYsXVbt2bTk6OpZ4PYGBgWrQoEGptj0vL0+5ublydnaWxWKRdHnkLjAwUGvXri1xP2WtLT8/Xzk5OXJycpKDA+MGgD3VsncBAGq+l19+WR4eHtq+fbs8PT1t5h07dsw+RV3l0qVLys/Pl5OTU7n7uuWWW/TII4/YTHv11VfVt29fPf3002rdurV69+4t6XIYdHFxKfc6i5OdnS1XV1c5OjqWKkBWNAcHh0rfVgAlwz+vAJTb/v37dfvttxcIdpLUqFEjm/eLFy9Wjx491KhRIzk7O6tNmzZ6++23r7uOnJwcxcXFqUOHDvLw8JCrq6v+8pe/aMOGDTbtrpzn9vrrr2vOnDlq0aKFnJ2dtW3bNrm6umrixIkF+j58+LAcHR0VHx9fug3/P/Xr19eKFStUq1YtvfzyywVqufowZkZGhkaOHKlmzZrJ2dlZjRs3Vr9+/aznyvn7++vHH3/Upk2brIeAr4xiXjmvbtOmTRo/frwaNWqkZs2a2cy7+py7K7766iuFhITIxcVFbdq0UWJios38GTNmWEf7rnZtn8XVVtQ5d6tWrVKHDh1Up04dNWjQQI888oj++OMPmzZRUVFyc3PTH3/8ocjISLm5ualhw4aaPHmy8vLyrvPpA7gWI3cAyq158+ZKSUnRnj17FBgYWGzbt99+W7fffrseeOAB1apVS59++qnGjx+v/Px8PfHEE0Uul5WVpXfffVdDhgzR2LFjdfbsWb333nuKiIjQtm3bFBISYtN+8eLFunDhgsaNGydnZ2f5+fmpf//+WrlypRISEmxGuT788EMZhqGhQ4eW+TPw8/NTt27dtGHDBmVlZcnd3b3QdgMHDtSPP/6oCRMmyN/fX8eOHVNSUpLS09Pl7++vOXPmaMKECXJzc9P//M//SJK8vb1t+hg/frwaNmyouLg4ZWdnF1vXvn37NHjwYD322GMaMWKEFi9erEGDBmndunW65557SrWNJantakuWLNHIkSPVqVMnxcfHKzMzU3PnztXmzZuVlpZm84+BvLw8RUREKDQ0VK+//rq+/vprzZ49Wy1atNDjjz9eqjqBG54BAOX01VdfGY6Ojoajo6MRFhZmPPvss8aXX35p5OTkFGh7/vz5AtMiIiKMm2++2WZat27djG7dulnfX7p0ybh48aJNm//85z+Gt7e3MWrUKOu0AwcOGJIMd3d349ixYzbtv/zyS0OS8cUXX9hMb9u2rc26iiLJeOKJJ4qcP3HiREOS8a9//cumlsWLF1vrlWS89tprxa7n9ttvL7SexYsXG5KMrl27GpcuXSp03oEDB6zTmjdvbkgy/vGPf1innTlzxmjcuLHRrl0767Tp06cbhf3voLA+i6ptw4YNhiRjw4YNhmEYRk5OjtGoUSMjMDDQ+PPPP63t1q5da0gy4uLirNNGjBhhSDJefPFFmz7btWtndOjQocC6ABSPw7IAyu2ee+5RSkqKHnjgAf3rX//SrFmzFBERoaZNm2rNmjU2bevUqWP9+cyZMzpx4oS6deumf//73zpz5kyR63B0dLSeM5efn69Tp07p0qVL6tixo1JTUwu0HzhwoBo2bGgzLTw8XE2aNNGyZcus0/bs2aMffvihwHl0ZeHm5iZJOnv2bKHz69SpIycnJ23cuFH/+c9/yryesWPHlvj8uiZNmqh///7W9+7u7ho+fLjS0tKUkZFR5hquZ8eOHTp27JjGjx9vcy5enz591Lp1a3322WcFlnnsscds3v/lL3/Rv//970qrETArwh2ACtGpUyclJibqP//5j7Zt26bY2FidPXtWDz74oM1tQjZv3qzw8HC5urrK09NTDRs21JQpUySp2HAnSUuXLlXbtm3l4uKi+vXrq2HDhvrss88KXS4gIKDANAcHBw0dOlSrV6/W+fPnJUnLli2Ti4uLBg0aVJ7NlySdO3dOklSvXr1C5zs7O2vmzJn64osv5O3trbvuukuzZs0qdcgqbNuK0rJlywLn091yyy2SVOj5eRXl0KFDkqRbb721wLzWrVtb51/h4uJSIIzfdNNN5QrBwI2KcAegQjk5OalTp0565ZVX9Pbbbys3N1erVq2SdPnCi549e+rEiRNKSEjQZ599pqSkJD311FOSLo/IFeWDDz5QVFSUWrRooffee0/r1q1TUlKSevToUehyV48QXm348OE6d+6cVq9eLcMwtHz5ct1///3y8PAo97bv2bNHjo6OxYavSZMm6ddff1V8fLxcXFw0bdo03XbbbUpLSyvxeoratrIq7GIKSVV6MYM9r/QFzIYLKgBUmo4dO0qSjh49Kkn69NNPdfHiRa1Zs0Z+fn7Wdtde8VqYjz/+WDfffLMSExNtwsj06dNLVVNgYKDatWunZcuWqVmzZkpPT6+QGy2np6dr06ZNCgsLK3Lk7ooWLVro6aef1tNPP619+/YpJCREs2fP1gcffCCp6LBVFr/99psMw7Dp89dff5V0+epX6fIImSSdPn3a5iKHa0fXSlNb8+bNJUl79+5Vjx49bObt3bvXOh9AxWPkDkC5bdiwQUYh90P//PPPJf330NyV0Zmr2545c0aLFy++7joKW3br1q1KSUkpdb3Dhg3TV199pTlz5qh+/fq67777St3H1U6dOqUhQ4YoLy/PehVpYc6fP68LFy7YTGvRooXq1aunixcvWqe5urrq9OnT5arpiiNHjuiTTz6xvs/KytL777+vkJAQ+fj4WGuQpG+++cbaLjs7W0uXLi3QX0lr69ixoxo1aqQFCxbYbNsXX3yhn3/+WX369CnrJgG4DkbuAJTbhAkTdP78efXv31+tW7dWTk6OtmzZopUrV8rf318jR46UJN17771ycnJS37599eijj+rcuXN655131KhRI+voXlHuv/9+JSYmqn///urTp48OHDigBQsWqE2bNtZz3Urqr3/9q5599ll98sknevzxx1W7du0SL/vrr7/qgw8+kGEYysrKsj6h4ty5c0pISFCvXr2KXbZnz5566KGH1KZNG9WqVUuffPKJMjMz9fDDD1vbdejQQW+//bb+9re/qWXLlmrUqFGB0a+SuuWWWzR69Ght375d3t7eWrRokTIzM20C9b333is/Pz+NHj1azzzzjBwdHbVo0SI1bNhQ6enpNv2VtLbatWtr5syZGjlypLp166YhQ4ZYb4Xi7+9vPRQPoBLY81JdAObwxRdfGKNGjTJat25tuLm5GU5OTkbLli2NCRMmGJmZmTZt16xZY7Rt29ZwcXEx/P39jZkzZxqLFi0qcMuNa2+Fkp+fb7zyyitG8+bNDWdnZ6Ndu3bG2rVrjREjRhjNmze3trty+5Hr3W6kd+/ehiRjy5YtJd5OSdaXg4OD4enpabRr186YOHGi8eOPPxZof+2tUE6cOGE88cQTRuvWrQ1XV1fDw8PDCA0NNT766COb5TIyMow+ffoY9erVMyRZP4crtybZvn17gXUVdSuUPn36GF9++aXRtm1bw9nZ2WjdurWxatWqAsvv3LnTCA0NNZycnAw/Pz8jISGh0D6Lqu3aW6FcsXLlSqNdu3aGs7Oz4eXlZQwdOtQ4fPiwTZsRI0YYrq6uBWoq6hYtAIrHs2UB3JD69++v3bt3l+m5twBQnXHOHYAbztGjR/XZZ59p2LBh9i4FACoc59wBuGEcOHBAmzdv1rvvvqvatWvr0UcftXdJAFDhGLkDcMPYtGmThg0bpgMHDmjp0qXWq0UBwEw45w4AAMBEGLkDAAAwEcIdAACAiXBBRRnl5+fryJEjqlevXoU+KggAAOBahmHo7NmzatKkiRwcih+bI9yV0ZEjR+Tr62vvMgAAwA3k999/V7NmzYptQ7groysPBv/999/l7u5u52oAAICZZWVlydfX15o/ikO4K6Mrh2Ld3d0JdwAAoEqU5FQwLqgAAAAwEcIdAACAiRDuAAAATIRz7gAAqIYMw9ClS5eUl5dn71JQRWrXri1HR8dy90O4AwCgmsnJydHRo0d1/vx5e5eCKmSxWNSsWTO5ubmVqx/CHQAA1Uh+fr4OHDggR0dHNWnSRE5OTtws/wZgGIaOHz+uw4cPq1WrVuUawasW4W7+/Pl67bXXlJGRoeDgYL355pvq3Llzke1XrVqladOm6eDBg2rVqpVmzpyp3r17W+fPmDFDK1as0O+//y4nJyd16NBBL7/8skJDQ61tTp06pQkTJujTTz+Vg4ODBg4cqLlz55Y7LQMAUB45OTnKz8+Xr6+v6tata+9yUIUaNmyogwcPKjc3t1zhzu4XVKxcuVIxMTGaPn26UlNTFRwcrIiICB07dqzQ9lu2bNGQIUM0evRopaWlKTIyUpGRkdqzZ4+1zS233KK33npLu3fv1nfffSd/f3/de++9On78uLXN0KFD9eOPPyopKUlr167VN998o3HjxlX69gIAUBLXe8QUzKeiRmgthmEYFdJTGYWGhqpTp0566623JMn6r5UJEybo+eefL9B+8ODBys7O1tq1a63T7rjjDoWEhGjBggWFriMrK0seHh76+uuv1bNnT/38889q06aNtm/fro4dO0qS1q1bp969e+vw4cNq0qTJdeu+0ueZM2e4iTEAoMJcuHBBBw4cUEBAgFxcXOxdDqpQcfu+NLnDrv8syMnJ0c6dOxUeHm6d5uDgoPDwcKWkpBS6TEpKik17SYqIiCiyfU5OjhYuXCgPDw8FBwdb+/D09LQGO0kKDw+Xg4ODtm7dWmg/Fy9eVFZWls0LAACgurFruDtx4oTy8vLk7e1tM93b21sZGRmFLpORkVGi9mvXrpWbm5tcXFz0xhtvKCkpSQ0aNLD20ahRI5v2tWrVkpeXV5HrjY+Pl4eHh/Xl6+tbqm0FAAC2unfvrkmTJtm7DC1ZskSenp72LqPCVIsLKirD3XffrV27dunEiRN655139NBDD2nr1q0FQl1JxcbGKiYmxvr+ygN8AQCoKrGJu6t0ffEDgkrVPioqSkuXLtWjjz5a4FSpJ554Qn//+981YsQILVmyRJKUmJio2rVrl6vG48ePKy4uTp999pkyMzN10003KTg4WHFxcbrzzjvL1XdNZdeRuwYNGsjR0VGZmZk20zMzM+Xj41PoMj4+PiVq7+rqqpYtW+qOO+7Qe++9p1q1aum9996z9nHtBRuXLl3SqVOnilyvs7Oz3N3dbV4AAMCWr6+vVqxYoT///NM67cKFC1q+fLn8/Pxs2np5ealevXrlWt/AgQOVlpampUuX6tdff9WaNWvUvXt3nTx5slz9llZOTk6Vrq84dg13V25TkpycbJ2Wn5+v5ORkhYWFFbpMWFiYTXtJSkpKKrL91f1evHjR2sfp06e1c+dO6/z169crPz/f5nYpAACgdNq3by9fX18lJiZapyUmJsrPz0/t2rWzaXvtYVl/f3+98sorGjVqlOrVqyc/Pz8tXLiwyHWdPn1a3377rWbOnKm7775bzZs3V+fOnRUbG6sHHnjA2i4hIUFBQUFydXWVr6+vxo8fr3PnzhXZ7/79+9WvXz95e3vLzc1NnTp10tdff23Txt/fXy+99JKGDx8ud3d3jRs3Tj169FB0dLRNu+PHj8vJyalAdqlMdr/OOiYmRu+8846WLl2qn3/+WY8//riys7M1cuRISdLw4cMVGxtrbT9x4kStW7dOs2fP1i+//KIZM2Zox44d1g8zOztbU6ZM0ffff69Dhw5p586dGjVqlP744w8NGjRIknTbbbepV69eGjt2rLZt26bNmzcrOjpaDz/8cImulAUAAEUbNWqUFi9ebH2/aNEi6//Xr2f27Nnq2LGj0tLSNH78eD3++OPau3dvoW3d3Nzk5uam1atXWwdwCuPg4KB58+bpxx9/1NKlS7V+/Xo9++yzRbY/d+6cevfureTkZKWlpalXr17q27ev0tPTbdq9/vrrCg4OVlpamqZNm6YxY8Zo+fLlNrV88MEHatq0qXr06FGi7a8Idg93gwcP1uuvv664uDiFhIRo165dWrdunfWiifT0dB09etTavkuXLlq+fLkWLlyo4OBgffzxx1q9erUCAwMlSY6Ojvrll180cOBA3XLLLerbt69Onjypb7/9Vrfffru1n2XLlql169bq2bOnevfura5duxb7rwNUH7GJu60vAED188gjj+i7777ToUOHdOjQIW3evFmPPPJIiZbt3bu3xo8fr5YtW+q5555TgwYNtGHDhkLb1qpVS0uWLNHSpUvl6empO++8U1OmTNEPP/xg027SpEm6++675e/vrx49euhvf/ubPvrooyJrCA4O1qOPPqrAwEC1atVKL730klq0aKE1a9bYtOvRo4eefvpptWjRQi1atNCAAQMkSf/85z+tbZYsWaKoqKgqfcpItbigIjo6usAw5hUbN24sMG3QoEHWUbhrubi42AwFF8XLy0vLly8vVZ0AAOD6GjZsqD59+mjJkiUyDEN9+vSx3rHietq2bWv92WKxFHqe/NUGDhyoPn366Ntvv9X333+vL774QrNmzdK7776rqKgoSdLXX3+t+Ph4/fLLL8rKytKlS5d04cIFnT9/vtCngJw7d04zZszQZ599pqNHj+rSpUv6888/C4zcXX1LNelyBhk2bJgWLVqkhx56SKmpqdqzZ0+BUFjZ7D5yBwAAzGfUqFHWUbVRo0aVeLlrr561WCzKz88vdhkXFxfdc889mjZtmrZs2aKoqChNnz5dknTw4EHdf//9atu2rf7xj39o586dmj9/vqSiL4KYPHmyPvnkE73yyiv69ttvtWvXLgUFBRVo7+rqWmDZMWPGKCkpSYcPH9bixYvVo0cPNW/evMTbXxGqxcgdAAAwl169eiknJ0cWi0URERFVuu42bdpo9erVkqSdO3cqPz9fs2fPtj7SrbhDspK0efNmRUVFqX///pIuj+QdPHiwROsOCgpSx44d9c4772j58uXWJ3BVJcIdAACocI6Ojvr555+tP1eGkydPatCgQRo1apTatm2revXqaceOHZo1a5b69esnSWrZsqVyc3P15ptvqm/fvtq8eXORjyu9olWrVkpMTFTfvn1lsVg0bdq0644eXm3MmDGKjo6Wq6urNSBWJcIdAAA1RGlvKmxvlX1PWDc3N4WGhuqNN97Q/v37lZubK19fX40dO1ZTpkyRdPniiISEBM2cOVOxsbG66667FB8fr+HDhxfZb0JCgkaNGqUuXbqoQYMGeu6550r12NEhQ4Zo0qRJGjJkiF2eD2wxDMOo8rWaQGke4IuKdfVVsjXtiw4Arqe4h8ejZjh48KBatGih7du3q3379iVerrh9X5rcwcgdAABABcjNzdXJkyc1depU3XHHHaUKdhWJq2UBAAAqwObNm9W4cWNt3779uuf1VSZG7gAAACpA9+7dVR3OdmPkDgAAwEQIdwAAACZCuAMAADARwh0AAICJEO4AAABMhHAHAABgItwKBQCAmuLTiVW7vr5zq3Z91cTBgwcVEBCgtLQ0hYSE2LucUmPkDqiGYhN327wAoCaIioqSxWLRY489VmDeE088IYvFoqioqEqtIS8vT6+++qpat26tOnXqyMvLS6GhoXr33Xcrdb3VCeEOAABUGF9fX61YsUJ//vmnddqFCxe0fPly+fn5Vfr6X3jhBb3xxht66aWX9NNPP2nDhg0aN26cTp8+XenrvlpOTk6Vru9qhDsAAFBh2rdvL19fXyUmJlqnJSYmys/PT+3atbNpu27dOnXt2lWenp6qX7++7r//fu3fv986//3335ebm5v27dtnnTZ+/Hi1bt1a58+fL3T9a9as0fjx4zVo0CAFBAQoODhYo0eP1uTJk0u83mvl5eVp9OjRCggIUJ06dXTrrbdq7lzbQ9ZRUVGKjIzUyy+/rCZNmujWW2/Viy++qMDAwAL9hYSEaNq0aUWur7wIdwAAoEKNGjVKixcvtr5ftGiRRo4cWaBddna2YmJitGPHDiUnJ8vBwUH9+/dXfn6+JGn48OHq3bu3hg4dqkuXLumzzz7Tu+++q2XLlqlu3bqFrtvHx0fr16/X8ePHi6zveuu9Vn5+vpo1a6ZVq1bpp59+UlxcnKZMmaKPPvrIpl1ycrL27t2rpKQkrV27VqNGjdLPP/+s7du3W9ukpaXphx9+KPTzqChcUAEAACrUI488otjYWB06dEiStHnzZq1YsUIbN260aTdw4ECb94sWLVLDhg31008/WUe8/t//+39q27atnnzySSUmJmrGjBnq0KFDketOSEjQgw8+KB8fH91+++3q0qWL+vXrp/vuu69U671a7dq19cILL1jfBwQEKCUlRR999JEeeugh63RXV1e9++67cnJysk6LiIjQ4sWL1alTJ0nS4sWL1a1bN918881FbkN5MXIHAAAqVMOGDdWnTx8tWbJEixcvVp8+fdSgQYMC7fbt26chQ4bo5ptvlru7u/z9/SVJ6enp1jY33XST3nvvPb399ttq0aKFnn/++WLX3aZNG+3Zs0fff/+9Ro0apWPHjqlv374aM2ZMqdZ7rfnz56tDhw5q2LCh3NzctHDhwgLtg4KCbIKdJI0dO1YffvihLly4oJycHC1fvlyjRo0qdhvKi5E7AABQ4UaNGqXo6GhJl4NRYfr27avmzZvrnXfeUZMmTZSfn6/AwMACFyN88803cnR01NGjR5Wdna169eoVu24HBwd16tRJnTp10qRJk/TBBx9o2LBh+p//+R8FBASUeL1XrFixQpMnT9bs2bMVFhamevXq6bXXXtPWrVtt2rm6uha6jc7Ozvrkk0/k5OSk3NxcPfjgg8XWX16EOwAAUOF69eqlnJwcWSwWRUREFJh/8uRJ7d27V++8847+8pe/SJK+++67Au22bNmimTNn6tNPP9Vzzz2n6OhoLV26tFS1tGnTRtLlc+1Kut6rbd68WV26dNH48eOt04q7AONqtWrV0ogRI7R48WI5OTnp4YcfVp06dUpVf2kR7gAAQIVzdHTUzz//bP35WjfddJPq16+vhQsXqnHjxkpPTy9wyPXs2bMaNmyYnnzySd13331q1qyZOnXqpL59+xY5+vXggw/qzjvvVJcuXeTj46MDBw4oNjZWt9xyi1q3bi0HB4frrvdarVq10vvvv68vv/xSAQEB+t///V9t375dAQEBJfosxowZo9tuu03S5aBY2Qh3AADUFDXsiRHu7u5FznNwcNCKFSv05JNPKjAwULfeeqvmzZun7t27W9tMnDhRrq6ueuWVVyRdPqftlVde0aOPPqqwsDA1bdq0QL8RERH68MMPFR8frzNnzsjHx0c9evTQjBkzVKvW5dhzvfVe69FHH1VaWpoGDx4si8WiIUOGaPz48friiy9K9Dm0atVKXbp00alTpxQaGlqiZcrDYhiGUelrMaGsrCx5eHjozJkzxf7youJd/cSG+AFBdqyk8lz7VAqzbieAgi5cuKADBw4oICBALi4u9i4HFcAwDLVq1Urjx49XTExMke2K2/elyR2M3AEAAFSS48ePa8WKFcrIyKjUe9tdjXAHAABQSRo1aqQGDRpo4cKFuummm6pknYQ7AACASmKPs9+4iTEAAICJEO4AAKiGuN7xxlNR+5xwBwBANVK7dm1J0vnz5+1cCaralSdkFHZfwNLgnDsAAKoRR0dHeXp66tixY5KkunXrymKx2LkqVLb8/HwdP35cdevWtd6Pr6wIdwAAVDM+Pj6SZA14uDE4ODjIz8+v3GGecAcAQDVjsVjUuHFjNWrUSLm5ufYuB1XEyclJDg7lP2OOcAcAQDXl6OhY7vOvcOPhggoAAAATIdwBAACYCOEOAADARAh3AAAAJkK4AwAAMBHCHQAAgIkQ7gAAAEyEcAcAAGAihDsAAAATIdwBAACYCOEOAADARAh3AAAAJkK4AwAAMBHCHQAAgIkQ7gAAAEykWoS7+fPny9/fXy4uLgoNDdW2bduKbb9q1Sq1bt1aLi4uCgoK0ueff26dl5ubq+eee05BQUFydXVVkyZNNHz4cB05csSmD39/f1ksFpvXq6++WinbBwAAUFXsHu5WrlypmJgYTZ8+XampqQoODlZERISOHTtWaPstW7ZoyJAhGj16tNLS0hQZGanIyEjt2bNHknT+/HmlpqZq2rRpSk1NVWJiovbu3asHHnigQF8vvviijh49an1NmDChUrcVAACgslkMwzDsWUBoaKg6deqkt956S5KUn58vX19fTZgwQc8//3yB9oMHD1Z2drbWrl1rnXbHHXcoJCRECxYsKHQd27dvV+fOnXXo0CH5+flJujxyN2nSJE2aNKlMdWdlZcnDw0NnzpyRu7t7mfpA2cQm7rb+HD8gyI6VVJ6rt1Ey73YCAEqmNLnDriN3OTk52rlzp8LDw63THBwcFB4erpSUlEKXSUlJsWkvSREREUW2l6QzZ87IYrHI09PTZvqrr76q+vXrq127dnrttdd06dKlIvu4ePGisrKybF4AAADVTS17rvzEiRPKy8uTt7e3zXRvb2/98ssvhS6TkZFRaPuMjIxC21+4cEHPPfechgwZYpN0n3zySbVv315eXl7asmWLYmNjdfToUSUkJBTaT3x8vF544YXSbB4AAECVs2u4q2y5ubl66KGHZBiG3n77bZt5MTEx1p/btm0rJycnPfroo4qPj5ezs3OBvmJjY22WycrKkq+vb+UVDwAAUAZ2DXcNGjSQo6OjMjMzbaZnZmbKx8en0GV8fHxK1P5KsDt06JDWr19/3ePToaGhunTpkg4ePKhbb721wHxnZ+dCQx8AAEB1Ytdz7pycnNShQwclJydbp+Xn5ys5OVlhYWGFLhMWFmbTXpKSkpJs2l8Jdvv27dPXX3+t+vXrX7eWXbt2ycHBQY0aNSrj1gAAANif3Q/LxsTEaMSIEerYsaM6d+6sOXPmKDs7WyNHjpQkDR8+XE2bNlV8fLwkaeLEierWrZtmz56tPn36aMWKFdqxY4cWLlwo6XKwe/DBB5Wamqq1a9cqLy/Pej6el5eXnJyclJKSoq1bt+ruu+9WvXr1lJKSoqeeekqPPPKIbrrpJvt8EAAAABXA7uFu8ODBOn78uOLi4pSRkaGQkBCtW7fOetFEenq6HBz+O8DYpUsXLV++XFOnTtWUKVPUqlUrrV69WoGBgZKkP/74Q2vWrJEkhYSE2Kxrw4YN6t69u5ydnbVixQrNmDFDFy9eVEBAgJ566imbc+pwY+CWIwAAs7F7uJOk6OhoRUdHFzpv48aNBaYNGjRIgwYNKrS9v7+/rnfrvvbt2+v7778vdZ0AAADVnd2fUAEAAICKQ7gDAAAwEcIdAACAiRDuAAAATIRwBwAAYCKEOwAAABMh3AEAAJgI4Q4AAMBECHcAAAAmQrgDAAAwEcIdAACAiRDuAAAATIRwBwAAYCKEOwAAABMh3AEAAJgI4Q4AAMBECHcAAAAmQrgDAAAwEcIdAACAidSydwEAUBliE3fbvI8fEGSnSgCgajFyBwAAYCKEOwAAABMh3AEAAJgI4Q4AAMBECHcAAAAmQrgDAAAwEcIdAACAiRDuAAAATIRwBwAAYCKEOwAAABMh3AEAAJgI4Q4AAMBECHcAAAAmQrgDAAAwEcIdAACAiRDuAAAATIRwBwAAYCKEOwAAABMh3AEAAJgI4Q4AAMBECHcAAAAmQrgDAAAwEcIdAACAiRDuAAAATIRwBwAAYCKEOwAAABMh3AEAAJgI4Q4AAMBECHcAAAAmQrgDAAAwEcIdAACAiVSLcDd//nz5+/vLxcVFoaGh2rZtW7HtV61apdatW8vFxUVBQUH6/PPPrfNyc3P13HPPKSgoSK6urmrSpImGDx+uI0eO2PRx6tQpDR06VO7u7vL09NTo0aN17ty5Stk+AACAqmL3cLdy5UrFxMRo+vTpSk1NVXBwsCIiInTs2LFC22/ZskVDhgzR6NGjlZaWpsjISEVGRmrPnj2SpPPnzys1NVXTpk1TamqqEhMTtXfvXj3wwAM2/QwdOlQ//vijkpKStHbtWn3zzTcaN25cpW8vAABAZbIYhmHYs4DQ0FB16tRJb731liQpPz9fvr6+mjBhgp5//vkC7QcPHqzs7GytXbvWOu2OO+5QSEiIFixYUOg6tm/frs6dO+vQoUPy8/PTzz//rDZt2mj79u3q2LGjJGndunXq3bu3Dh8+rCZNmly37qysLHl4eOjMmTNyd3cvy6ajjGITd1t/jh8QVGF9VUR/FaW61lWT8BkCMJPS5A67jtzl5ORo586dCg8Pt05zcHBQeHi4UlJSCl0mJSXFpr0kRUREFNleks6cOSOLxSJPT09rH56entZgJ0nh4eFycHDQ1q1bC+3j4sWLysrKsnkBAABUN3YNdydOnFBeXp68vb1tpnt7eysjI6PQZTIyMkrV/sKFC3ruuec0ZMgQa9LNyMhQo0aNbNrVqlVLXl5eRfYTHx8vDw8P68vX17dE2wgAAFCVatm7gMqUm5urhx56SIZh6O233y5XX7GxsYqJibG+z8rKIuChRuDwJADcWOwa7ho0aCBHR0dlZmbaTM/MzJSPj0+hy/j4+JSo/ZVgd+jQIa1fv97m+LSPj0+BCzYuXbqkU6dOFbleZ2dnOTs7l3jbAAAA7MGuh2WdnJzUoUMHJScnW6fl5+crOTlZYWFhhS4TFhZm016SkpKSbNpfCXb79u3T119/rfr16xfo4/Tp09q5c6d12vr165Wfn6/Q0NCK2DQAAAC7sPth2ZiYGI0YMUIdO3ZU586dNWfOHGVnZ2vkyJGSpOHDh6tp06aKj4+XJE2cOFHdunXT7Nmz1adPH61YsUI7duzQwoULJV0Odg8++KBSU1O1du1a5eXlWc+j8/LykpOTk2677Tb16tVLY8eO1YIFC5Sbm6vo6Gg9/PDDJbpSFgAAoLqye7gbPHiwjh8/rri4OGVkZCgkJETr1q2zXjSRnp4uB4f/DjB26dJFy5cv19SpUzVlyhS1atVKq1evVmBgoCTpjz/+0Jo1ayRJISEhNuvasGGDunfvLklatmyZoqOj1bNnTzk4OGjgwIGaN29e5W8wAABAJbJ7uJOk6OhoRUdHFzpv48aNBaYNGjRIgwYNKrS9v7+/SnLrPi8vLy1fvrxUdaJycMI/AAAVx+5PqAAAAEDFIdwBAACYCOEOAADARAh3AAAAJlItLqgAgPK69sIcALhRMXIHAABgIozcAaj5Pp2oyMOnbCatbvasnYoBAPti5A4AAMBECHcAAAAmwmFZACjOpxMLTus7t+rrAIASYuQOAADARAh3AAAAJkK4AwAAMBHCHQAAgIkQ7gAAAEyEcAcAAGAihDsAAAATIdwBAACYCOEOAADARAh3AAAAJkK4AwAAMBHCHQAAgInUsncBAGqW2MTd1p/jBwTZsRIAQGEYuQMAADARwh0AAICJlCnc/fvf/67oOgAAAFAByhTuWrZsqbvvvlsffPCBLly4UNE1AQAAoIzKFO5SU1PVtm1bxcTEyMfHR48++qi2bdtW0bUBAACglMoU7kJCQjR37lwdOXJEixYt0tGjR9W1a1cFBgYqISFBx48fr+g6AQAAUALluqCiVq1aGjBggFatWqWZM2fqt99+0+TJk+Xr66vhw4fr6NGjFVUnAAAASqBc4W7Hjh0aP368GjdurISEBE2ePFn79+9XUlKSjhw5on79+lVUnQAAACiBMt3EOCEhQYsXL9bevXvVu3dvvf/+++rdu7ccHC5nxYCAAC1ZskT+/v4VWSsAAACuo0zh7u2339aoUaMUFRWlxo0bF9qmUaNGeu+998pVHAAAAEqnTOEuKSlJfn5+1pG6KwzD0O+//y4/Pz85OTlpxIgRFVIkAAAASqZM59y1aNFCJ06cKDD91KlTCggIKHdRAAAAKJsyhTvDMAqdfu7cObm4uJSrIAAAAJRdqQ7LxsTESJIsFovi4uJUt25d67y8vDxt3bpVISEhFVogAAAASq5U4S4tLU3S5ZG73bt3y8nJyTrPyclJwcHBmjx5csVWCAAAgBIrVbjbsGGDJGnkyJGaO3eu3N3dK6UoAAAAlE2ZrpZdvHhxRdcBAACAClDicDdgwAAtWbJE7u7uGjBgQLFtExMTy10YAAAASq/E4c7Dw0MWi8X6M4CKE5u4294lAABMosTh7upDsRyWBQDUSJ9OtH3fd6596gAqUZnuc/fnn3/q/Pnz1veHDh3SnDlz9NVXX1VYYQAAACi9Ml1Q0a9fPw0YMECPPfaYTp8+rc6dO8vJyUknTpxQQkKCHn/88YquE7ihXXvYNn5AkJ0qAQBUd2UauUtNTdVf/vIXSdLHH38sHx8fHTp0SO+//77mzZtXoQUCAACg5MoU7s6fP6969epJkr766isNGDBADg4OuuOOO3To0KEKLRAAAAAlV6bDsi1bttTq1avVv39/ffnll3rqqackSceOHePGxrArDl8CAG50ZRq5i4uL0+TJk+Xv76/Q0FCFhYVJujyK165duwotEAAAACVXppG7Bx98UF27dtXRo0cVHBxsnd6zZ0/179+/wooDAABA6ZQp3EmSj4+PfHx8bKZ17ty53AUBAACg7Mp0WDY7O1vTpk1Tly5d1LJlS9188802r9KYP3++/P395eLiotDQUG3btq3Y9qtWrVLr1q3l4uKioKAgff755zbzExMTde+996p+/fqyWCzatWtXgT66d+8ui8Vi83rsscdKVTcAAEB1VKaRuzFjxmjTpk0aNmyYGjdubH0sWWmtXLlSMTExWrBggUJDQzVnzhxFRERo7969atSoUYH2W7Zs0ZAhQxQfH6/7779fy5cvV2RkpFJTUxUYGCjpcvDs2rWrHnroIY0dO7bIdY8dO1Yvvvii9X3dunXLtA0AAADVSZnC3RdffKHPPvtMd955Z7lWnpCQoLFjx2rkyJGSpAULFuizzz7TokWL9PzzzxdoP3fuXPXq1UvPPPOMJOmll15SUlKS3nrrLS1YsECSNGzYMEnSwYMHi1133bp1CxxWBoAai8dqAfg/ZTose9NNN8nLy6tcK87JydHOnTsVHh7+32IcHBQeHq6UlJRCl0lJSbFpL0kRERFFti/OsmXL1KBBAwUGBio2NtbmcWqFuXjxorKysmxeAAAA1U2Zwt1LL72kuLi46wai4pw4cUJ5eXny9va2me7t7a2MjIxCl8nIyChV+6L89a9/1QcffKANGzYoNjZW//u//6tHHnmk2GXi4+Pl4eFhffn6+pZqnQAAAFWhTIdlZ8+erf3798vb21v+/v6qXbu2zfzU1NQKKa6yjBs3zvpzUFCQGjdurJ49e2r//v1q0aJFocvExsYqJibG+j4rK4uABwAAqp0yhbvIyMhyr7hBgwZydHRUZmamzfTMzMwiz4Xz8fEpVfuSCg0NlST99ttvRYY7Z2dnOTs7l2s9AAAAla1M4W769OnlXrGTk5M6dOig5ORka1jMz89XcnKyoqOjC10mLCxMycnJmjRpknVaUlKS9QkZZXXldimNGzcuVz8AAAD2VuabGJ8+fVoff/yx9u/fr2eeeUZeXl5KTU2Vt7e3mjZtWqI+YmJiNGLECHXs2FGdO3fWnDlzlJ2dbb16dvjw4WratKni4+MlSRMnTlS3bt00e/Zs9enTRytWrNCOHTu0cOFCa5+nTp1Senq6jhw5Iknau3evpP/edHn//v1avny5evfurfr16+uHH37QU089pbvuuktt27Yt68cBAABQLZQp3P3www8KDw+Xh4eHDh48qLFjx8rLy0uJiYlKT0/X+++/X6J+Bg8erOPHjysuLk4ZGRkKCQnRunXrrBdNpKeny8Hhv9d8dOnSRcuXL9fUqVM1ZcoUtWrVSqtXr7be406S1qxZYw2HkvTwww9LujzaOGPGDDk5Oenrr7+2BklfX18NHDhQU6dOLctHAQAAUK2UKdzFxMQoKipKs2bNUr169azTe/furb/+9a+l6is6OrrIw7AbN24sMG3QoEEaNGhQkf1FRUUpKiqqyPm+vr7atGlTqWoEAACoKcp0K5Tt27fr0UcfLTC9adOmpb4tCQAAACpOmUbunJ2dC72J76+//qqGDRuWuygAQCW49ikWEk+yAEyoTCN3DzzwgF588UXl5uZKkiwWi9LT0/Xcc89p4MCBFVogAAAASq5M4W727Nk6d+6cGjZsqD///FPdunVTy5YtVa9ePb388ssVXSMAAABKqEyHZT08PJSUlKTNmzfrX//6l86dO6f27dsXeO4rAAAAqlapw11+fr6WLFmixMREHTx4UBaLRQEBAfLx8ZFhGLJYLJVRJwBUmtjE3Tbv4wcE2akSACi/Uh2WNQxDDzzwgMaMGaM//vhDQUFBuv3223Xo0CFFRUWpf//+lVUnAAAASqBUI3dLlizRN998o+TkZN19990289avX6/IyEi9//77Gj58eIUWCQAAgJIpVbj78MMPNWXKlALBTpJ69Oih559/XsuWLSPcAQC3HQFgJ6UKdz/88INmzZpV5Pz77rtP8+bNK3dRAACUCmEasCrVOXenTp2yPve1MN7e3vrPf/5T7qIAAABQNqUKd3l5eapVq+jBPkdHR126dKncRQEAAKBsSnVY1jAMRUVFydnZudD5Fy9erJCiAAAAUDalCncjRoy4bhsupgBQZpw3BQDlVqpwt3jx4sqqAwAAABWgTI8fA3ADKTCaNsYuZcAEGJkFqkSpLqgAAABA9cbIHYBKc+0zW6/FM1wBoOIR7gCgpins8CYA/B8OywIAAJgI4Q4AAMBECHcAAAAmQrgDAAAwEcIdAACAiXC1LIAKc71bnwAAKh8jdwAAACZCuAMAADARDssCJXTtIcdq9XSFa29qy/M6a4xq/XsFoEZi5A4AAMBEGLmDqTEqAgC40TByBwAAYCKEOwAAABMh3AEAAJgI4Q4AAMBEuKACsAOe5AAAqCyM3AEAAJgII3cAgJrn2ht3A7Bi5A4AAMBECHcAAAAmQrgDAAAwEcIdAACAiXBBBYBKEXl4ls371c2etVMlAHBjIdwBsJtr7/cXX9tOhQCAiRDuADO66jYRkYdPSWLkDABuFJxzBwAAYCKEOwAAABMh3AEAAJgI4Q4AAMBECHcAAAAmQrgDAAAwEcIdAACAidg93M2fP1/+/v5ycXFRaGiotm3bVmz7VatWqXXr1nJxcVFQUJA+//xzm/mJiYm69957Vb9+fVksFu3atatAHxcuXNATTzyh+vXry83NTQMHDlRmZmZFbhYA1AyfTrR9VVQ/5ekLQLnYNdytXLlSMTExmj59ulJTUxUcHKyIiAgdO3as0PZbtmzRkCFDNHr0aKWlpSkyMlKRkZHas2ePtU12dra6du2qmTNnFrnep556Sp9++qlWrVqlTZs26ciRIxowYECFbx8AAEBVs2u4S0hI0NixYzVy5Ei1adNGCxYsUN26dbVo0aJC28+dO1e9evXSM888o9tuu00vvfSS2rdvr7feesvaZtiwYYqLi1N4eHihfZw5c0bvvfeeEhIS1KNHD3Xo0EGLFy/Wli1b9P3331fKdgIAAFQVu4W7nJwc7dy50yaEOTg4KDw8XCkpKYUuk5KSUiC0RUREFNm+MDt37lRubq5NP61bt5afn1+x/Vy8eFFZWVk2L6DG4zAaAJiO3cLdiRMnlJeXJ29vb5vp3t7eysjIKHSZjIyMUrUvqg8nJyd5enqWqp/4+Hh5eHhYX76+viVeJwAAQFWx+wUVNUVsbKzOnDljff3+++/2LgkAAKCAWvZacYMGDeTo6FjgKtXMzEz5+PgUuoyPj0+p2hfVR05Ojk6fPm0zene9fpydneXs7Fzi9cD8YhN327yPHxBkp0oAAPgvu43cOTk5qUOHDkpOTrZOy8/PV3JyssLCwgpdJiwszKa9JCUlJRXZvjAdOnRQ7dq1bfrZu3ev0tPTS9UPAABAdWS3kTtJiomJ0YgRI9SxY0d17txZc+bMUXZ2tkaOHClJGj58uJo2bar4+HhJ0sSJE9WtWzfNnj1bffr00YoVK7Rjxw4tXLjQ2uepU6eUnp6uI0eOSLoc3KTLI3Y+Pj7y8PDQ6NGjFRMTIy8vL7m7u2vChAkKCwvTHXfcUcWfAAAAQMWya7gbPHiwjh8/rri4OGVkZCgkJETr1q2zXjSRnp4uB4f/Di526dJFy5cv19SpUzVlyhS1atVKq1evVmBgoLXNmjVrrOFQkh5++GFJ0vTp0zVjxgxJ0htvvCEHBwcNHDhQFy9eVEREhP7+979XwRYDAABULruGO0mKjo5WdHR0ofM2btxYYNqgQYM0aNCgIvuLiopSVFRUset0cXHR/PnzNX/+/NKUCqAcIg/PKjBtdbNn7VAJAJgbV8sCAACYCOEOAADAROx+WBY3nmtvIQIAACoOI3cAAAAmQrgDAAAwEcIdAACAiRDuAAAATIQLKgAA//XpxILT+s6t+joAlBkjdwAAACZCuAMAADARwh0AAICJEO4AAABMhHAHAABgIlwtC+C/CrtSEgBQozByBwAAYCKM3NUgsYm7bd7HDwiyUyUAAKC6YuQOAADARBi5Q7V37YhldenrRrH1wCnbCc3++yOfZ8127b4NDfCyUyUAKhLhDqggHDYHAFQHHJYFAAAwEcIdAACAiRDuAAAATIRwBwAAYCJcUAGYUIErXAEANwzCHVCNRB6eVWDa6mbP2qESAEBNxWFZAAAAEyHcAQAAmAjhDgAAwEQIdwAAACZCuAMAADARwh0AAICJEO4AAABMhPvcoUaLTdxt7xIAAKhWCHcASqVa3Gj504kVs1zfueWvBaiuCvs74Xf+hsBhWQAAABNh5A4AUDxGPIEahXAHVJWr/gcZefgUz4wFAFQKDssCuCHEJu7W1gOntPXAKXuXAgCVinAHAABgIoQ7AAAAE+GcOwAAUPNwoU+RGLkDAAAwEcIdAACAiRDuAAAATIRz7oBq7trHfXF/PABAcQh3AFCFYhN327sEACZHuANqmMjDs6RPvexdBgCgmiLcAQDM6dpbZQA3CMIdcIO5+rBg5OFTCg1gFBAAzISrZQEAAEyEcAcAAGAi1SLczZ8/X/7+/nJxcVFoaKi2bdtWbPtVq1apdevWcnFxUVBQkD7//HOb+YZhKC4uTo0bN1adOnUUHh6uffv22bTx9/eXxWKxeb366qsVvm0AAABVye7hbuXKlYqJidH06dOVmpqq4OBgRURE6NixY4W237Jli4YMGaLRo0crLS1NkZGRioyM1J49e6xtZs2apXnz5mnBggXaunWrXF1dFRERoQsXLtj09eKLL+ro0aPW14QJEyp1WwEAACqb3cNdQkKCxo4dq5EjR6pNmzZasGCB6tatq0WLFhXafu7cuerVq5eeeeYZ3XbbbXrppZfUvn17vfXWW5Iuj9rNmTNHU6dOVb9+/dS2bVu9//77OnLkiFavXm3TV7169eTj42N9ubq6VvbmAgAAVCq7hrucnBzt3LlT4eHh1mkODg4KDw9XSkpKocukpKTYtJekiIgIa/sDBw4oIyPDpo2Hh4dCQ0ML9Pnqq6+qfv36ateunV577TVdunSpyFovXryorKwsmxcAAEB1Y9dboZw4cUJ5eXny9va2me7t7a1ffvml0GUyMjIKbZ+RkWGdf2VaUW0k6cknn1T79u3l5eWlLVu2KDY2VkePHlVCQkKh642Pj9cLL7xQug0EAACoYjfsfe5iYmKsP7dt21ZOTk569NFHFR8fL2dn5wLtY2NjbZbJysqSr69vldQKAABQUnY9LNugQQM5OjoqMzPTZnpmZqZ8fHwKXcbHx6fY9lf+W5o+JSk0NFSXLl3SwYMHC53v7Owsd3d3mxcAAEB1Y9eROycnJ3Xo0EHJycmKjIyUJOXn5ys5OVnR0dGFLhMWFqbk5GRNmjTJOi0pKUlhYWGSpICAAPn4+Cg5OVkhISGSLo+ybd26VY8//niRtezatUsODg5q1KhRhWwbUN1EHp5l7xKq1I22vQBwhd0Py8bExGjEiBHq2LGjOnfurDlz5ig7O1sjR46UJA0fPlxNmzZVfHy8JGnixInq1q2bZs+erT59+mjFihXasWOHFi5cKEmyWCyaNGmS/va3v6lVq1YKCAjQtGnT1KRJE2uATElJ0datW3X33XerXr16SklJ0VNPPaVHHnlEN910k10+BwAAgIpg93A3ePBgHT9+XHFxccrIyFBISIjWrVtnvSAiPT1dDg7/PXrcpUsXLV++XFOnTtWUKVPUqlUrrV69WoGBgdY2zz77rLKzszVu3DidPn1aXbt21bp16+Ti4iLp8iHWFStWaMaMGbp48aICAgL01FNP2ZxTBwAAUBPZPdxJUnR0dJGHYTdu3Fhg2qBBgzRo0KAi+7NYLHrxxRf14osvFjq/ffv2+v7778tUKwAAQHVm95sYAwAAoOJUi5E7ADemAhc9BHjZpxCTik3cbfM+vradCimNTycWnNZ3btXXAdRgjNwBAACYCCN3gJ1wqw4AQGVg5A4AAMBEGLlDhShwbs+AoCLnoeJtPXCqWvZ1o4pN3K3Iw5c/x9BynkdY3N9WaZVn31697OrE3eWqo9q79rw/zvlDDUO4A4BrXB2oIg+fKndAq0gVGRxRvVz9e1dp4ZkLVm4IHJYFAAAwEUbuANRIZj18zGkMAMqLkTsAAAATIdwBAACYCIdlUSk4tARUvWuvaAVwYyLcAQBwI+PWL6ZDuAOuxpfcDa9ETw6pxNtJFLb+1c2erZB+Kkrk4VnSpxV0G5bCPsuaoDreUqSiPsuS9GPvba0OquPvwP8h3AEAUBH4x2FBZvlMatg/QrigAgAAwEQYuQNw4/q/f41feeIDAJgBI3cAAAAmQrgDAAAwEcIdAACAiRDuAAAATIQLKoAb3NVPNQAA1HyM3AEAAJgII3fAVa4exQoNqKA78AMAUIUYuQMAADARRu6AKsK5bQCAqkC4A1C91bBnOgKAvRHugOJcFSyuPKJqdbNn7VUNblCRh2fZuwQANQjn3AEAAJgI4Q4AAMBECHcAAAAmwjl3qHZiE3fbuwQAAGosRu4AAABMhHAHAABgIoQ7AAAAE+GcOxTv2hvI9p1rnzrsgCdKAABqIsKdiVx7IUL8gCA7VQIAAOyFcAdUgsjDs6RPvexdBqpSIU8zQQXhEXRAqXDOHQAAgIkQ7gAAAEyEw7JAJeGCDACAPTByBwAAYCKEOwAAABMh3AEAAJgI4Q4AAMBEuKACN4TIw7MKTFvd7Fk7VAIAQOVi5A4AAMBECHcAAAAmQrgDAAAwEcIdAACAiXBBRTUWm7jb3iUAAIAaplqM3M2fP1/+/v5ycXFRaGiotm3bVmz7VatWqXXr1nJxcVFQUJA+//xzm/mGYSguLk6NGzdWnTp1FB4ern379tm0OXXqlIYOHSp3d3d5enpq9OjROnfuXIVvGwAAQFWye7hbuXKlYmJiNH36dKWmpio4OFgRERE6duxYoe23bNmiIUOGaPTo0UpLS1NkZKQiIyO1Z88ea5tZs2Zp3rx5WrBggbZu3SpXV1dFRETowoUL1jZDhw7Vjz/+qKSkJK1du1bffPONxo0bV+nbCwAAUJnsHu4SEhI0duxYjRw5Um3atNGCBQtUt25dLVq0qND2c+fOVa9evfTMM8/otttu00svvaT27dvrrbfeknR51G7OnDmaOnWq+vXrp7Zt2+r999/XkSNHtHr1aknSzz//rHXr1undd99VaGiounbtqjfffFMrVqzQkSNHqmrTAQAAKpxdz7nLycnRzp07FRsba53m4OCg8PBwpaSkFLpMSkqKYmJibKZFRERYg9uBAweUkZGh8PBw63wPDw+FhoYqJSVFDz/8sFJSUuTp6amOHTta24SHh8vBwUFbt25V//79C6z34sWLunjxovX9mTNnJElZWVml3/ASuni++MPE16772vYVUtv5i7bvi+jzerXaW/aFnALTCqu5sHYlWa4s/ZRH1jX7pbLXdz1l/Syvde12Fac821zaz680dV3bn82yWVnX/f0pzXZV9O9Bcdt5bd8l+kyu/b4o5edYJQr7TivJ915Ztv86rv7dKNP3d1V+viWtr4T/DymTyuz7eusqSiXWcOV3wjCM67a1a7g7ceKE8vLy5O3tbTPd29tbv/zyS6HLZGRkFNo+IyPDOv/KtOLaNGrUyGZ+rVq15OXlZW1zrfj4eL3wwgsFpvv6+ha1eZXujXLOL5v/Vym9VrbCP4uPStju+suVrR8zKetneaO5/t+PuT63mvB9UZIay7odZd/+6v97UPWfiX37LqnKr+Hs2bPy8PAotg1Xy5ZQbGyszYhhfn6+Tp06pfr168tisSgrK0u+vr76/fff5e7ubsdKcQX7pPphn1Q/7JPqh31SPdl7vxiGobNnz6pJkybXbWvXcNegQQM5OjoqMzPTZnpmZqZ8fHwKXcbHx6fY9lf+m5mZqcaNG9u0CQkJsba59oKNS5cu6dSpU0Wu19nZWc7OzjbTPD09C7Rzd3fnj7GaYZ9UP+yT6od9Uv2wT6one+6X643YXWHXCyqcnJzUoUMHJScnW6fl5+crOTlZYWFhhS4TFhZm016SkpKSrO0DAgLk4+Nj0yYrK0tbt261tgkLC9Pp06e1c+dOa5v169crPz9foaGhFbZ9AAAAVc3uh2VjYmI0YsQIdezYUZ07d9acOXOUnZ2tkSNHSpKGDx+upk2bKj4+XpI0ceJEdevWTbNnz1afPn20YsUK7dixQwsXLpQkWSwWTZo0SX/729/UqlUrBQQEaNq0aWrSpIkiIyMlSbfddpt69eqlsWPHasGCBcrNzVV0dLQefvjhEg13AgAAVFd2D3eDBw/W8ePHFRcXp4yMDIWEhGjdunXWCyLS09Pl4PDfAcYuXbpo+fLlmjp1qqZMmaJWrVpp9erVCgwMtLZ59tlnlZ2drXHjxun06dPq2rWr1q1bJxcXF2ubZcuWKTo6Wj179pSDg4MGDhyoefPmlXk7nJ2dNX369AKHbmE/7JPqh31S/bBPqh/2SfVUk/aLxSjJNbUAAACoEex+E2MAAABUHMIdAACAiRDuAAAATIRwBwAAYCKEuwoyf/58+fv7y8XFRaGhodq2bZu9S7phzJgxQxaLxebVunVr6/wLFy7oiSeeUP369eXm5qaBAwcWuBE2yuebb75R37591aRJE1ksFuuznq8wDENxcXFq3Lix6tSpo/DwcO3bt8+mzalTpzR06FC5u7vL09NTo0eP1rlz1fuZxdXZ9fZJVFRUgb+bXr162bRhn1Sc+Ph4derUSfXq1VOjRo0UGRmpvXv32rQpyXdVenq6+vTpo7p166pRo0Z65plndOnSparcFNMoyT7p3r17gb+Txx57zKZNddwnhLsKsHLlSsXExGj69OlKTU1VcHCwIiIiCjwFA5Xn9ttv19GjR62v7777zjrvqaee0qeffqpVq1Zp06ZNOnLkiAYMGGDHas0nOztbwcHBmj9/fqHzZ82apXnz5mnBggXaunWrXF1dFRERoQsXLljbDB06VD/++KOSkpK0du1affPNNxo3blxVbYLpXG+fSFKvXr1s/m4+/PBDm/nsk4qzadMmPfHEE/r++++VlJSk3Nxc3XvvvcrOzra2ud53VV5envr06aOcnBxt2bJFS5cu1ZIlSxQXF2ePTarxSrJPJGns2LE2fyezZs2yzqu2+8RAuXXu3Nl44oknrO/z8vKMJk2aGPHx8Xas6sYxffp0Izg4uNB5p0+fNmrXrm2sWrXKOu3nn382JBkpKSlVVOGNRZLxySefWN/n5+cbPj4+xmuvvWaddvr0acPZ2dn48MMPDcMwjJ9++smQZGzfvt3a5osvvjAsFovxxx9/VFntZnXtPjEMwxgxYoTRr1+/Ipdhn1SuY8eOGZKMTZs2GYZRsu+qzz//3HBwcDAyMjKsbd5++23D3d3duHjxYtVugAldu08MwzC6detmTJw4schlqus+YeSunHJycrRz506Fh4dbpzk4OCg8PFwpKSl2rOzGsm/fPjVp0kQ333yzhg4dqvT0dEnSzp07lZuba7N/WrduLT8/P/ZPFTlw4IAyMjJs9oGHh4dCQ0Ot+yAlJUWenp7q2LGjtU14eLgcHBy0devWKq/5RrFx40Y1atRIt956qx5//HGdPHnSOo99UrnOnDkjSfLy8pJUsu+qlJQUBQUFWW/yL0kRERHKysrSjz/+WIXVm9O1++SKZcuWqUGDBgoMDFRsbKzOnz9vnVdd94ndn1BR0504cUJ5eXk2O1aSvL299csvv9ipqhtLaGiolixZoltvvVVHjx7VCy+8oL/85S/as2ePMjIy5OTkJE9PT5tlvL29lZGRYZ+CbzBXPufC/kauzMvIyFCjRo1s5teqVUteXl7sp0rSq1cvDRgwQAEBAdq/f7+mTJmi++67TykpKXJ0dGSfVKL8/HxNmjRJd955p/XpSiX5rsrIyCj07+jKPJRdYftEkv7617+qefPmatKkiX744Qc999xz2rt3rxITEyVV331CuEONd99991l/btu2rUJDQ9W8eXN99NFHqlOnjh0rA6qvhx9+2PpzUFCQ2rZtqxYtWmjjxo3q2bOnHSszvyeeeEJ79uyxOTcY9lXUPrn6HNOgoCA1btxYPXv21P79+9WiRYuqLrPEOCxbTg0aNJCjo2OBK5oyMzPl4+Njp6pubJ6enrrlllv022+/ycfHRzk5OTp9+rRNG/ZP1bnyORf3N+Lj41PgAqRLly7p1KlT7KcqcvPNN6tBgwb67bffJLFPKkt0dLTWrl2rDRs2qFmzZtbpJfmu8vHxKfTv6Mo8lE1R+6QwoaGhkmTzd1Id9wnhrpycnJzUoUMHJScnW6fl5+crOTlZYWFhdqzsxnXu3Dnt379fjRs3VocOHVS7dm2b/bN3716lp6ezf6pIQECAfHx8bPZBVlaWtm7dat0HYWFhOn36tHbu3Glts379euXn51u/TFG5Dh8+rJMnT6px48aS2CcVzTAMRUdH65NPPtH69esVEBBgM78k31VhYWHavXu3TehOSkqSu7u72rRpUzUbYiLX2yeF2bVrlyTZ/J1Uy31it0s5TGTFihWGs7OzsWTJEuOnn34yxo0bZ3h6etpcPYPK8/TTTxsbN240Dhw4YGzevNkIDw83GjRoYBw7dswwDMN47LHHDD8/P2P9+vXGjh07jLCwMCMsLMzOVZvL2bNnjbS0NCMtLc2QZCQkJBhpaWnGoUOHDMMwjFdffdXw9PQ0/vnPfxo//PCD0a9fPyMgIMD4888/rX306tXLaNeunbF161bju+++M1q1amUMGTLEXptU4xW3T86ePWtMnjzZSElJMQ4cOGB8/fXXRvv27Y1WrVoZFy5csPbBPqk4jz/+uOHh4WFs3LjROHr0qPV1/vx5a5vrfVddunTJCAwMNO69915j165dxrp164yGDRsasbGx9tikGu96++S3334zXnzxRWPHjh3GgQMHjH/+85/GzTffbNx1113WPqrrPiHcVZA333zT8PPzM5ycnIzOnTsb33//vb1LumEMHjzYaNy4seHk5GQ0bdrUGDx4sPHbb79Z5//555/G+PHjjZtuusmoW7eu0b9/f+Po0aN2rNh8NmzYYEgq8BoxYoRhGJdvhzJt2jTD29vbcHZ2Nnr27Gns3bvXpo+TJ08aQ4YMMdzc3Ax3d3dj5MiRxtmzZ+2wNeZQ3D45f/68ce+99xoNGzY0ateubTRv3twYO3ZsgX+Qsk8qTmH7QpKxePFia5uSfFcdPHjQuO+++4w6deoYDRo0MJ5++mkjNze3irfGHK63T9LT04277rrL8PLyMpydnY2WLVsazzzzjHHmzBmbfqrjPrEYhmFU3TghAAAAKhPn3AEAAJgI4Q4AAMBECHcAAAAmQrgDAAAwEcIdAACAiRDuAAAATIRwBwAAYCKEOwAAABMh3AFAJVuyZIk8PT3tXQaAGwThDgCu4/jx43r88cfl5+cnZ2dn+fj4KCIiQps3b7Z3aQBQQC17FwAA1d3AgQOVk5OjpUuX6uabb1ZmZqaSk5N18uTJKqshJydHTk5OVbY+ADUXI3cAUIzTp0/r22+/1cyZM3X33XerefPm6ty5s2JjY/XAAw9IkhISEhQUFCRXV1f5+vpq/PjxOnfuXJF97t+/X/369ZO3t7fc3NzUqVMnff311zZt/P399dJLL2n48OFyd3fXuHHj1KNHD0VHR9u0O378uJycnJScnFzxGw+gRiLcAUAx3Nzc5ObmptWrV+vixYuFtnFwcNC8efP0448/aunSpVq/fr2effbZIvs8d+6cevfureTkZKWlpalXr17q27ev0tPTbdq9/vrrCg4OVlpamqZNm6YxY8Zo+fLlNnV88MEHatq0qXr06FExGwygxrMYhmHYuwgAqM7+8Y9/aOzYsfrzzz/Vvn17devWTQ8//LDatm1baPuPP/5Yjz32mE6cOCHp8gUVkyZN0unTp4tcR2BgoB577DHryJy/v7/atWunTz75xNrmwoULatKkiRYsWKCHHnpIkhQcHKwBAwZo+vTpFbS1AGo6Ru4A4DoGDhyoI0eOaM2aNerVq5c2btyo9u3ba8mSJZKkr7/+Wj179lTTpk1Vr149DRs2TCdPntT58+cL7e/cuXOaPHmybrvtNnl6esrNzU0///xzgZG7jh072rx3cXHRsGHDtGjRIklSamqq9uzZo6ioqArfZgA1F+EOAErAxcVF99xzj6ZNm6YtW7YoKipK06dP18GDB3X//ferbdu2+sc//qGdO3dq/vz5ki5fBFGYyZMn65NPPtErr7yib7/9Vrt27VJQUFCB9q6urgWWHTNmjJKSknT48GEtXrxYPXr0UPPmzSt+gwHUWFwtCwBl0KZNG61evVo7d+5Ufn6+Zs+eLQeHy/9e/uijj4pddvPmzYqKilL//v0lXR7JO3jwYInWGxQUpI4dO+qdd97R8uXL9dZbb5VrOwCYD+EOAIpx8uRJDRo0SKNGjVLbtm1Vr1497dixQ7NmzVK/fv3UsmVL5ebm6s0331Tfvn21efNmLViwoNg+W7VqpcTERPXt21cWi0XTpk1Tfn5+iWsaM2aMoqOj5erqag2IAHAFh2UBoBhubm4KDQ3VG2+8obvuukuBgYGaNm2axo4dq7feekvBwcFKSEjQzJkzFRgYqGXLlik+Pr7YPhMSEnTTTTepS5cu6tu3ryIiItS+ffsS1zRkyBDVqlVLQ4YMkYuLS3k3EYDJcLUsANQwBw8eVIsWLbR9+/ZShUIANwbCHQDUELm5uTp58qQmT56sAwcO8PgzAIXisCwA1BCbN29W48aNtX379uue1wfgxsXIHQAAgIkwcgcAAGAihDsAAAATIdwBAACYCOEOAADARAh3AAAAJkK4AwAAMBHCHQAAgIkQ7gAAAEzk/wPblB/QF3nJnwAAAABJRU5ErkJggg==",
      "text/plain": [
       "<Figure size 700x500 with 1 Axes>"
      ]
     },
     "metadata": {},
     "output_type": "display_data"
    }
   ],
   "source": [
    "import matplotlib.pyplot as plt\n",
    "\n",
    "plt.rcParams.update({'figure.figsize':(7,5), 'figure.dpi':100})\n",
    "kwargs = dict(alpha=0.6, bins=100, density=True, stacked=True)\n",
    "\n",
    "# Plot Histogram \n",
    "x1 = df[\"Minimum Salary\"]\n",
    "x2 = df[\"Maximum Salary\"]\n",
    "plt.hist(x1,**kwargs, label=\"Min Salary\")\n",
    "plt.hist(x2,**kwargs, label=\"Max Salary\")\n",
    "plt.gca().set(title='Salary Distribution',xlabel=\"Salary\", ylabel=\"Density\")\n",
    "plt.legend()\n"
   ]
  },
  {
   "cell_type": "code",
<<<<<<< HEAD
   "execution_count": 996,
=======
   "execution_count": 893,
>>>>>>> 256a7dbd8ef0e07116f3cb9c19903e6a2492b116
   "metadata": {},
   "outputs": [
    {
     "name": "stderr",
     "output_type": "stream",
     "text": [
      "/var/folders/4q/b59kyw8x60392hk2b9nn2fqm0000gn/T/ipykernel_4835/1134722465.py:1: FutureWarning: The default value of numeric_only in DataFrame.corr is deprecated. In a future version, it will default to False. Select only valid columns or specify the value of numeric_only to silence this warning.\n",
      "  df.corr()\n"
     ]
    },
    {
     "data": {
      "text/html": [
       "<div>\n",
       "<style scoped>\n",
       "    .dataframe tbody tr th:only-of-type {\n",
       "        vertical-align: middle;\n",
       "    }\n",
       "\n",
       "    .dataframe tbody tr th {\n",
       "        vertical-align: top;\n",
       "    }\n",
       "\n",
       "    .dataframe thead th {\n",
       "        text-align: right;\n",
       "    }\n",
       "</style>\n",
       "<table border=\"1\" class=\"dataframe\">\n",
       "  <thead>\n",
       "    <tr style=\"text-align: right;\">\n",
       "      <th></th>\n",
       "      <th>index</th>\n",
       "      <th>Rating</th>\n",
       "      <th>Founded</th>\n",
       "      <th>Easy Apply</th>\n",
       "      <th>Minimum Salary</th>\n",
       "      <th>Maximum Salary</th>\n",
       "      <th>min_size_emp</th>\n",
       "      <th>max_size_emp</th>\n",
<<<<<<< HEAD
=======
       "      <th>Average Salary</th>\n",
>>>>>>> 256a7dbd8ef0e07116f3cb9c19903e6a2492b116
       "    </tr>\n",
       "  </thead>\n",
       "  <tbody>\n",
       "    <tr>\n",
       "      <th>index</th>\n",
       "      <td>1.000000</td>\n",
       "      <td>0.043748</td>\n",
       "      <td>-0.055369</td>\n",
       "      <td>-0.074945</td>\n",
       "      <td>-0.085108</td>\n",
       "      <td>-0.023431</td>\n",
       "      <td>0.084826</td>\n",
       "      <td>0.076461</td>\n",
<<<<<<< HEAD
=======
       "      <td>-0.051434</td>\n",
>>>>>>> 256a7dbd8ef0e07116f3cb9c19903e6a2492b116
       "    </tr>\n",
       "    <tr>\n",
       "      <th>Rating</th>\n",
       "      <td>0.043748</td>\n",
       "      <td>1.000000</td>\n",
       "      <td>0.100847</td>\n",
       "      <td>0.006570</td>\n",
       "      <td>0.076861</td>\n",
       "      <td>0.079217</td>\n",
       "      <td>-0.074527</td>\n",
       "      <td>-0.135620</td>\n",
<<<<<<< HEAD
=======
       "      <td>0.080222</td>\n",
>>>>>>> 256a7dbd8ef0e07116f3cb9c19903e6a2492b116
       "    </tr>\n",
       "    <tr>\n",
       "      <th>Founded</th>\n",
       "      <td>-0.055369</td>\n",
       "      <td>0.100847</td>\n",
       "      <td>1.000000</td>\n",
       "      <td>0.136951</td>\n",
       "      <td>0.085582</td>\n",
       "      <td>0.043711</td>\n",
       "      <td>-0.564596</td>\n",
       "      <td>-0.561052</td>\n",
<<<<<<< HEAD
=======
       "      <td>0.063447</td>\n",
>>>>>>> 256a7dbd8ef0e07116f3cb9c19903e6a2492b116
       "    </tr>\n",
       "    <tr>\n",
       "      <th>Easy Apply</th>\n",
       "      <td>-0.074945</td>\n",
       "      <td>0.006570</td>\n",
       "      <td>0.136951</td>\n",
       "      <td>1.000000</td>\n",
       "      <td>0.087916</td>\n",
       "      <td>0.073650</td>\n",
       "      <td>-0.147348</td>\n",
       "      <td>-0.145244</td>\n",
<<<<<<< HEAD
=======
       "      <td>0.081931</td>\n",
>>>>>>> 256a7dbd8ef0e07116f3cb9c19903e6a2492b116
       "    </tr>\n",
       "    <tr>\n",
       "      <th>Minimum Salary</th>\n",
       "      <td>-0.085108</td>\n",
       "      <td>0.076861</td>\n",
       "      <td>0.085582</td>\n",
       "      <td>0.087916</td>\n",
       "      <td>1.000000</td>\n",
       "      <td>0.896410</td>\n",
       "      <td>0.031215</td>\n",
       "      <td>0.016876</td>\n",
<<<<<<< HEAD
=======
       "      <td>0.966103</td>\n",
>>>>>>> 256a7dbd8ef0e07116f3cb9c19903e6a2492b116
       "    </tr>\n",
       "    <tr>\n",
       "      <th>Maximum Salary</th>\n",
       "      <td>-0.023431</td>\n",
       "      <td>0.079217</td>\n",
       "      <td>0.043711</td>\n",
       "      <td>0.073650</td>\n",
       "      <td>0.896410</td>\n",
       "      <td>1.000000</td>\n",
       "      <td>0.049087</td>\n",
       "      <td>0.030441</td>\n",
<<<<<<< HEAD
=======
       "      <td>0.980446</td>\n",
>>>>>>> 256a7dbd8ef0e07116f3cb9c19903e6a2492b116
       "    </tr>\n",
       "    <tr>\n",
       "      <th>min_size_emp</th>\n",
       "      <td>0.084826</td>\n",
       "      <td>-0.074527</td>\n",
       "      <td>-0.564596</td>\n",
       "      <td>-0.147348</td>\n",
       "      <td>0.031215</td>\n",
       "      <td>0.049087</td>\n",
       "      <td>1.000000</td>\n",
       "      <td>0.921144</td>\n",
<<<<<<< HEAD
=======
       "      <td>0.042424</td>\n",
>>>>>>> 256a7dbd8ef0e07116f3cb9c19903e6a2492b116
       "    </tr>\n",
       "    <tr>\n",
       "      <th>max_size_emp</th>\n",
       "      <td>0.076461</td>\n",
       "      <td>-0.135620</td>\n",
       "      <td>-0.561052</td>\n",
       "      <td>-0.145244</td>\n",
       "      <td>0.016876</td>\n",
       "      <td>0.030441</td>\n",
       "      <td>0.921144</td>\n",
       "      <td>1.000000</td>\n",
<<<<<<< HEAD
=======
       "      <td>0.025208</td>\n",
       "    </tr>\n",
       "    <tr>\n",
       "      <th>Average Salary</th>\n",
       "      <td>-0.051434</td>\n",
       "      <td>0.080222</td>\n",
       "      <td>0.063447</td>\n",
       "      <td>0.081931</td>\n",
       "      <td>0.966103</td>\n",
       "      <td>0.980446</td>\n",
       "      <td>0.042424</td>\n",
       "      <td>0.025208</td>\n",
       "      <td>1.000000</td>\n",
>>>>>>> 256a7dbd8ef0e07116f3cb9c19903e6a2492b116
       "    </tr>\n",
       "  </tbody>\n",
       "</table>\n",
       "</div>"
      ],
      "text/plain": [
       "                   index    Rating   Founded  Easy Apply  Minimum Salary  \\\n",
       "index           1.000000  0.043748 -0.055369   -0.074945       -0.085108   \n",
       "Rating          0.043748  1.000000  0.100847    0.006570        0.076861   \n",
       "Founded        -0.055369  0.100847  1.000000    0.136951        0.085582   \n",
       "Easy Apply     -0.074945  0.006570  0.136951    1.000000        0.087916   \n",
       "Minimum Salary -0.085108  0.076861  0.085582    0.087916        1.000000   \n",
       "Maximum Salary -0.023431  0.079217  0.043711    0.073650        0.896410   \n",
       "min_size_emp    0.084826 -0.074527 -0.564596   -0.147348        0.031215   \n",
       "max_size_emp    0.076461 -0.135620 -0.561052   -0.145244        0.016876   \n",
<<<<<<< HEAD
       "\n",
       "                Maximum Salary  min_size_emp  max_size_emp  \n",
       "index                -0.023431      0.084826      0.076461  \n",
       "Rating                0.079217     -0.074527     -0.135620  \n",
       "Founded               0.043711     -0.564596     -0.561052  \n",
       "Easy Apply            0.073650     -0.147348     -0.145244  \n",
       "Minimum Salary        0.896410      0.031215      0.016876  \n",
       "Maximum Salary        1.000000      0.049087      0.030441  \n",
       "min_size_emp          0.049087      1.000000      0.921144  \n",
       "max_size_emp          0.030441      0.921144      1.000000  "
      ]
     },
     "execution_count": 996,
=======
       "Average Salary -0.051434  0.080222  0.063447    0.081931        0.966103   \n",
       "\n",
       "                Maximum Salary  min_size_emp  max_size_emp  Average Salary  \n",
       "index                -0.023431      0.084826      0.076461       -0.051434  \n",
       "Rating                0.079217     -0.074527     -0.135620        0.080222  \n",
       "Founded               0.043711     -0.564596     -0.561052        0.063447  \n",
       "Easy Apply            0.073650     -0.147348     -0.145244        0.081931  \n",
       "Minimum Salary        0.896410      0.031215      0.016876        0.966103  \n",
       "Maximum Salary        1.000000      0.049087      0.030441        0.980446  \n",
       "min_size_emp          0.049087      1.000000      0.921144        0.042424  \n",
       "max_size_emp          0.030441      0.921144      1.000000        0.025208  \n",
       "Average Salary        0.980446      0.042424      0.025208        1.000000  "
      ]
     },
     "execution_count": 893,
>>>>>>> 256a7dbd8ef0e07116f3cb9c19903e6a2492b116
     "metadata": {},
     "output_type": "execute_result"
    }
   ],
   "source": [
    "df.corr()"
   ]
  },
  {
   "cell_type": "code",
<<<<<<< HEAD
   "execution_count": 997,
=======
   "execution_count": 901,
>>>>>>> 256a7dbd8ef0e07116f3cb9c19903e6a2492b116
   "metadata": {},
   "outputs": [
    {
     "name": "stdout",
     "output_type": "stream",
     "text": [
      "Correlation is better as the number approaches 1 or -1\n",
      "0.07921655410372476\n",
      "Correlation is better as the number approaches 1 or -1\n",
      "0.07686134492809836\n",
      "Correlation is better as the number approaches 1 or -1\n",
      "0.08022171832296525\n"
     ]
    }
   ],
   "source": [
    "def correlation (entry1,entry2):\n",
    "    \"\"\"Returns a correlation between 2 columns\n",
    "        Correlation is good if the number is closer to 1 or -1\n",
    "\n",
    "    Args:\n",
    "        entry1 (_type_): float column\n",
    "        entry2 (_type_): float column\n",
    "\n",
    "    Returns:\n",
    "        float : correlation between 2 columns\n",
    "    \"\"\"\n",
    "    print(f\"Correlation is better as the number approaches 1 or -1\")\n",
    "    return entry1.corr(entry2)\n",
    "    \n",
    "\n",
    "    \n",
    "print(correlation(df[\"Rating\"],df[\"Maximum Salary\"]))\n",
    "print(correlation(df[\"Rating\"],df[\"Minimum Salary\"]))\n",
    "df[\"Average Salary\"]= (df[\"Maximum Salary\"]+df[\"Minimum Salary\"])/2\n",
    "print(correlation(df[\"Rating\"],df[\"Average Salary\"]))\n",
    "\n",
    "\n",
    "\n"
   ]
<<<<<<< HEAD
  },
  {
   "attachments": {},
   "cell_type": "markdown",
   "metadata": {},
   "source": [
    "whats this? :O"
   ]
  },
  {
   "cell_type": "code",
   "execution_count": 998,
   "metadata": {},
   "outputs": [
    {
     "data": {
      "text/plain": [
       "<matplotlib.collections.PathCollection at 0x191a96f50>"
      ]
     },
     "execution_count": 998,
     "metadata": {},
     "output_type": "execute_result"
    },
    {
     "data": {
      "image/png": "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",
      "text/plain": [
       "<Figure size 700x500 with 1 Axes>"
      ]
     },
     "metadata": {},
     "output_type": "display_data"
    }
   ],
   "source": [
    "plt.scatter(x = df[\"Rating\"], y = df[\"Average Salary\"])\n",
    "plt.gca().set(title=\"Rating-Salary correlation\",xlabel=\"Rating\", ylabel=\"Salary\")"
   ]
=======
>>>>>>> 256a7dbd8ef0e07116f3cb9c19903e6a2492b116
  }
 ],
 "metadata": {
  "kernelspec": {
   "display_name": "venv",
   "language": "python",
   "name": "python3"
  },
  "language_info": {
   "codemirror_mode": {
    "name": "ipython",
    "version": 3
   },
   "file_extension": ".py",
   "mimetype": "text/x-python",
   "name": "python",
   "nbconvert_exporter": "python",
   "pygments_lexer": "ipython3",
   "version": "3.11.2"
  },
  "orig_nbformat": 4
 },
 "nbformat": 4,
 "nbformat_minor": 2
}
